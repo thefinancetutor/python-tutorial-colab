{
  "nbformat": 4,
  "nbformat_minor": 0,
  "metadata": {
    "colab": {
      "name": "Lecture_01.ipynb",
      "provenance": [],
      "authorship_tag": "ABX9TyOZtN3DmcyT2t4NKLX9DaU+",
      "include_colab_link": true
    },
    "kernelspec": {
      "name": "python3",
      "display_name": "Python 3"
    },
    "language_info": {
      "name": "python"
    }
  },
  "cells": [
    {
      "cell_type": "markdown",
      "metadata": {
        "id": "view-in-github",
        "colab_type": "text"
      },
      "source": [
        "<a href=\"https://colab.research.google.com/github/thefinancetutor/python-tutorial-colab/blob/main/Lecture_01.ipynb\" target=\"_parent\"><img src=\"https://colab.research.google.com/assets/colab-badge.svg\" alt=\"Open In Colab\"/></a>"
      ]
    },
    {
      "cell_type": "markdown",
      "metadata": {
        "id": "yVUwcclnvLn0"
      },
      "source": [
        "**Introduction to Python**"
      ]
    },
    {
      "cell_type": "markdown",
      "metadata": {
        "id": "wxyKFJyovUhB"
      },
      "source": [
        "**Basic Algebra**\n"
      ]
    },
    {
      "cell_type": "markdown",
      "metadata": {
        "id": "VR3Lw_uyvwuF"
      },
      "source": [
        "Let's see how algebra works in Python"
      ]
    },
    {
      "cell_type": "code",
      "metadata": {
        "colab": {
          "base_uri": "https://localhost:8080/"
        },
        "id": "Pca5C3c1yTQ5",
        "outputId": "4dbd1a4f-5766-4b7c-bc72-5cf5b3d1c604"
      },
      "source": [
        "2+3"
      ],
      "execution_count": 2,
      "outputs": [
        {
          "output_type": "execute_result",
          "data": {
            "text/plain": [
              "5"
            ]
          },
          "metadata": {
            "tags": []
          },
          "execution_count": 2
        }
      ]
    },
    {
      "cell_type": "code",
      "metadata": {
        "colab": {
          "base_uri": "https://localhost:8080/"
        },
        "id": "JB6s_6myv0wW",
        "outputId": "a5bb8847-2d44-477c-a64b-72a1e1553669"
      },
      "source": [
        "2*3"
      ],
      "execution_count": 3,
      "outputs": [
        {
          "output_type": "execute_result",
          "data": {
            "text/plain": [
              "6"
            ]
          },
          "metadata": {
            "tags": []
          },
          "execution_count": 3
        }
      ]
    },
    {
      "cell_type": "code",
      "metadata": {
        "colab": {
          "base_uri": "https://localhost:8080/"
        },
        "id": "IoX-1RWzv3mE",
        "outputId": "9abe3fb3-adef-4cec-c68b-8ad05b45c88f"
      },
      "source": [
        "6*3+5"
      ],
      "execution_count": 4,
      "outputs": [
        {
          "output_type": "execute_result",
          "data": {
            "text/plain": [
              "23"
            ]
          },
          "metadata": {
            "tags": []
          },
          "execution_count": 4
        }
      ]
    },
    {
      "cell_type": "code",
      "metadata": {
        "colab": {
          "base_uri": "https://localhost:8080/"
        },
        "id": "9V6osDUjv7QO",
        "outputId": "7e5e78a8-1a6d-4394-dfae-7ba512d32ae7"
      },
      "source": [
        "6*(3+5)"
      ],
      "execution_count": 5,
      "outputs": [
        {
          "output_type": "execute_result",
          "data": {
            "text/plain": [
              "48"
            ]
          },
          "metadata": {
            "tags": []
          },
          "execution_count": 5
        }
      ]
    },
    {
      "cell_type": "markdown",
      "metadata": {
        "id": "LLfmZ5d9v92D"
      },
      "source": [
        "To exponentiate, use ** together"
      ]
    },
    {
      "cell_type": "code",
      "metadata": {
        "colab": {
          "base_uri": "https://localhost:8080/"
        },
        "id": "4nOXUvaOwBXP",
        "outputId": "2a0582cf-d3fe-481f-9ff9-0418946a7cd4"
      },
      "source": [
        "2**3"
      ],
      "execution_count": 6,
      "outputs": [
        {
          "output_type": "execute_result",
          "data": {
            "text/plain": [
              "8"
            ]
          },
          "metadata": {
            "tags": []
          },
          "execution_count": 6
        }
      ]
    },
    {
      "cell_type": "markdown",
      "metadata": {
        "id": "2v1ApiPOwtC9"
      },
      "source": [
        "**Defining Variables**"
      ]
    },
    {
      "cell_type": "code",
      "metadata": {
        "colab": {
          "base_uri": "https://localhost:8080/"
        },
        "id": "AV1gR9pAwwSZ",
        "outputId": "cf650210-26d9-442f-b8fd-b17055fca259"
      },
      "source": [
        "a=3.0\n",
        "b=6.0\n",
        "c=a*b\n",
        "c*a"
      ],
      "execution_count": 7,
      "outputs": [
        {
          "output_type": "execute_result",
          "data": {
            "text/plain": [
              "54.0"
            ]
          },
          "metadata": {
            "tags": []
          },
          "execution_count": 7
        }
      ]
    },
    {
      "cell_type": "markdown",
      "metadata": {
        "id": "QFlwFEL9w1F0"
      },
      "source": [
        "**Defining Functions**"
      ]
    },
    {
      "cell_type": "code",
      "metadata": {
        "id": "0n4BgAUEw3uW"
      },
      "source": [
        "def f(x):\n",
        "  return x**2"
      ],
      "execution_count": 8,
      "outputs": []
    },
    {
      "cell_type": "code",
      "metadata": {
        "colab": {
          "base_uri": "https://localhost:8080/"
        },
        "id": "FpDbZg7kw_ZF",
        "outputId": "26195c6b-2a5f-4e00-8513-a915d7ae3d08"
      },
      "source": [
        "f(3)"
      ],
      "execution_count": 9,
      "outputs": [
        {
          "output_type": "execute_result",
          "data": {
            "text/plain": [
              "9"
            ]
          },
          "metadata": {
            "tags": []
          },
          "execution_count": 9
        }
      ]
    },
    {
      "cell_type": "code",
      "metadata": {
        "colab": {
          "base_uri": "https://localhost:8080/"
        },
        "id": "43bMeUznxBnG",
        "outputId": "c32c6cea-a9c9-4e8d-98c9-dc1dbae55702"
      },
      "source": [
        "f(4.66667)"
      ],
      "execution_count": 10,
      "outputs": [
        {
          "output_type": "execute_result",
          "data": {
            "text/plain": [
              "21.777808888899997"
            ]
          },
          "metadata": {
            "tags": []
          },
          "execution_count": 10
        }
      ]
    },
    {
      "cell_type": "markdown",
      "metadata": {
        "id": "OhR1KS46xF9k"
      },
      "source": [
        "**Discounting Cash Flows**"
      ]
    },
    {
      "cell_type": "markdown",
      "metadata": {
        "id": "oMB3QXoxxRaM"
      },
      "source": [
        "Let's build a function that discounts single cash flows: $$ PV = \\frac{FV}{(1 + r)^t} $$"
      ]
    },
    {
      "cell_type": "code",
      "metadata": {
        "id": "Mze69-Z0yaLl"
      },
      "source": [
        "def pv_cf(fv,r,t):\n",
        "  return fv/(1+r)**t"
      ],
      "execution_count": 11,
      "outputs": []
    },
    {
      "cell_type": "code",
      "metadata": {
        "colab": {
          "base_uri": "https://localhost:8080/"
        },
        "id": "Lwhx3vyyyhSQ",
        "outputId": "f4e59acc-be94-47dc-a667-1b59cf1f6241"
      },
      "source": [
        "pv_cf(100,.05,2)"
      ],
      "execution_count": 12,
      "outputs": [
        {
          "output_type": "execute_result",
          "data": {
            "text/plain": [
              "90.70294784580499"
            ]
          },
          "metadata": {
            "tags": []
          },
          "execution_count": 12
        }
      ]
    },
    {
      "cell_type": "markdown",
      "metadata": {
        "id": "oM7AXti7yRcs"
      },
      "source": [
        "Annuities"
      ]
    },
    {
      "cell_type": "markdown",
      "metadata": {
        "id": "eYtsIuCn3GhN"
      },
      "source": [
        "$$ PV = \\frac{C}{(1 + r)} + \\frac{C}{(1 + r)^2} + \\frac{C}{(1 + r)^3} + \\frac{C}{(1 + r)^4} ... + \\frac{C}{(1 + r)^N} $$ "
      ]
    },
    {
      "cell_type": "code",
      "metadata": {
        "id": "tt05VHIDxUKH"
      },
      "source": [
        "def pv_annuity(c,r,n):\n",
        "  pv=0\n",
        "  t=1\n",
        "  while t<n+1:\n",
        "    pv=pv+c/(1+r)**t\n",
        "    t=t+1\n",
        "  return pv"
      ],
      "execution_count": 13,
      "outputs": []
    },
    {
      "cell_type": "code",
      "metadata": {
        "colab": {
          "base_uri": "https://localhost:8080/"
        },
        "id": "AS7QQCMzyK51",
        "outputId": "70206b2e-f818-431f-d2d9-9d5d697503f4"
      },
      "source": [
        "pv_annuity(100,0.05,10)"
      ],
      "execution_count": 14,
      "outputs": [
        {
          "output_type": "execute_result",
          "data": {
            "text/plain": [
              "772.1734929184811"
            ]
          },
          "metadata": {
            "tags": []
          },
          "execution_count": 14
        }
      ]
    },
    {
      "cell_type": "code",
      "metadata": {
        "id": "l8TXI4Rj3K4e"
      },
      "source": [
        "def pv_annuity(c, r, n):\n",
        "  pv = 0\n",
        "  t = 1\n",
        "  while t < n + 1:\n",
        "    pv = pv + c / (1 + r)**t\n",
        "    t = t + 1\n",
        "  return pv"
      ],
      "execution_count": 15,
      "outputs": []
    },
    {
      "cell_type": "code",
      "metadata": {
        "colab": {
          "base_uri": "https://localhost:8080/"
        },
        "id": "hETkYTbs3Mkw",
        "outputId": "969573f2-5589-47eb-b312-82c328e3535d"
      },
      "source": [
        "pv_annuity(100, 0.05, 10)"
      ],
      "execution_count": 16,
      "outputs": [
        {
          "output_type": "execute_result",
          "data": {
            "text/plain": [
              "772.1734929184811"
            ]
          },
          "metadata": {
            "tags": []
          },
          "execution_count": 16
        }
      ]
    },
    {
      "cell_type": "markdown",
      "metadata": {
        "id": "2tsYQQB7zi8Y"
      },
      "source": [
        "\n",
        "Perpetuities\n",
        "$$ PV = \\frac{C}{(1 + r)} + \\frac{C}{(1 + r)^2} + \\frac{C}{(1 + r)^3} + \\frac{C}{(1 + r)^4} ... = \\frac{C}{r} $$\n",
        "\n",
        "We can use the annuity formula to approximate the present value of a perpetuity by choosing $N$ large enough.\n"
      ]
    },
    {
      "cell_type": "code",
      "metadata": {
        "colab": {
          "base_uri": "https://localhost:8080/"
        },
        "id": "WC-0BFgDy-fZ",
        "outputId": "fe32fbe8-b6e3-4645-faf5-d0dade739a1f"
      },
      "source": [
        "pv_annuity(100, 0.05, 10000)"
      ],
      "execution_count": 17,
      "outputs": [
        {
          "output_type": "execute_result",
          "data": {
            "text/plain": [
              "1999.999999999994"
            ]
          },
          "metadata": {
            "tags": []
          },
          "execution_count": 17
        }
      ]
    },
    {
      "cell_type": "markdown",
      "metadata": {
        "id": "YkDXTg9H0DBp"
      },
      "source": [
        "And here is the closed-form solution using $$\\frac{C}{r} $$"
      ]
    },
    {
      "cell_type": "code",
      "metadata": {
        "colab": {
          "base_uri": "https://localhost:8080/"
        },
        "id": "_mY0n0W3z8Xj",
        "outputId": "c696611e-a45b-4549-95d1-f47797b59dfd"
      },
      "source": [
        "100/.05"
      ],
      "execution_count": 18,
      "outputs": [
        {
          "output_type": "execute_result",
          "data": {
            "text/plain": [
              "2000.0"
            ]
          },
          "metadata": {
            "tags": []
          },
          "execution_count": 18
        }
      ]
    },
    {
      "cell_type": "markdown",
      "metadata": {
        "id": "TtMOU70F0KlI"
      },
      "source": [
        "**NumPy and PyPlot**"
      ]
    },
    {
      "cell_type": "markdown",
      "metadata": {
        "id": "wW1gs2jO0Nl0"
      },
      "source": [
        "These are two important libraries that come up frequently. NumPy is a numerical library and PyPlot is a graphical plotting library. If you want to use them you need to add them in first."
      ]
    },
    {
      "cell_type": "code",
      "metadata": {
        "id": "Ia0nJ3Qmz-mP"
      },
      "source": [
        "import numpy as np\n",
        "import matplotlib.pyplot as plt"
      ],
      "execution_count": 19,
      "outputs": []
    },
    {
      "cell_type": "code",
      "metadata": {
        "colab": {
          "base_uri": "https://localhost:8080/"
        },
        "id": "JHnDodUw0XzM",
        "outputId": "3ad87614-897e-45d2-f39c-9ce9bebd45df"
      },
      "source": [
        "a = np.arange(0.0, 2.1, 0.05)\n",
        "a"
      ],
      "execution_count": 20,
      "outputs": [
        {
          "output_type": "execute_result",
          "data": {
            "text/plain": [
              "array([0.  , 0.05, 0.1 , 0.15, 0.2 , 0.25, 0.3 , 0.35, 0.4 , 0.45, 0.5 ,\n",
              "       0.55, 0.6 , 0.65, 0.7 , 0.75, 0.8 , 0.85, 0.9 , 0.95, 1.  , 1.05,\n",
              "       1.1 , 1.15, 1.2 , 1.25, 1.3 , 1.35, 1.4 , 1.45, 1.5 , 1.55, 1.6 ,\n",
              "       1.65, 1.7 , 1.75, 1.8 , 1.85, 1.9 , 1.95, 2.  , 2.05])"
            ]
          },
          "metadata": {
            "tags": []
          },
          "execution_count": 20
        }
      ]
    },
    {
      "cell_type": "code",
      "metadata": {
        "colab": {
          "base_uri": "https://localhost:8080/",
          "height": 281
        },
        "id": "1vEAkpYF0iMG",
        "outputId": "1221244f-bd98-4dac-b2ad-6615dfe3448e"
      },
      "source": [
        "plt.plot(a, np.exp(a))\n",
        "plt.title('The exponential of a NumPy array')\n",
        "plt.show()"
      ],
      "execution_count": 21,
      "outputs": [
        {
          "output_type": "display_data",
          "data": {
            "image/png": "[encoded data removed]",
            "text/plain": [
              "<Figure size 432x288 with 1 Axes>"
            ]
          },
          "metadata": {
            "tags": [],
            "needs_background": "light"
          }
        }
      ]
    },
    {
      "cell_type": "markdown",
      "metadata": {
        "id": "Q_qdDIim0r3B"
      },
      "source": [
        "**Bond Pricing**"
      ]
    },
    {
      "cell_type": "markdown",
      "metadata": {
        "id": "Pk7ovTFH0tkg"
      },
      "source": [
        "Let's combine everything we learned and write a function to price a bond \n",
        "$$ PV = \\frac{C}{(1 + r)} + \\frac{C}{(1 + r)^2} + \\frac{C}{(1 + r)^3} + \\frac{C}{(1 + r)^4} ... + \\frac{C}{(1 + r)^N} + \\frac{F}{(1 + r)^N} $$ "
      ]
    },
    {
      "cell_type": "code",
      "metadata": {
        "id": "RjoiAooe0nad"
      },
      "source": [
        "def pv_bond(pmt, r, n, fv):\n",
        "  pv = 0\n",
        "  t = 1\n",
        "  while t < n + 1:\n",
        "    pv = pv + pmt / (1 + r)**t\n",
        "    t = t + 1\n",
        "  pv = pv + fv / (1 + r)**n\n",
        "  return np.round(pv, 2)\n",
        "\n"
      ],
      "execution_count": 22,
      "outputs": []
    },
    {
      "cell_type": "code",
      "metadata": {
        "colab": {
          "base_uri": "https://localhost:8080/"
        },
        "id": "3zhHlc9G0-1p",
        "outputId": "ff3e4759-1e7f-430b-9984-41ef8dee6b39"
      },
      "source": [
        "pv_bond(50, 0.05, 30, 1000)"
      ],
      "execution_count": 23,
      "outputs": [
        {
          "output_type": "execute_result",
          "data": {
            "text/plain": [
              "1000.0"
            ]
          },
          "metadata": {
            "tags": []
          },
          "execution_count": 23
        }
      ]
    },
    {
      "cell_type": "code",
      "metadata": {
        "colab": {
          "base_uri": "https://localhost:8080/"
        },
        "id": "sRvTJkRW1CLF",
        "outputId": "3795e0f3-cb38-44ea-bc06-e344230c4914"
      },
      "source": [
        "r = np.arange(0.0, 0.205, 0.005)\n",
        "r"
      ],
      "execution_count": 24,
      "outputs": [
        {
          "output_type": "execute_result",
          "data": {
            "text/plain": [
              "array([0.   , 0.005, 0.01 , 0.015, 0.02 , 0.025, 0.03 , 0.035, 0.04 ,\n",
              "       0.045, 0.05 , 0.055, 0.06 , 0.065, 0.07 , 0.075, 0.08 , 0.085,\n",
              "       0.09 , 0.095, 0.1  , 0.105, 0.11 , 0.115, 0.12 , 0.125, 0.13 ,\n",
              "       0.135, 0.14 , 0.145, 0.15 , 0.155, 0.16 , 0.165, 0.17 , 0.175,\n",
              "       0.18 , 0.185, 0.19 , 0.195, 0.2  ])"
            ]
          },
          "metadata": {
            "tags": []
          },
          "execution_count": 24
        }
      ]
    },
    {
      "cell_type": "code",
      "metadata": {
        "colab": {
          "base_uri": "https://localhost:8080/",
          "height": 295
        },
        "id": "6kd6rqqT1EBs",
        "outputId": "a9eae178-2259-4cb8-e465-ab1981980330"
      },
      "source": [
        "plt.plot(100*r, pv_bond(50, r, 30, 1000))\n",
        "plt.title('Bond Price vs. Yield')\n",
        "plt.xlabel('Yield (%)')\n",
        "plt.ylabel('Price ($)')\n",
        "plt.show()"
      ],
      "execution_count": 25,
      "outputs": [
        {
          "output_type": "display_data",
          "data": {
            "image/png": "[encoded data removed]",
            "text/plain": [
              "<Figure size 432x288 with 1 Axes>"
            ]
          },
          "metadata": {
            "tags": [],
            "needs_background": "light"
          }
        }
      ]
    },
    {
      "cell_type": "markdown",
      "metadata": {
        "id": "TVJPTzMG1NaS"
      },
      "source": [
        "**Options**"
      ]
    },
    {
      "cell_type": "markdown",
      "metadata": {
        "id": "C1o6vFPc1Z5P"
      },
      "source": [
        "Let's learn more about Python functions by using them to model derivative prices which are functions of underlying asset prices"
      ]
    },
    {
      "cell_type": "code",
      "metadata": {
        "colab": {
          "base_uri": "https://localhost:8080/"
        },
        "id": "XRlnWb931Kwy",
        "outputId": "50c2b69c-5de3-403a-8954-dd15d146efa5"
      },
      "source": [
        "S = np.arange(360, 530, 10)\n",
        "S"
      ],
      "execution_count": 26,
      "outputs": [
        {
          "output_type": "execute_result",
          "data": {
            "text/plain": [
              "array([360, 370, 380, 390, 400, 410, 420, 430, 440, 450, 460, 470, 480,\n",
              "       490, 500, 510, 520])"
            ]
          },
          "metadata": {
            "tags": []
          },
          "execution_count": 26
        }
      ]
    },
    {
      "cell_type": "code",
      "metadata": {
        "id": "sSHo-j394rFj"
      },
      "source": [
        "def call_payoff(S,K):\n",
        "  return np.maximum(S-K,0)"
      ],
      "execution_count": 27,
      "outputs": []
    },
    {
      "cell_type": "code",
      "metadata": {
        "id": "rwkyQq9_6uMm"
      },
      "source": [
        "K1=420\n",
        "K2=440\n",
        "K3=460"
      ],
      "execution_count": 28,
      "outputs": []
    },
    {
      "cell_type": "markdown",
      "metadata": {
        "id": "-Fjv36Es6-4P"
      },
      "source": [
        "Let's make a diagram of the payoff of being long one call option with strike=420"
      ]
    },
    {
      "cell_type": "code",
      "metadata": {
        "colab": {
          "base_uri": "https://localhost:8080/",
          "height": 295
        },
        "id": "SBozwy9u6PDA",
        "outputId": "e1a83b8f-3fcd-4529-d293-1de657c4f456"
      },
      "source": [
        "plt.plot(S, call_payoff(S,K1))\n",
        "plt.title('Call Payoff Diagram')\n",
        "plt.xlabel('Stock Price at Maturity')\n",
        "plt.ylabel('Option Payoff')\n",
        "plt.show()"
      ],
      "execution_count": 29,
      "outputs": [
        {
          "output_type": "display_data",
          "data": {
            "image/png": "[encoded data removed]",
            "text/plain": [
              "<Figure size 432x288 with 1 Axes>"
            ]
          },
          "metadata": {
            "tags": [],
            "needs_background": "light"
          }
        }
      ]
    },
    {
      "cell_type": "markdown",
      "metadata": {
        "id": "DxIxefeg7Fxd"
      },
      "source": [
        "Let's make a diagram of a covered call with strike of 440. A covered call is a portfolio long the stock and short the call option."
      ]
    },
    {
      "cell_type": "code",
      "metadata": {
        "colab": {
          "base_uri": "https://localhost:8080/",
          "height": 295
        },
        "id": "QRBzuhUl6ebS",
        "outputId": "dbb048db-1c44-4e53-9f8e-1f649b297978"
      },
      "source": [
        "plt.plot(S, S - call_payoff(S,K3))\n",
        "plt.title('Covered Call Payoff Diagram')\n",
        "plt.xlabel('Stock Price at Maturity')\n",
        "plt.ylabel('Payoff')\n",
        "plt.show()"
      ],
      "execution_count": 30,
      "outputs": [
        {
          "output_type": "display_data",
          "data": {
            "image/png": "[encoded data removed]",
            "text/plain": [
              "<Figure size 432x288 with 1 Axes>"
            ]
          },
          "metadata": {
            "tags": [],
            "needs_background": "light"
          }
        }
      ]
    },
    {
      "cell_type": "markdown",
      "metadata": {
        "id": "zFU12Xxg7Pae"
      },
      "source": [
        "Let's make a diagram of the payoff to a bull call spread. A bull call spread is long a call with a low strike (e.g. 420) and short a high strike (e.g. 460)"
      ]
    },
    {
      "cell_type": "code",
      "metadata": {
        "colab": {
          "base_uri": "https://localhost:8080/",
          "height": 295
        },
        "id": "11bVvSiI63wG",
        "outputId": "0e3e4de5-e88a-400e-b0e9-fed005b10457"
      },
      "source": [
        "plt.plot(S, call_payoff(S,K1)-call_payoff(S,K3))\n",
        "plt.title('Call Bull Spread Payoff Diagram')\n",
        "plt.xlabel('Stock Price at Maturity')\n",
        "plt.ylabel('Payoff')\n",
        "plt.show()"
      ],
      "execution_count": 31,
      "outputs": [
        {
          "output_type": "display_data",
          "data": {
            "image/png": "[encoded data removed]",
            "text/plain": [
              "<Figure size 432x288 with 1 Axes>"
            ]
          },
          "metadata": {
            "tags": [],
            "needs_background": "light"
          }
        }
      ]
    },
    {
      "cell_type": "markdown",
      "metadata": {
        "id": "mXpEpnWT8aIe"
      },
      "source": [
        "Let's do the same thing for a put option:"
      ]
    },
    {
      "cell_type": "code",
      "metadata": {
        "id": "euYAOzhh8RAB"
      },
      "source": [
        "def put_payoff(S,K):\n",
        "  return np.maximum(K-S,0)"
      ],
      "execution_count": 32,
      "outputs": []
    },
    {
      "cell_type": "code",
      "metadata": {
        "colab": {
          "base_uri": "https://localhost:8080/",
          "height": 295
        },
        "id": "masori7o8YTe",
        "outputId": "aa49727b-da82-4efe-cf30-9d4da677ab5f"
      },
      "source": [
        "plt.plot(S, put_payoff(S,K2))\n",
        "plt.title('Put Payoff Diagram')\n",
        "plt.xlabel('Stock Price at Maturity')\n",
        "plt.ylabel('Payoff')\n",
        "plt.show()"
      ],
      "execution_count": 33,
      "outputs": [
        {
          "output_type": "display_data",
          "data": {
            "image/png": "[encoded data removed]",
            "text/plain": [
              "<Figure size 432x288 with 1 Axes>"
            ]
          },
          "metadata": {
            "tags": [],
            "needs_background": "light"
          }
        }
      ]
    },
    {
      "cell_type": "markdown",
      "metadata": {
        "id": "QO1_GtVD9DQT"
      },
      "source": [
        "A long straddle is a portfolio that is long both a put and a call with the same strike price"
      ]
    },
    {
      "cell_type": "code",
      "metadata": {
        "colab": {
          "base_uri": "https://localhost:8080/",
          "height": 295
        },
        "id": "CXB_GWed8hpE",
        "outputId": "661eabbf-8e0d-46f8-bbb8-771e39945c63"
      },
      "source": [
        "plt.plot(S, put_payoff(S,K2) + call_payoff(S,K2))\n",
        "plt.grid('True')\n",
        "plt.axhline(y=0.0, color='r', linestyle='-')\n",
        "plt.title('Long Straddle Payoff Diagram')\n",
        "plt.xlabel('Stock Price at Maturity')\n",
        "plt.ylabel('Payoff')\n",
        "plt.show()"
      ],
      "execution_count": 35,
      "outputs": [
        {
          "output_type": "display_data",
          "data": {
            "image/png": "[encoded data removed]",
            "text/plain": [
              "<Figure size 432x288 with 1 Axes>"
            ]
          },
          "metadata": {
            "tags": [],
            "needs_background": "light"
          }
        }
      ]
    },
    {
      "cell_type": "code",
      "metadata": {
        "id": "0Ly20VuY9OJG"
      },
      "source": [
        ""
      ],
      "execution_count": 34,
      "outputs": []
    }
  ]
}
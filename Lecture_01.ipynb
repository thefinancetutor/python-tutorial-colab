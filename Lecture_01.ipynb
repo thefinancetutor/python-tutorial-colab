{
  "nbformat": 4,
  "nbformat_minor": 0,
  "metadata": {
    "colab": {
      "name": "Lecture_01.ipynb",
      "provenance": [],
      "authorship_tag": "ABX9TyOJF2fqfekU3GhaidYezw26",
      "include_colab_link": true
    },
    "kernelspec": {
      "name": "python3",
      "display_name": "Python 3"
    },
    "language_info": {
      "name": "python"
    }
  },
  "cells": [
    {
      "cell_type": "markdown",
      "metadata": {
        "id": "view-in-github",
        "colab_type": "text"
      },
      "source": [
        "<a href=\"https://colab.research.google.com/github/thefinancetutor/python-tutorial-colab/blob/main/Lecture_01.ipynb\" target=\"_parent\"><img src=\"https://colab.research.google.com/assets/colab-badge.svg\" alt=\"Open In Colab\"/></a>"
      ]
    },
    {
      "cell_type": "markdown",
      "metadata": {
        "id": "yVUwcclnvLn0"
      },
      "source": [
        "Introduction to Python"
      ]
    },
    {
      "cell_type": "markdown",
      "metadata": {
        "id": "t220uJCTvxns"
      },
      "source": [
        ""
      ]
    },
    {
      "cell_type": "markdown",
      "metadata": {
        "id": "wxyKFJyovUhB"
      },
      "source": [
        "**Basic Algebra**\n"
      ]
    },
    {
      "cell_type": "markdown",
      "metadata": {
        "id": "VR3Lw_uyvwuF"
      },
      "source": [
        "Let's see how algebra works in Python"
      ]
    },
    {
      "cell_type": "code",
      "metadata": {
        "colab": {
          "base_uri": "https://localhost:8080/"
        },
        "id": "Pca5C3c1yTQ5",
        "outputId": "0137c82e-2891-4e18-defd-0bee30374c55"
      },
      "source": [
        "2+3"
      ],
      "execution_count": 1,
      "outputs": [
        {
          "output_type": "execute_result",
          "data": {
            "text/plain": [
              "5"
            ]
          },
          "metadata": {
            "tags": []
          },
          "execution_count": 1
        }
      ]
    },
    {
      "cell_type": "code",
      "metadata": {
        "colab": {
          "base_uri": "https://localhost:8080/"
        },
        "id": "JB6s_6myv0wW",
        "outputId": "6d0a91cb-01fb-424b-cb62-ea3ac70c4f4e"
      },
      "source": [
        "2*3"
      ],
      "execution_count": 2,
      "outputs": [
        {
          "output_type": "execute_result",
          "data": {
            "text/plain": [
              "6"
            ]
          },
          "metadata": {
            "tags": []
          },
          "execution_count": 2
        }
      ]
    },
    {
      "cell_type": "code",
      "metadata": {
        "colab": {
          "base_uri": "https://localhost:8080/"
        },
        "id": "IoX-1RWzv3mE",
        "outputId": "183ef2ee-ce6c-43dd-ac95-e78bfc69f3d6"
      },
      "source": [
        "6*3+5"
      ],
      "execution_count": 3,
      "outputs": [
        {
          "output_type": "execute_result",
          "data": {
            "text/plain": [
              "23"
            ]
          },
          "metadata": {
            "tags": []
          },
          "execution_count": 3
        }
      ]
    },
    {
      "cell_type": "code",
      "metadata": {
        "colab": {
          "base_uri": "https://localhost:8080/"
        },
        "id": "9V6osDUjv7QO",
        "outputId": "1d9e150e-614d-476b-f449-d4ddab0aa98a"
      },
      "source": [
        "6*(3+5)"
      ],
      "execution_count": 4,
      "outputs": [
        {
          "output_type": "execute_result",
          "data": {
            "text/plain": [
              "48"
            ]
          },
          "metadata": {
            "tags": []
          },
          "execution_count": 4
        }
      ]
    },
    {
      "cell_type": "markdown",
      "metadata": {
        "id": "LLfmZ5d9v92D"
      },
      "source": [
        "To exponentiate, use ** together"
      ]
    },
    {
      "cell_type": "code",
      "metadata": {
        "colab": {
          "base_uri": "https://localhost:8080/"
        },
        "id": "4nOXUvaOwBXP",
        "outputId": "1c957753-6956-4c57-b5ef-2d7313a22bea"
      },
      "source": [
        "2**3"
      ],
      "execution_count": 5,
      "outputs": [
        {
          "output_type": "execute_result",
          "data": {
            "text/plain": [
              "8"
            ]
          },
          "metadata": {
            "tags": []
          },
          "execution_count": 5
        }
      ]
    },
    {
      "cell_type": "markdown",
      "metadata": {
        "id": "2v1ApiPOwtC9"
      },
      "source": [
        "**Defining Variables**"
      ]
    },
    {
      "cell_type": "code",
      "metadata": {
        "colab": {
          "base_uri": "https://localhost:8080/"
        },
        "id": "AV1gR9pAwwSZ",
        "outputId": "8da8379a-33cd-414d-a7bd-39a8d7dba335"
      },
      "source": [
        "a=3.0\n",
        "b=6.0\n",
        "c=a*b\n",
        "c*a"
      ],
      "execution_count": 6,
      "outputs": [
        {
          "output_type": "execute_result",
          "data": {
            "text/plain": [
              "54.0"
            ]
          },
          "metadata": {
            "tags": []
          },
          "execution_count": 6
        }
      ]
    },
    {
      "cell_type": "markdown",
      "metadata": {
        "id": "QFlwFEL9w1F0"
      },
      "source": [
        "**Defining Functions**"
      ]
    },
    {
      "cell_type": "code",
      "metadata": {
        "id": "0n4BgAUEw3uW"
      },
      "source": [
        "def f(x):\n",
        "  return x**2"
      ],
      "execution_count": 7,
      "outputs": []
    },
    {
      "cell_type": "code",
      "metadata": {
        "colab": {
          "base_uri": "https://localhost:8080/"
        },
        "id": "FpDbZg7kw_ZF",
        "outputId": "07b31563-b16e-4c59-eb8f-a8c9ce3b1ac5"
      },
      "source": [
        "f(3)"
      ],
      "execution_count": 8,
      "outputs": [
        {
          "output_type": "execute_result",
          "data": {
            "text/plain": [
              "9"
            ]
          },
          "metadata": {
            "tags": []
          },
          "execution_count": 8
        }
      ]
    },
    {
      "cell_type": "code",
      "metadata": {
        "colab": {
          "base_uri": "https://localhost:8080/"
        },
        "id": "43bMeUznxBnG",
        "outputId": "125af86b-579b-45e0-a543-c1c84f2a6135"
      },
      "source": [
        "f(4.66667)"
      ],
      "execution_count": 9,
      "outputs": [
        {
          "output_type": "execute_result",
          "data": {
            "text/plain": [
              "21.777808888899997"
            ]
          },
          "metadata": {
            "tags": []
          },
          "execution_count": 9
        }
      ]
    },
    {
      "cell_type": "markdown",
      "metadata": {
        "id": "OhR1KS46xF9k"
      },
      "source": [
        "**Discounting Cash Flows**"
      ]
    },
    {
      "cell_type": "markdown",
      "metadata": {
        "id": "oMB3QXoxxRaM"
      },
      "source": [
        "Let's build a function that discounts single cash flows: $$ PV = \\frac{FV}{(1 + r)^t} $$"
      ]
    },
    {
      "cell_type": "code",
      "metadata": {
        "id": "Mze69-Z0yaLl"
      },
      "source": [
        "def pv_cf(fv,r,t):\n",
        "  return fv/(1+r)**t"
      ],
      "execution_count": 10,
      "outputs": []
    },
    {
      "cell_type": "code",
      "metadata": {
        "colab": {
          "base_uri": "https://localhost:8080/"
        },
        "id": "Lwhx3vyyyhSQ",
        "outputId": "40a5e4f6-afcb-4a01-e19e-f467dadcc225"
      },
      "source": [
        "pv_cf(100,.05,2)"
      ],
      "execution_count": 11,
      "outputs": [
        {
          "output_type": "execute_result",
          "data": {
            "text/plain": [
              "90.70294784580499"
            ]
          },
          "metadata": {
            "tags": []
          },
          "execution_count": 11
        }
      ]
    },
    {
      "cell_type": "markdown",
      "metadata": {
        "id": "oM7AXti7yRcs"
      },
      "source": [
        "Annuities"
      ]
    },
    {
      "cell_type": "markdown",
      "metadata": {
        "id": "eYtsIuCn3GhN"
      },
      "source": [
        "$$ PV = \\frac{C}{(1 + r)} + \\frac{C}{(1 + r)^2} + \\frac{C}{(1 + r)^3} + \\frac{C}{(1 + r)^4} ... + \\frac{C}{(1 + r)^N} $$ "
      ]
    },
    {
      "cell_type": "code",
      "metadata": {
        "id": "tt05VHIDxUKH"
      },
      "source": [
        "def pv_annuity(c,r,n):\n",
        "  pv=0\n",
        "  t=1\n",
        "  while t<n+1:\n",
        "    pv=pv+c/(1+r)**t\n",
        "    t=t+1\n",
        "  return pv"
      ],
      "execution_count": 12,
      "outputs": []
    },
    {
      "cell_type": "code",
      "metadata": {
        "colab": {
          "base_uri": "https://localhost:8080/"
        },
        "id": "AS7QQCMzyK51",
        "outputId": "a7522b73-97eb-46b1-b650-b54fd5ded0f6"
      },
      "source": [
        "pv_annuity(100,0.05,10)"
      ],
      "execution_count": 13,
      "outputs": [
        {
          "output_type": "execute_result",
          "data": {
            "text/plain": [
              "772.1734929184811"
            ]
          },
          "metadata": {
            "tags": []
          },
          "execution_count": 13
        }
      ]
    },
    {
      "cell_type": "code",
      "metadata": {
        "id": "l8TXI4Rj3K4e"
      },
      "source": [
        "def pv_annuity(c, r, n):\n",
        "  pv = 0\n",
        "  t = 1\n",
        "  while t < n + 1:\n",
        "    pv = pv + c / (1 + r)**t\n",
        "    t = t + 1\n",
        "  return pv"
      ],
      "execution_count": 14,
      "outputs": []
    },
    {
      "cell_type": "code",
      "metadata": {
        "colab": {
          "base_uri": "https://localhost:8080/"
        },
        "id": "hETkYTbs3Mkw",
        "outputId": "b5d85773-1b8c-4bea-bf08-336a2dc0c726"
      },
      "source": [
        "pv_annuity(100, 0.05, 10)"
      ],
      "execution_count": 15,
      "outputs": [
        {
          "output_type": "execute_result",
          "data": {
            "text/plain": [
              "772.1734929184811"
            ]
          },
          "metadata": {
            "tags": []
          },
          "execution_count": 15
        }
      ]
    },
    {
      "cell_type": "markdown",
      "metadata": {
        "id": "2tsYQQB7zi8Y"
      },
      "source": [
        "\n",
        "Perpetuities\n",
        "$$ PV = \\frac{C}{(1 + r)} + \\frac{C}{(1 + r)^2} + \\frac{C}{(1 + r)^3} + \\frac{C}{(1 + r)^4} ... = \\frac{C}{r} $$\n",
        "\n",
        "We can use the annuity formula to approximate the present value of a perpetuity by choosing $N$ large enough.\n"
      ]
    },
    {
      "cell_type": "code",
      "metadata": {
        "colab": {
          "base_uri": "https://localhost:8080/"
        },
        "id": "WC-0BFgDy-fZ",
        "outputId": "d75d1af5-81e9-47d2-96ce-b11dd0a105d2"
      },
      "source": [
        "pv_annuity(100, 0.05, 10000)"
      ],
      "execution_count": 16,
      "outputs": [
        {
          "output_type": "execute_result",
          "data": {
            "text/plain": [
              "1999.999999999994"
            ]
          },
          "metadata": {
            "tags": []
          },
          "execution_count": 16
        }
      ]
    },
    {
      "cell_type": "markdown",
      "metadata": {
        "id": "YkDXTg9H0DBp"
      },
      "source": [
        "And here is the closed-form solution using $$\\frac{C}{r} $$"
      ]
    },
    {
      "cell_type": "code",
      "metadata": {
        "colab": {
          "base_uri": "https://localhost:8080/"
        },
        "id": "_mY0n0W3z8Xj",
        "outputId": "eab87dc2-f3db-4863-bbcf-031784b44fb4"
      },
      "source": [
        "100/.05"
      ],
      "execution_count": 17,
      "outputs": [
        {
          "output_type": "execute_result",
          "data": {
            "text/plain": [
              "2000.0"
            ]
          },
          "metadata": {
            "tags": []
          },
          "execution_count": 17
        }
      ]
    },
    {
      "cell_type": "markdown",
      "metadata": {
        "id": "TtMOU70F0KlI"
      },
      "source": [
        "**NumPy and PyPlot**"
      ]
    },
    {
      "cell_type": "markdown",
      "metadata": {
        "id": "wW1gs2jO0Nl0"
      },
      "source": [
        "These are two important libraries that come up frequently. NumPy is a numerical library and PyPlot is a graphical plotting library. If you want to use them you need to add them in first."
      ]
    },
    {
      "cell_type": "code",
      "metadata": {
        "id": "Ia0nJ3Qmz-mP"
      },
      "source": [
        "import numpy as np\n",
        "import matplotlib.pyplot as plt"
      ],
      "execution_count": 18,
      "outputs": []
    },
    {
      "cell_type": "code",
      "metadata": {
        "colab": {
          "base_uri": "https://localhost:8080/"
        },
        "id": "JHnDodUw0XzM",
        "outputId": "aaa8c509-f04c-4447-e804-ab459ddd97c4"
      },
      "source": [
        "a = np.arange(0.0, 2.1, 0.05)\n",
        "a"
      ],
      "execution_count": 20,
      "outputs": [
        {
          "output_type": "execute_result",
          "data": {
            "text/plain": [
              "array([0.  , 0.05, 0.1 , 0.15, 0.2 , 0.25, 0.3 , 0.35, 0.4 , 0.45, 0.5 ,\n",
              "       0.55, 0.6 , 0.65, 0.7 , 0.75, 0.8 , 0.85, 0.9 , 0.95, 1.  , 1.05,\n",
              "       1.1 , 1.15, 1.2 , 1.25, 1.3 , 1.35, 1.4 , 1.45, 1.5 , 1.55, 1.6 ,\n",
              "       1.65, 1.7 , 1.75, 1.8 , 1.85, 1.9 , 1.95, 2.  , 2.05])"
            ]
          },
          "metadata": {
            "tags": []
          },
          "execution_count": 20
        }
      ]
    },
    {
      "cell_type": "code",
      "metadata": {
        "colab": {
          "base_uri": "https://localhost:8080/",
          "height": 281
        },
        "id": "1vEAkpYF0iMG",
        "outputId": "17bf5ecd-1dc2-468b-f7dc-a6be4b442534"
      },
      "source": [
        "plt.plot(a, np.exp(a))\n",
        "plt.title('The exponential of a NumPy array')\n",
        "plt.show()"
      ],
      "execution_count": 21,
      "outputs": [
        {
          "output_type": "display_data",
          "data": {
            "image/png": "[encoded data removed]",
            "text/plain": [
              "<Figure size 432x288 with 1 Axes>"
            ]
          },
          "metadata": {
            "tags": [],
            "needs_background": "light"
          }
        }
      ]
    },
    {
      "cell_type": "markdown",
      "metadata": {
        "id": "Q_qdDIim0r3B"
      },
      "source": [
        "**Bond Pricing**"
      ]
    },
    {
      "cell_type": "markdown",
      "metadata": {
        "id": "Pk7ovTFH0tkg"
      },
      "source": [
        "Let's combine everything we learned and write a function to price a bond \n",
        "$$ PV = \\frac{C}{(1 + r)} + \\frac{C}{(1 + r)^2} + \\frac{C}{(1 + r)^3} + \\frac{C}{(1 + r)^4} ... + \\frac{C}{(1 + r)^N} + \\frac{F}{(1 + r)^N} $$ "
      ]
    },
    {
      "cell_type": "code",
      "metadata": {
        "id": "RjoiAooe0nad"
      },
      "source": [
        "def pv_bond(pmt, r, n, fv):\n",
        "  pv = 0\n",
        "  t = 1\n",
        "  while t < n + 1:\n",
        "    pv = pv + pmt / (1 + r)**t\n",
        "    t = t + 1\n",
        "  pv = pv + fv / (1 + r)**n\n",
        "  return np.round(pv, 2)\n",
        "\n"
      ],
      "execution_count": 22,
      "outputs": []
    },
    {
      "cell_type": "code",
      "metadata": {
        "colab": {
          "base_uri": "https://localhost:8080/"
        },
        "id": "3zhHlc9G0-1p",
        "outputId": "ebfb075c-be6b-44bb-cfbe-f86462683373"
      },
      "source": [
        "pv_bond(50, 0.05, 30, 1000)"
      ],
      "execution_count": 23,
      "outputs": [
        {
          "output_type": "execute_result",
          "data": {
            "text/plain": [
              "1000.0"
            ]
          },
          "metadata": {
            "tags": []
          },
          "execution_count": 23
        }
      ]
    },
    {
      "cell_type": "code",
      "metadata": {
        "colab": {
          "base_uri": "https://localhost:8080/"
        },
        "id": "sRvTJkRW1CLF",
        "outputId": "384201fd-1e7f-4ee1-f01f-59141ec0ee2f"
      },
      "source": [
        "r = np.arange(0.0, 0.205, 0.005)\n",
        "r"
      ],
      "execution_count": 24,
      "outputs": [
        {
          "output_type": "execute_result",
          "data": {
            "text/plain": [
              "array([0.   , 0.005, 0.01 , 0.015, 0.02 , 0.025, 0.03 , 0.035, 0.04 ,\n",
              "       0.045, 0.05 , 0.055, 0.06 , 0.065, 0.07 , 0.075, 0.08 , 0.085,\n",
              "       0.09 , 0.095, 0.1  , 0.105, 0.11 , 0.115, 0.12 , 0.125, 0.13 ,\n",
              "       0.135, 0.14 , 0.145, 0.15 , 0.155, 0.16 , 0.165, 0.17 , 0.175,\n",
              "       0.18 , 0.185, 0.19 , 0.195, 0.2  ])"
            ]
          },
          "metadata": {
            "tags": []
          },
          "execution_count": 24
        }
      ]
    },
    {
      "cell_type": "code",
      "metadata": {
        "colab": {
          "base_uri": "https://localhost:8080/",
          "height": 295
        },
        "id": "6kd6rqqT1EBs",
        "outputId": "69181144-2a46-4ec9-d064-27f21bc53988"
      },
      "source": [
        "plt.plot(100*r, pv_bond(50, r, 30, 1000))\n",
        "plt.title('Bond Price vs. Yield')\n",
        "plt.xlabel('Yield (%)')\n",
        "plt.ylabel('Price ($)')\n",
        "plt.show()"
      ],
      "execution_count": 25,
      "outputs": [
        {
          "output_type": "display_data",
          "data": {
            "image/png": "[encoded data removed]",
            "text/plain": [
              "<Figure size 432x288 with 1 Axes>"
            ]
          },
          "metadata": {
            "tags": [],
            "needs_background": "light"
          }
        }
      ]
    },
    {
      "cell_type": "markdown",
      "metadata": {
        "id": "TVJPTzMG1NaS"
      },
      "source": [
        "**Options**"
      ]
    },
    {
      "cell_type": "markdown",
      "metadata": {
        "id": "C1o6vFPc1Z5P"
      },
      "source": [
        "Let's learn more about Python functions by using them to model derivative prices which are functions of underlying asset prices"
      ]
    },
    {
      "cell_type": "code",
      "metadata": {
        "id": "XRlnWb931Kwy"
      },
      "source": [
        ""
      ],
      "execution_count": null,
      "outputs": []
    }
  ]
}
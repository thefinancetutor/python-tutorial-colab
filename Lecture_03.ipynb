{
  "nbformat": 4,
  "nbformat_minor": 0,
  "metadata": {
    "colab": {
      "name": "Lecture_03.ipynb",
      "provenance": [],
      "collapsed_sections": [],
      "authorship_tag": "ABX9TyO0VtH54hR5ZbUAexdpJmYA",
      "include_colab_link": true
    },
    "kernelspec": {
      "name": "python3",
      "display_name": "Python 3"
    },
    "language_info": {
      "name": "python"
    }
  },
  "cells": [
    {
      "cell_type": "markdown",
      "metadata": {
        "id": "view-in-github",
        "colab_type": "text"
      },
      "source": [
        "<a href=\"https://colab.research.google.com/github/thefinancetutor/python-tutorial-colab/blob/main/Lecture_03.ipynb\" target=\"_parent\"><img src=\"https://colab.research.google.com/assets/colab-badge.svg\" alt=\"Open In Colab\"/></a>"
      ]
    },
    {
      "cell_type": "markdown",
      "metadata": {
        "id": "4I6mLfUw_DFd"
      },
      "source": [
        "**Matrix Operations**"
      ]
    },
    {
      "cell_type": "code",
      "metadata": {
        "id": "5X7syRzP-5wh"
      },
      "source": [
        "import numpy as np"
      ],
      "execution_count": 1,
      "outputs": []
    },
    {
      "cell_type": "markdown",
      "metadata": {
        "id": "qODSG28M_PA3"
      },
      "source": [
        "We can use NumPy to multiply matrices.\n",
        "A 1xN matrix is called a vector"
      ]
    },
    {
      "cell_type": "code",
      "metadata": {
        "id": "RVshWbT3_KhA"
      },
      "source": [
        "a = np.array([1, 2, 3])\n",
        "b = np.array([4, 5, 6])"
      ],
      "execution_count": 2,
      "outputs": []
    },
    {
      "cell_type": "code",
      "metadata": {
        "colab": {
          "base_uri": "https://localhost:8080/"
        },
        "id": "ZbiuW7TV_OZP",
        "outputId": "200064bb-00cc-417c-fd1a-ea03e2f83ce0"
      },
      "source": [
        "a@b"
      ],
      "execution_count": 3,
      "outputs": [
        {
          "output_type": "execute_result",
          "data": {
            "text/plain": [
              "32"
            ]
          },
          "metadata": {
            "tags": []
          },
          "execution_count": 3
        }
      ]
    },
    {
      "cell_type": "code",
      "metadata": {
        "colab": {
          "base_uri": "https://localhost:8080/"
        },
        "id": "iHdaJZa_b5QN",
        "outputId": "26664f7e-e2b2-4498-dc7c-ed82986d47e3"
      },
      "source": [
        "b@a"
      ],
      "execution_count": 4,
      "outputs": [
        {
          "output_type": "execute_result",
          "data": {
            "text/plain": [
              "32"
            ]
          },
          "metadata": {
            "tags": []
          },
          "execution_count": 4
        }
      ]
    },
    {
      "cell_type": "code",
      "metadata": {
        "id": "EORcmkYg_jhY",
        "colab": {
          "base_uri": "https://localhost:8080/"
        },
        "outputId": "84cf65cd-e1c0-4cf3-c5e7-74842bdefdbb"
      },
      "source": [
        "np.outer(a, b)"
      ],
      "execution_count": 5,
      "outputs": [
        {
          "output_type": "execute_result",
          "data": {
            "text/plain": [
              "array([[ 4,  5,  6],\n",
              "       [ 8, 10, 12],\n",
              "       [12, 15, 18]])"
            ]
          },
          "metadata": {
            "tags": []
          },
          "execution_count": 5
        }
      ]
    },
    {
      "cell_type": "code",
      "metadata": {
        "colab": {
          "base_uri": "https://localhost:8080/"
        },
        "id": "FEyEDOTlAAAH",
        "outputId": "b144f281-e627-4397-c85b-2334c29cf369"
      },
      "source": [
        "np.outer(b, a)"
      ],
      "execution_count": 6,
      "outputs": [
        {
          "output_type": "execute_result",
          "data": {
            "text/plain": [
              "array([[ 4,  8, 12],\n",
              "       [ 5, 10, 15],\n",
              "       [ 6, 12, 18]])"
            ]
          },
          "metadata": {
            "tags": []
          },
          "execution_count": 6
        }
      ]
    },
    {
      "cell_type": "code",
      "metadata": {
        "id": "gzqyk6KCADmD",
        "colab": {
          "base_uri": "https://localhost:8080/"
        },
        "outputId": "2f01e2a8-2c78-423d-a51d-e8d0cdf4da84"
      },
      "source": [
        "c = np.array([[1, 2, 3], [3, 4, 5], [5, 6, 7]])\n",
        "c"
      ],
      "execution_count": 7,
      "outputs": [
        {
          "output_type": "execute_result",
          "data": {
            "text/plain": [
              "array([[1, 2, 3],\n",
              "       [3, 4, 5],\n",
              "       [5, 6, 7]])"
            ]
          },
          "metadata": {
            "tags": []
          },
          "execution_count": 7
        }
      ]
    },
    {
      "cell_type": "code",
      "metadata": {
        "colab": {
          "base_uri": "https://localhost:8080/"
        },
        "id": "_JYQfxXdAxt1",
        "outputId": "cb2207e7-2fae-4e3a-9a6e-63590437f81b"
      },
      "source": [
        "c@a"
      ],
      "execution_count": 8,
      "outputs": [
        {
          "output_type": "execute_result",
          "data": {
            "text/plain": [
              "array([14, 26, 38])"
            ]
          },
          "metadata": {
            "tags": []
          },
          "execution_count": 8
        }
      ]
    },
    {
      "cell_type": "markdown",
      "metadata": {
        "id": "uMEMzMA7cszx"
      },
      "source": [
        "Why? $$1*1+2*2+3*3=14$$ $$3*1+4*2+5*3=26$$ $$5*1+6*2+7*3=38$$"
      ]
    },
    {
      "cell_type": "code",
      "metadata": {
        "id": "uHA4T6vlA0qy",
        "colab": {
          "base_uri": "https://localhost:8080/"
        },
        "outputId": "43a9c699-40cc-4ed7-8412-3a9344cef956"
      },
      "source": [
        "m1 = np.array([[1, 3], [2, 4]])\n",
        "m1"
      ],
      "execution_count": 9,
      "outputs": [
        {
          "output_type": "execute_result",
          "data": {
            "text/plain": [
              "array([[1, 3],\n",
              "       [2, 4]])"
            ]
          },
          "metadata": {
            "tags": []
          },
          "execution_count": 9
        }
      ]
    },
    {
      "cell_type": "code",
      "metadata": {
        "colab": {
          "base_uri": "https://localhost:8080/"
        },
        "id": "1adVkzJGd4_1",
        "outputId": "d41eee34-12dd-405e-f126-0e2c3083e0e5"
      },
      "source": [
        "m2 = np.array([[0, 1], [3, 2]])\n",
        "m2"
      ],
      "execution_count": 10,
      "outputs": [
        {
          "output_type": "execute_result",
          "data": {
            "text/plain": [
              "array([[0, 1],\n",
              "       [3, 2]])"
            ]
          },
          "metadata": {
            "tags": []
          },
          "execution_count": 10
        }
      ]
    },
    {
      "cell_type": "code",
      "metadata": {
        "colab": {
          "base_uri": "https://localhost:8080/"
        },
        "id": "cYuhyaLGd4r_",
        "outputId": "74a5f358-f85c-4d41-906e-8c5b88766035"
      },
      "source": [
        "m1@m2"
      ],
      "execution_count": 11,
      "outputs": [
        {
          "output_type": "execute_result",
          "data": {
            "text/plain": [
              "array([[ 9,  7],\n",
              "       [12, 10]])"
            ]
          },
          "metadata": {
            "tags": []
          },
          "execution_count": 11
        }
      ]
    },
    {
      "cell_type": "markdown",
      "metadata": {
        "id": "rAAa_ojGdIAH"
      },
      "source": [
        "Why? $$1*0+3*3=9$$ $$1*1+3*2=7$$ $$2*0+4*3=12$$ $$2*1+4*2=10$$"
      ]
    },
    {
      "cell_type": "code",
      "metadata": {
        "colab": {
          "base_uri": "https://localhost:8080/"
        },
        "id": "HMA8xTxXBgo5",
        "outputId": "ecf39cc3-a4c8-4066-cdf6-9b335c964011"
      },
      "source": [
        "m3 = np.array([[2, 3, 1], [1, 4, 0]])\n",
        "m4 = np.array([[1, 2], [0, 3], [2, 2]])\n",
        "m5 = np.array([1, 1])\n",
        "m3@m4@m5"
      ],
      "execution_count": 12,
      "outputs": [
        {
          "output_type": "execute_result",
          "data": {
            "text/plain": [
              "array([19, 15])"
            ]
          },
          "metadata": {
            "tags": []
          },
          "execution_count": 12
        }
      ]
    },
    {
      "cell_type": "markdown",
      "metadata": {
        "id": "Diej8GeDiIrJ"
      },
      "source": [
        "**Portfolio Theory with Matrices**"
      ]
    },
    {
      "cell_type": "code",
      "metadata": {
        "colab": {
          "base_uri": "https://localhost:8080/"
        },
        "id": "j1NSPnK-iw1j",
        "outputId": "7f0ec1a7-c197-4335-f64f-b0ea156b531c"
      },
      "source": [
        "!pip install yfinance"
      ],
      "execution_count": 13,
      "outputs": [
        {
          "output_type": "stream",
          "text": [
            "Requirement already satisfied: yfinance in /usr/local/lib/python3.7/dist-packages (0.1.63)\n",
            "Requirement already satisfied: pandas>=0.24 in /usr/local/lib/python3.7/dist-packages (from yfinance) (1.1.5)\n",
            "Requirement already satisfied: lxml>=4.5.1 in /usr/local/lib/python3.7/dist-packages (from yfinance) (4.6.3)\n",
            "Requirement already satisfied: multitasking>=0.0.7 in /usr/local/lib/python3.7/dist-packages (from yfinance) (0.0.9)\n",
            "Requirement already satisfied: numpy>=1.15 in /usr/local/lib/python3.7/dist-packages (from yfinance) (1.19.5)\n",
            "Requirement already satisfied: requests>=2.20 in /usr/local/lib/python3.7/dist-packages (from yfinance) (2.23.0)\n",
            "Requirement already satisfied: pytz>=2017.2 in /usr/local/lib/python3.7/dist-packages (from pandas>=0.24->yfinance) (2018.9)\n",
            "Requirement already satisfied: python-dateutil>=2.7.3 in /usr/local/lib/python3.7/dist-packages (from pandas>=0.24->yfinance) (2.8.1)\n",
            "Requirement already satisfied: six>=1.5 in /usr/local/lib/python3.7/dist-packages (from python-dateutil>=2.7.3->pandas>=0.24->yfinance) (1.15.0)\n",
            "Requirement already satisfied: chardet<4,>=3.0.2 in /usr/local/lib/python3.7/dist-packages (from requests>=2.20->yfinance) (3.0.4)\n",
            "Requirement already satisfied: certifi>=2017.4.17 in /usr/local/lib/python3.7/dist-packages (from requests>=2.20->yfinance) (2021.5.30)\n",
            "Requirement already satisfied: idna<3,>=2.5 in /usr/local/lib/python3.7/dist-packages (from requests>=2.20->yfinance) (2.10)\n",
            "Requirement already satisfied: urllib3!=1.25.0,!=1.25.1,<1.26,>=1.21.1 in /usr/local/lib/python3.7/dist-packages (from requests>=2.20->yfinance) (1.24.3)\n"
          ],
          "name": "stdout"
        }
      ]
    },
    {
      "cell_type": "code",
      "metadata": {
        "colab": {
          "base_uri": "https://localhost:8080/"
        },
        "id": "5wa13jwWBmUO",
        "outputId": "f29f9cba-b0f4-4495-8144-43cb19c7fc7c"
      },
      "source": [
        "import pandas as pd\n",
        "import yfinance as yf\n",
        "import datetime\n",
        "from pandas_datareader import data as pdr\n",
        "\n",
        "yf.pdr_override()\n",
        "tickers=['TSLA','AMZN','C']\n",
        "\n",
        "end = datetime.datetime.today()\n",
        "start = end.replace(year = end.year - 2)\n",
        "\n",
        "data = pdr.get_data_yahoo(tickers, start=start, end=end)['Adj Close'].resample('M').ffill().pct_change()\n",
        "cov = data.cov().to_numpy()\n"
      ],
      "execution_count": 14,
      "outputs": [
        {
          "output_type": "stream",
          "text": [
            "[*********************100%***********************]  3 of 3 completed\n"
          ],
          "name": "stdout"
        }
      ]
    },
    {
      "cell_type": "markdown",
      "metadata": {
        "id": "p5zQEGJtjU1R"
      },
      "source": [
        "Let's calculate a variance for a portfolio of these three stocks"
      ]
    },
    {
      "cell_type": "code",
      "metadata": {
        "colab": {
          "base_uri": "https://localhost:8080/"
        },
        "id": "fHccEt2ljTze",
        "outputId": "8b0eabb1-e04b-4408-9c0f-409786828c27"
      },
      "source": [
        "w = np.array([0.3, 0.3, 0.4])\n",
        "var_p = 12*w@cov@w\n",
        "std_p = np.sqrt(var_p)\n",
        "std_p.round(4)"
      ],
      "execution_count": 15,
      "outputs": [
        {
          "output_type": "execute_result",
          "data": {
            "text/plain": [
              "0.4657"
            ]
          },
          "metadata": {
            "tags": []
          },
          "execution_count": 15
        }
      ]
    },
    {
      "cell_type": "markdown",
      "metadata": {
        "id": "FRYNr7P3Ht26"
      },
      "source": [
        "Now let's write a function to calculate it"
      ]
    },
    {
      "cell_type": "code",
      "metadata": {
        "id": "vBRvznWYjlih"
      },
      "source": [
        "def portfolio_std(data, weights):\n",
        "  cov = data.cov().to_numpy()\n",
        "  w = np.array(weights)\n",
        "  var_p = 12*w@cov@w\n",
        "  std_p = np.sqrt(var_p).round(4)\n",
        "  return std_p"
      ],
      "execution_count": 16,
      "outputs": []
    },
    {
      "cell_type": "code",
      "metadata": {
        "colab": {
          "base_uri": "https://localhost:8080/"
        },
        "id": "8QuqSv2hjpKh",
        "outputId": "b1324f13-344b-4594-bae2-abab93c89293"
      },
      "source": [
        "portfolio_std(data,w)"
      ],
      "execution_count": 17,
      "outputs": [
        {
          "output_type": "execute_result",
          "data": {
            "text/plain": [
              "0.4657"
            ]
          },
          "metadata": {
            "tags": []
          },
          "execution_count": 17
        }
      ]
    },
    {
      "cell_type": "markdown",
      "metadata": {
        "id": "NFVZ5fHwIEkZ"
      },
      "source": [
        "**Asset Pricing Models**"
      ]
    },
    {
      "cell_type": "markdown",
      "metadata": {
        "id": "Ptnz5u1YJG82"
      },
      "source": [
        "Pandas data reader does work with many other datasets besides Yahoo"
      ]
    },
    {
      "cell_type": "code",
      "metadata": {
        "colab": {
          "base_uri": "https://localhost:8080/"
        },
        "id": "AE1NJ2DDY1Ji",
        "outputId": "d129a19b-3850-4fc3-c8c7-281abfffe5d9"
      },
      "source": [
        "import matplotlib.pyplot as plt\n",
        "import pandas_datareader\n",
        "pandas_datareader.famafrench.get_available_datasets()"
      ],
      "execution_count": 18,
      "outputs": [
        {
          "output_type": "execute_result",
          "data": {
            "text/plain": [
              "['F-F_Research_Data_Factors',\n",
              " 'F-F_Research_Data_Factors_weekly',\n",
              " 'F-F_Research_Data_Factors_daily',\n",
              " 'F-F_Research_Data_5_Factors_2x3',\n",
              " 'F-F_Research_Data_5_Factors_2x3_daily',\n",
              " 'Portfolios_Formed_on_ME',\n",
              " 'Portfolios_Formed_on_ME_Wout_Div',\n",
              " 'Portfolios_Formed_on_ME_Daily',\n",
              " 'Portfolios_Formed_on_BE-ME',\n",
              " 'Portfolios_Formed_on_BE-ME_Wout_Div',\n",
              " 'Portfolios_Formed_on_BE-ME_Daily',\n",
              " 'Portfolios_Formed_on_OP',\n",
              " 'Portfolios_Formed_on_OP_Wout_Div',\n",
              " 'Portfolios_Formed_on_OP_Daily',\n",
              " 'Portfolios_Formed_on_INV',\n",
              " 'Portfolios_Formed_on_INV_Wout_Div',\n",
              " 'Portfolios_Formed_on_INV_Daily',\n",
              " '6_Portfolios_2x3',\n",
              " '6_Portfolios_2x3_Wout_Div',\n",
              " '6_Portfolios_2x3_weekly',\n",
              " '6_Portfolios_2x3_daily',\n",
              " '25_Portfolios_5x5',\n",
              " '25_Portfolios_5x5_Wout_Div',\n",
              " '25_Portfolios_5x5_Daily',\n",
              " '100_Portfolios_10x10',\n",
              " '100_Portfolios_10x10_Wout_Div',\n",
              " '100_Portfolios_10x10_Daily',\n",
              " '6_Portfolios_ME_OP_2x3',\n",
              " '6_Portfolios_ME_OP_2x3_Wout_Div',\n",
              " '6_Portfolios_ME_OP_2x3_daily',\n",
              " '25_Portfolios_ME_OP_5x5',\n",
              " '25_Portfolios_ME_OP_5x5_Wout_Div',\n",
              " '25_Portfolios_ME_OP_5x5_daily',\n",
              " '100_Portfolios_ME_OP_10x10',\n",
              " '100_Portfolios_10x10_ME_OP_Wout_Div',\n",
              " '100_Portfolios_ME_OP_10x10_daily',\n",
              " '6_Portfolios_ME_INV_2x3',\n",
              " '6_Portfolios_ME_INV_2x3_Wout_Div',\n",
              " '6_Portfolios_ME_INV_2x3_daily',\n",
              " '25_Portfolios_ME_INV_5x5',\n",
              " '25_Portfolios_ME_INV_5x5_Wout_Div',\n",
              " '25_Portfolios_ME_INV_5x5_daily',\n",
              " '100_Portfolios_ME_INV_10x10',\n",
              " '100_Portfolios_10x10_ME_INV_Wout_Div',\n",
              " '100_Portfolios_ME_INV_10x10_daily',\n",
              " '25_Portfolios_BEME_OP_5x5',\n",
              " '25_Portfolios_BEME_OP_5x5_Wout_Div',\n",
              " '25_Portfolios_BEME_OP_5x5_daily',\n",
              " '25_Portfolios_BEME_INV_5x5',\n",
              " '25_Portfolios_BEME_INV_5x5_Wout_Div',\n",
              " '25_Portfolios_BEME_INV_5x5_daily',\n",
              " '25_Portfolios_OP_INV_5x5',\n",
              " '25_Portfolios_OP_INV_5x5_Wout_Div',\n",
              " '25_Portfolios_OP_INV_5x5_daily',\n",
              " '32_Portfolios_ME_BEME_OP_2x4x4',\n",
              " '32_Portfolios_ME_BEME_OP_2x4x4_Wout_Div',\n",
              " '32_Portfolios_ME_BEME_INV_2x4x4',\n",
              " '32_Portfolios_ME_BEME_INV_2x4x4_Wout_Div',\n",
              " '32_Portfolios_ME_OP_INV_2x4x4',\n",
              " '32_Portfolios_ME_OP_INV_2x4x4_Wout_Div',\n",
              " 'Portfolios_Formed_on_E-P',\n",
              " 'Portfolios_Formed_on_E-P_Wout_Div',\n",
              " 'Portfolios_Formed_on_CF-P',\n",
              " 'Portfolios_Formed_on_CF-P_Wout_Div',\n",
              " 'Portfolios_Formed_on_D-P',\n",
              " 'Portfolios_Formed_on_D-P_Wout_Div',\n",
              " '6_Portfolios_ME_EP_2x3',\n",
              " '6_Portfolios_ME_EP_2x3_Wout_Div',\n",
              " '6_Portfolios_ME_CFP_2x3',\n",
              " '6_Portfolios_ME_CFP_2x3_Wout_Div',\n",
              " '6_Portfolios_ME_DP_2x3',\n",
              " '6_Portfolios_ME_DP_2x3_Wout_Div',\n",
              " 'F-F_Momentum_Factor',\n",
              " 'F-F_Momentum_Factor_daily',\n",
              " '6_Portfolios_ME_Prior_12_2',\n",
              " '6_Portfolios_ME_Prior_12_2_Daily',\n",
              " '25_Portfolios_ME_Prior_12_2',\n",
              " '25_Portfolios_ME_Prior_12_2_Daily',\n",
              " '10_Portfolios_Prior_12_2',\n",
              " '10_Portfolios_Prior_12_2_Daily',\n",
              " 'F-F_ST_Reversal_Factor',\n",
              " 'F-F_ST_Reversal_Factor_daily',\n",
              " '6_Portfolios_ME_Prior_1_0',\n",
              " '6_Portfolios_ME_Prior_1_0_Daily',\n",
              " '25_Portfolios_ME_Prior_1_0',\n",
              " '25_Portfolios_ME_Prior_1_0_Daily',\n",
              " '10_Portfolios_Prior_1_0',\n",
              " '10_Portfolios_Prior_1_0_Daily',\n",
              " 'F-F_LT_Reversal_Factor',\n",
              " 'F-F_LT_Reversal_Factor_daily',\n",
              " '6_Portfolios_ME_Prior_60_13',\n",
              " '6_Portfolios_ME_Prior_60_13_Daily',\n",
              " '25_Portfolios_ME_Prior_60_13',\n",
              " '25_Portfolios_ME_Prior_60_13_Daily',\n",
              " '10_Portfolios_Prior_60_13',\n",
              " '10_Portfolios_Prior_60_13_Daily',\n",
              " 'Portfolios_Formed_on_AC',\n",
              " '25_Portfolios_ME_AC_5x5',\n",
              " 'Portfolios_Formed_on_BETA',\n",
              " '25_Portfolios_ME_BETA_5x5',\n",
              " 'Portfolios_Formed_on_NI',\n",
              " '25_Portfolios_ME_NI_5x5',\n",
              " 'Portfolios_Formed_on_VAR',\n",
              " '25_Portfolios_ME_VAR_5x5',\n",
              " 'Portfolios_Formed_on_RESVAR',\n",
              " '25_Portfolios_ME_RESVAR_5x5',\n",
              " '5_Industry_Portfolios',\n",
              " '5_Industry_Portfolios_Wout_Div',\n",
              " '5_Industry_Portfolios_daily',\n",
              " '10_Industry_Portfolios',\n",
              " '10_Industry_Portfolios_Wout_Div',\n",
              " '10_Industry_Portfolios_daily',\n",
              " '12_Industry_Portfolios',\n",
              " '12_Industry_Portfolios_Wout_Div',\n",
              " '12_Industry_Portfolios_daily',\n",
              " '17_Industry_Portfolios',\n",
              " '17_Industry_Portfolios_Wout_Div',\n",
              " '17_Industry_Portfolios_daily',\n",
              " '30_Industry_Portfolios',\n",
              " '30_Industry_Portfolios_Wout_Div',\n",
              " '30_Industry_Portfolios_daily',\n",
              " '38_Industry_Portfolios',\n",
              " '38_Industry_Portfolios_Wout_Div',\n",
              " '38_Industry_Portfolios_daily',\n",
              " '48_Industry_Portfolios',\n",
              " '48_Industry_Portfolios_Wout_Div',\n",
              " '48_Industry_Portfolios_daily',\n",
              " '49_Industry_Portfolios',\n",
              " '49_Industry_Portfolios_Wout_Div',\n",
              " '49_Industry_Portfolios_daily',\n",
              " 'ME_Breakpoints',\n",
              " 'BE-ME_Breakpoints',\n",
              " 'OP_Breakpoints',\n",
              " 'INV_Breakpoints',\n",
              " 'E-P_Breakpoints',\n",
              " 'CF-P_Breakpoints',\n",
              " 'D-P_Breakpoints',\n",
              " 'Prior_2-12_Breakpoints',\n",
              " 'Developed_3_Factors',\n",
              " 'Developed_3_Factors_Daily',\n",
              " 'Developed_ex_US_3_Factors',\n",
              " 'Developed_ex_US_3_Factors_Daily',\n",
              " 'Europe_3_Factors',\n",
              " 'Europe_3_Factors_Daily',\n",
              " 'Japan_3_Factors',\n",
              " 'Japan_3_Factors_Daily',\n",
              " 'Asia_Pacific_ex_Japan_3_Factors',\n",
              " 'Asia_Pacific_ex_Japan_3_Factors_Daily',\n",
              " 'North_America_3_Factors',\n",
              " 'North_America_3_Factors_Daily',\n",
              " 'Developed_5_Factors',\n",
              " 'Developed_5_Factors_Daily',\n",
              " 'Developed_ex_US_5_Factors',\n",
              " 'Developed_ex_US_5_Factors_Daily',\n",
              " 'Europe_5_Factors',\n",
              " 'Europe_5_Factors_Daily',\n",
              " 'Japan_5_Factors',\n",
              " 'Japan_5_Factors_Daily',\n",
              " 'Asia_Pacific_ex_Japan_5_Factors',\n",
              " 'Asia_Pacific_ex_Japan_5_Factors_Daily',\n",
              " 'North_America_5_Factors',\n",
              " 'North_America_5_Factors_Daily',\n",
              " 'Developed_Mom_Factor',\n",
              " 'Developed_Mom_Factor_Daily',\n",
              " 'Developed_ex_US_Mom_Factor',\n",
              " 'Developed_ex_US_Mom_Factor_Daily',\n",
              " 'Europe_Mom_Factor',\n",
              " 'Europe_Mom_Factor_Daily',\n",
              " 'Japan_Mom_Factor',\n",
              " 'Japan_Mom_Factor_Daily',\n",
              " 'Asia_Pacific_ex_Japan_MOM_Factor',\n",
              " 'Asia_Pacific_ex_Japan_MOM_Factor_Daily',\n",
              " 'North_America_Mom_Factor',\n",
              " 'North_America_Mom_Factor_Daily',\n",
              " 'Developed_6_Portfolios_ME_BE-ME',\n",
              " 'Developed_6_Portfolios_ME_BE-ME_daily',\n",
              " 'Developed_ex_US_6_Portfolios_ME_BE-ME',\n",
              " 'Developed_ex_US_6_Portfolios_ME_BE-ME_daily',\n",
              " 'Europe_6_Portfolios_ME_BE-ME',\n",
              " 'Europe_6_Portfolios_ME_BE-ME_daily',\n",
              " 'Japan_6_Portfolios_ME_BE-ME',\n",
              " 'Japan_6_Portfolios_ME_BE-ME_daily',\n",
              " 'Asia_Pacific_ex_Japan_6_Portfolios_ME_BE-ME',\n",
              " 'Asia_Pacific_ex_Japan_6_Portfolios_ME_BE-ME_daily',\n",
              " 'North_America_6_Portfolios_ME_BE-ME',\n",
              " 'North_America_6_Portfolios_ME_BE-ME_daily',\n",
              " 'Developed_25_Portfolios_ME_BE-ME',\n",
              " 'Developed_25_Portfolios_ME_BE-ME_daily',\n",
              " 'Developed_ex_US_25_Portfolios_ME_BE-ME',\n",
              " 'Developed_ex_US_25_Portfolios_ME_BE-ME_daily',\n",
              " 'Europe_25_Portfolios_ME_BE-ME',\n",
              " 'Europe_25_Portfolios_ME_BE-ME_daily',\n",
              " 'Japan_25_Portfolios_ME_BE-ME',\n",
              " 'Japan_25_Portfolios_ME_BE-ME_daily',\n",
              " 'Asia_Pacific_ex_Japan_25_Portfolios_ME_BE-ME',\n",
              " 'Asia_Pacific_ex_Japan_25_Portfolios_ME_BE-ME_daily',\n",
              " 'North_America_25_Portfolios_ME_BE-ME',\n",
              " 'North_America_25_Portfolios_ME_BE-ME_daily',\n",
              " 'Developed_6_Portfolios_ME_OP',\n",
              " 'Developed_6_Portfolios_ME_OP_Daily',\n",
              " 'Developed_ex_US_6_Portfolios_ME_OP',\n",
              " 'Developed_ex_US_6_Portfolios_ME_OP_Daily',\n",
              " 'Europe_6_Portfolios_ME_OP',\n",
              " 'Europe_6_Portfolios_ME_OP_Daily',\n",
              " 'Japan_6_Portfolios_ME_OP',\n",
              " 'Japan_6_Portfolios_ME_OP_Daily',\n",
              " 'Asia_Pacific_ex_Japan_6_Portfolios_ME_OP',\n",
              " 'Asia_Pacific_ex_Japan_6_Portfolios_ME_OP_Daily',\n",
              " 'North_America_6_Portfolios_ME_OP',\n",
              " 'North_America_6_Portfolios_ME_OP_Daily',\n",
              " 'Developed_25_Portfolios_ME_OP',\n",
              " 'Developed_25_Portfolios_ME_OP_Daily',\n",
              " 'Developed_ex_US_25_Portfolios_ME_OP',\n",
              " 'Developed_ex_US_25_Portfolios_ME_OP_Daily',\n",
              " 'Europe_25_Portfolios_ME_OP',\n",
              " 'Europe_25_Portfolios_ME_OP_Daily',\n",
              " 'Japan_25_Portfolios_ME_OP',\n",
              " 'Japan_25_Portfolios_ME_OP_Daily',\n",
              " 'Asia_Pacific_ex_Japan_25_Portfolios_ME_OP',\n",
              " 'Asia_Pacific_ex_Japan_25_Portfolios_ME_OP_Daily',\n",
              " 'North_America_25_Portfolios_ME_OP',\n",
              " 'North_America_25_Portfolios_ME_OP_Daily',\n",
              " 'Developed_6_Portfolios_ME_INV',\n",
              " 'Developed_6_Portfolios_ME_INV_Daily',\n",
              " 'Developed_ex_US_6_Portfolios_ME_INV',\n",
              " 'Developed_ex_US_6_Portfolios_ME_INV_Daily',\n",
              " 'Europe_6_Portfolios_ME_INV',\n",
              " 'Europe_6_Portfolios_ME_INV_Daily',\n",
              " 'Japan_6_Portfolios_ME_INV',\n",
              " 'Japan_6_Portfolios_ME_INV_Daily',\n",
              " 'Asia_Pacific_ex_Japan_6_Portfolios_ME_INV',\n",
              " 'Asia_Pacific_ex_Japan_6_Portfolios_ME_INV_Daily',\n",
              " 'North_America_6_Portfolios_ME_INV',\n",
              " 'North_America_6_Portfolios_ME_INV_Daily',\n",
              " 'Developed_25_Portfolios_ME_INV',\n",
              " 'Developed_25_Portfolios_ME_INV_Daily',\n",
              " 'Developed_ex_US_25_Portfolios_ME_INV',\n",
              " 'Developed_ex_US_25_Portfolios_ME_INV_Daily',\n",
              " 'Europe_25_Portfolios_ME_INV',\n",
              " 'Europe_25_Portfolios_ME_INV_Daily',\n",
              " 'Japan_25_Portfolios_ME_INV',\n",
              " 'Japan_25_Portfolios_ME_INV_Daily',\n",
              " 'Asia_Pacific_ex_Japan_25_Portfolios_ME_INV',\n",
              " 'Asia_Pacific_ex_Japan_25_Portfolios_ME_INV_Daily',\n",
              " 'North_America_25_Portfolios_ME_INV',\n",
              " 'North_America_25_Portfolios_ME_INV_Daily',\n",
              " 'Developed_6_Portfolios_ME_Prior_12_2',\n",
              " 'Developed_6_Portfolios_ME_Prior_250_20_daily',\n",
              " 'Developed_ex_US_6_Portfolios_ME_Prior_12_2',\n",
              " 'Developed_ex_US_6_Portfolios_ME_Prior_250_20_daily',\n",
              " 'Europe_6_Portfolios_ME_Prior_12_2',\n",
              " 'Europe_6_Portfolios_ME_Prior_250_20_daily',\n",
              " 'Japan_6_Portfolios_ME_Prior_12_2',\n",
              " 'Japan_6_Portfolios_ME_Prior_250_20_daily',\n",
              " 'Asia_Pacific_ex_Japan_6_Portfolios_ME_Prior_12_2',\n",
              " 'Asia_Pacific_ex_Japan_6_Portfolios_ME_Prior_250_20_daily',\n",
              " 'North_America_6_Portfolios_ME_Prior_12_2',\n",
              " 'North_America_6_Portfolios_ME_Prior_250_20_daily',\n",
              " 'Developed_25_Portfolios_ME_Prior_12_2',\n",
              " 'Developed_25_Portfolios_ME_Prior_250_20_daily',\n",
              " 'Developed_ex_US_25_Portfolios_ME_Prior_12_2',\n",
              " 'Developed_ex_US_25_Portfolios_ME_Prior_250_20_daily',\n",
              " 'Europe_25_Portfolios_ME_Prior_12_2',\n",
              " 'Europe_25_Portfolios_ME_Prior_250_20_daily',\n",
              " 'Japan_25_Portfolios_ME_Prior_12_2',\n",
              " 'Japan_25_Portfolios_ME_Prior_250_20_daily',\n",
              " 'Asia_Pacific_ex_Japan_25_Portfolios_ME_Prior_12_2',\n",
              " 'Asia_Pacific_ex_Japan_25_Portfolios_ME_Prior_250_20_daily',\n",
              " 'North_America_25_Portfolios_ME_Prior_12_2',\n",
              " 'North_America_25_Portfolios_ME_Prior_250_20_daily',\n",
              " 'Developed_32_Portfolios_ME_BE-ME_OP_2x4x4',\n",
              " 'Developed_ex_US_32_Portfolios_ME_BE-ME_OP_2x4x4',\n",
              " 'Europe_32_Portfolios_ME_BE-ME_OP_2x4x4',\n",
              " 'Japan_32_Portfolios_ME_BE-ME_OP_2x4x4',\n",
              " 'Asia_Pacific_ex_Japan_32_Portfolios_ME_BE-ME_OP_2x4x4',\n",
              " 'North_America_32_Portfolios_ME_BE-ME_OP_2x4x4',\n",
              " 'Developed_32_Portfolios_ME_BE-ME_INV(TA)_2x4x4',\n",
              " 'Developed_ex_US_32_Portfolios_ME_BE-ME_INV(TA)_2x4x4',\n",
              " 'Europe_32_Portfolios_ME_BE-ME_INV(TA)_2x4x4',\n",
              " 'Japan_32_Portfolios_ME_BE-ME_INV(TA)_2x4x4',\n",
              " 'Asia_Pacific_ex_Japan_32_Portfolios_ME_BE-ME_INV(TA)_2x4x4',\n",
              " 'North_America_32_Portfolios_ME_BE-ME_INV(TA)_2x4x4',\n",
              " 'Developed_32_Portfolios_ME_INV(TA)_OP_2x4x4',\n",
              " 'Developed_ex_US_32_Portfolios_ME_INV(TA)_OP_2x4x4',\n",
              " 'Europe_32_Portfolios_ME_INV(TA)_OP_2x4x4',\n",
              " 'Japan_32_Portfolios_ME_INV(TA)_OP_2x4x4',\n",
              " 'Asia_Pacific_ex_Japan_32_Portfolios_ME_INV(TA)_OP_2x4x4',\n",
              " 'North_America_32_Portfolios_ME_INV(TA)_OP_2x4x4',\n",
              " 'Emerging_5_Factors',\n",
              " 'Emerging_MOM_Factor',\n",
              " 'Emerging_Markets_6_Portfolios_ME_BE-ME',\n",
              " 'Emerging_Markets_6_Portfolios_ME_OP',\n",
              " 'Emerging_Markets_6_Portfolios_ME_INV',\n",
              " 'Emerging_Markets_6_Portfolios_ME_Prior_12_2',\n",
              " 'Emerging_Markets_4_Portfolios_BE-ME_OP',\n",
              " 'Emerging_Markets_4_Portfolios_OP_INV',\n",
              " 'Emerging_Markets_4_Portfolios_BE-ME_INV']"
            ]
          },
          "metadata": {
            "tags": []
          },
          "execution_count": 18
        }
      ]
    },
    {
      "cell_type": "code",
      "metadata": {
        "colab": {
          "base_uri": "https://localhost:8080/"
        },
        "id": "USM7vItMIISA",
        "outputId": "8fd2c3f2-0827-4e9c-a5bf-34d51a392429"
      },
      "source": [
        "start='1926-01-01'\n",
        "ff=pandas_datareader.famafrench.FamaFrenchReader('F-F_Research_Data_Factors', freq='M', start=start).read()\n",
        "ff"
      ],
      "execution_count": 19,
      "outputs": [
        {
          "output_type": "execute_result",
          "data": {
            "text/plain": [
              "{0:          Mkt-RF   SMB   HML    RF\n",
              " Date                             \n",
              " 1926-07    2.96 -2.30 -2.87  0.22\n",
              " 1926-08    2.64 -1.40  4.19  0.25\n",
              " 1926-09    0.36 -1.32  0.01  0.23\n",
              " 1926-10   -3.24  0.04  0.51  0.32\n",
              " 1926-11    2.53 -0.20 -0.35  0.31\n",
              " ...         ...   ...   ...   ...\n",
              " 2021-02    2.78  2.11  7.08  0.00\n",
              " 2021-03    3.08 -2.48  7.40  0.00\n",
              " 2021-04    4.93 -3.09 -0.74  0.00\n",
              " 2021-05    0.29 -0.21  7.04  0.00\n",
              " 2021-06    2.79  1.79 -7.70  0.00\n",
              " \n",
              " [1140 rows x 4 columns], 1:       Mkt-RF    SMB    HML    RF\n",
              " Date                            \n",
              " 1927   29.47  -2.46  -3.75  3.12\n",
              " 1928   35.39   4.41  -5.83  3.56\n",
              " 1929  -19.54 -30.78  11.96  4.75\n",
              " 1930  -31.23  -5.19 -12.29  2.41\n",
              " 1931  -45.11   3.51 -14.32  1.07\n",
              " ...      ...    ...    ...   ...\n",
              " 2016   13.30   6.53  22.86  0.20\n",
              " 2017   21.51  -4.95 -13.84  0.80\n",
              " 2018   -6.93  -3.20  -9.34  1.81\n",
              " 2019   28.28  -6.25 -10.68  2.14\n",
              " 2020   23.67  13.07 -47.20  0.44\n",
              " \n",
              " [94 rows x 4 columns], 'DESCR': 'F-F Research Data Factors\\n-------------------------\\n\\nThis file was created by CMPT_ME_BEME_RETS using the 202106 CRSP database. The 1-month TBill return is from Ibbotson and Associates, Inc. Copyright 2021 Kenneth R. French\\n\\n  0 : (1140 rows x 4 cols)\\n  1 : Annual Factors: January-December (94 rows x 4 cols)'}"
            ]
          },
          "metadata": {
            "tags": []
          },
          "execution_count": 19
        }
      ]
    },
    {
      "cell_type": "code",
      "metadata": {
        "colab": {
          "base_uri": "https://localhost:8080/",
          "height": 455
        },
        "id": "yTwQir3dwEhK",
        "outputId": "f8a123b0-24f5-49bd-b89a-2fa823030c26"
      },
      "source": [
        "ffac_df=ff[0]\n",
        "ffac_df"
      ],
      "execution_count": 20,
      "outputs": [
        {
          "output_type": "execute_result",
          "data": {
            "text/html": [
              "<div>\n",
              "<style scoped>\n",
              "    .dataframe tbody tr th:only-of-type {\n",
              "        vertical-align: middle;\n",
              "    }\n",
              "\n",
              "    .dataframe tbody tr th {\n",
              "        vertical-align: top;\n",
              "    }\n",
              "\n",
              "    .dataframe thead th {\n",
              "        text-align: right;\n",
              "    }\n",
              "</style>\n",
              "<table border=\"1\" class=\"dataframe\">\n",
              "  <thead>\n",
              "    <tr style=\"text-align: right;\">\n",
              "      <th></th>\n",
              "      <th>Mkt-RF</th>\n",
              "      <th>SMB</th>\n",
              "      <th>HML</th>\n",
              "      <th>RF</th>\n",
              "    </tr>\n",
              "    <tr>\n",
              "      <th>Date</th>\n",
              "      <th></th>\n",
              "      <th></th>\n",
              "      <th></th>\n",
              "      <th></th>\n",
              "    </tr>\n",
              "  </thead>\n",
              "  <tbody>\n",
              "    <tr>\n",
              "      <th>1926-07</th>\n",
              "      <td>2.96</td>\n",
              "      <td>-2.30</td>\n",
              "      <td>-2.87</td>\n",
              "      <td>0.22</td>\n",
              "    </tr>\n",
              "    <tr>\n",
              "      <th>1926-08</th>\n",
              "      <td>2.64</td>\n",
              "      <td>-1.40</td>\n",
              "      <td>4.19</td>\n",
              "      <td>0.25</td>\n",
              "    </tr>\n",
              "    <tr>\n",
              "      <th>1926-09</th>\n",
              "      <td>0.36</td>\n",
              "      <td>-1.32</td>\n",
              "      <td>0.01</td>\n",
              "      <td>0.23</td>\n",
              "    </tr>\n",
              "    <tr>\n",
              "      <th>1926-10</th>\n",
              "      <td>-3.24</td>\n",
              "      <td>0.04</td>\n",
              "      <td>0.51</td>\n",
              "      <td>0.32</td>\n",
              "    </tr>\n",
              "    <tr>\n",
              "      <th>1926-11</th>\n",
              "      <td>2.53</td>\n",
              "      <td>-0.20</td>\n",
              "      <td>-0.35</td>\n",
              "      <td>0.31</td>\n",
              "    </tr>\n",
              "    <tr>\n",
              "      <th>...</th>\n",
              "      <td>...</td>\n",
              "      <td>...</td>\n",
              "      <td>...</td>\n",
              "      <td>...</td>\n",
              "    </tr>\n",
              "    <tr>\n",
              "      <th>2021-02</th>\n",
              "      <td>2.78</td>\n",
              "      <td>2.11</td>\n",
              "      <td>7.08</td>\n",
              "      <td>0.00</td>\n",
              "    </tr>\n",
              "    <tr>\n",
              "      <th>2021-03</th>\n",
              "      <td>3.08</td>\n",
              "      <td>-2.48</td>\n",
              "      <td>7.40</td>\n",
              "      <td>0.00</td>\n",
              "    </tr>\n",
              "    <tr>\n",
              "      <th>2021-04</th>\n",
              "      <td>4.93</td>\n",
              "      <td>-3.09</td>\n",
              "      <td>-0.74</td>\n",
              "      <td>0.00</td>\n",
              "    </tr>\n",
              "    <tr>\n",
              "      <th>2021-05</th>\n",
              "      <td>0.29</td>\n",
              "      <td>-0.21</td>\n",
              "      <td>7.04</td>\n",
              "      <td>0.00</td>\n",
              "    </tr>\n",
              "    <tr>\n",
              "      <th>2021-06</th>\n",
              "      <td>2.79</td>\n",
              "      <td>1.79</td>\n",
              "      <td>-7.70</td>\n",
              "      <td>0.00</td>\n",
              "    </tr>\n",
              "  </tbody>\n",
              "</table>\n",
              "<p>1140 rows × 4 columns</p>\n",
              "</div>"
            ],
            "text/plain": [
              "         Mkt-RF   SMB   HML    RF\n",
              "Date                             \n",
              "1926-07    2.96 -2.30 -2.87  0.22\n",
              "1926-08    2.64 -1.40  4.19  0.25\n",
              "1926-09    0.36 -1.32  0.01  0.23\n",
              "1926-10   -3.24  0.04  0.51  0.32\n",
              "1926-11    2.53 -0.20 -0.35  0.31\n",
              "...         ...   ...   ...   ...\n",
              "2021-02    2.78  2.11  7.08  0.00\n",
              "2021-03    3.08 -2.48  7.40  0.00\n",
              "2021-04    4.93 -3.09 -0.74  0.00\n",
              "2021-05    0.29 -0.21  7.04  0.00\n",
              "2021-06    2.79  1.79 -7.70  0.00\n",
              "\n",
              "[1140 rows x 4 columns]"
            ]
          },
          "metadata": {
            "tags": []
          },
          "execution_count": 20
        }
      ]
    },
    {
      "cell_type": "markdown",
      "metadata": {
        "id": "lV2FrgpRNor4"
      },
      "source": [
        "Let's plot the factors"
      ]
    },
    {
      "cell_type": "code",
      "metadata": {
        "colab": {
          "base_uri": "https://localhost:8080/",
          "height": 269
        },
        "id": "Jmkq8RDXLcxR",
        "outputId": "62da70b7-6367-429b-8a55-0f5013dfb564"
      },
      "source": [
        "ffac_df.rolling(72).mean().plot(subplots=True, figsize=(12, 4))\n",
        "plt.show()"
      ],
      "execution_count": 21,
      "outputs": [
        {
          "output_type": "display_data",
          "data": {
            "image/png": "[encoded data removed]",
            "text/plain": [
              "<Figure size 864x288 with 4 Axes>"
            ]
          },
          "metadata": {
            "tags": [],
            "needs_background": "light"
          }
        }
      ]
    },
    {
      "cell_type": "code",
      "metadata": {
        "colab": {
          "base_uri": "https://localhost:8080/",
          "height": 269
        },
        "id": "mwsKSVA9I_I4",
        "outputId": "c2d70332-487d-4fce-c543-220130704e81"
      },
      "source": [
        "ffac_df['Mkt-RF'].rolling(72).mean().plot(subplots=True, figsize=(12, 4))\n",
        "plt.show()"
      ],
      "execution_count": 22,
      "outputs": [
        {
          "output_type": "display_data",
          "data": {
            "image/png": "[encoded data removed]",
            "text/plain": [
              "<Figure size 864x288 with 1 Axes>"
            ]
          },
          "metadata": {
            "tags": [],
            "needs_background": "light"
          }
        }
      ]
    },
    {
      "cell_type": "code",
      "metadata": {
        "colab": {
          "base_uri": "https://localhost:8080/",
          "height": 269
        },
        "id": "IVgdYDaqN1Fq",
        "outputId": "804944bd-1c67-46d7-c8a5-78e04c49feee"
      },
      "source": [
        "ffac_df['SMB'].rolling(72).mean().plot(subplots=True, figsize=(12, 4))\n",
        "plt.show()"
      ],
      "execution_count": 23,
      "outputs": [
        {
          "output_type": "display_data",
          "data": {
            "image/png": "[encoded data removed]",
            "text/plain": [
              "<Figure size 864x288 with 1 Axes>"
            ]
          },
          "metadata": {
            "tags": [],
            "needs_background": "light"
          }
        }
      ]
    },
    {
      "cell_type": "code",
      "metadata": {
        "colab": {
          "base_uri": "https://localhost:8080/",
          "height": 269
        },
        "id": "ZAR0-O8GSTHf",
        "outputId": "9547ad00-115d-43fd-e045-f8eb0d5372f3"
      },
      "source": [
        "ffac_df['HML'].rolling(72).mean().plot(subplots=True, figsize=(12, 4))\n",
        "plt.show()"
      ],
      "execution_count": 24,
      "outputs": [
        {
          "output_type": "display_data",
          "data": {
            "image/png": "[encoded data removed]",
            "text/plain": [
              "<Figure size 864x288 with 1 Axes>"
            ]
          },
          "metadata": {
            "tags": [],
            "needs_background": "light"
          }
        }
      ]
    },
    {
      "cell_type": "markdown",
      "metadata": {
        "id": "z5ms6ku-R7mp"
      },
      "source": [
        "Let's compute some statistics"
      ]
    },
    {
      "cell_type": "code",
      "metadata": {
        "colab": {
          "base_uri": "https://localhost:8080/",
          "height": 143
        },
        "id": "5ioWAIAFN2wX",
        "outputId": "b0ba9c18-5064-4914-f617-d3a537a942ce"
      },
      "source": [
        "ffac_df[['Mkt-RF', 'SMB', 'HML']].corr()"
      ],
      "execution_count": 25,
      "outputs": [
        {
          "output_type": "execute_result",
          "data": {
            "text/html": [
              "<div>\n",
              "<style scoped>\n",
              "    .dataframe tbody tr th:only-of-type {\n",
              "        vertical-align: middle;\n",
              "    }\n",
              "\n",
              "    .dataframe tbody tr th {\n",
              "        vertical-align: top;\n",
              "    }\n",
              "\n",
              "    .dataframe thead th {\n",
              "        text-align: right;\n",
              "    }\n",
              "</style>\n",
              "<table border=\"1\" class=\"dataframe\">\n",
              "  <thead>\n",
              "    <tr style=\"text-align: right;\">\n",
              "      <th></th>\n",
              "      <th>Mkt-RF</th>\n",
              "      <th>SMB</th>\n",
              "      <th>HML</th>\n",
              "    </tr>\n",
              "  </thead>\n",
              "  <tbody>\n",
              "    <tr>\n",
              "      <th>Mkt-RF</th>\n",
              "      <td>1.000000</td>\n",
              "      <td>0.322078</td>\n",
              "      <td>0.235568</td>\n",
              "    </tr>\n",
              "    <tr>\n",
              "      <th>SMB</th>\n",
              "      <td>0.322078</td>\n",
              "      <td>1.000000</td>\n",
              "      <td>0.126751</td>\n",
              "    </tr>\n",
              "    <tr>\n",
              "      <th>HML</th>\n",
              "      <td>0.235568</td>\n",
              "      <td>0.126751</td>\n",
              "      <td>1.000000</td>\n",
              "    </tr>\n",
              "  </tbody>\n",
              "</table>\n",
              "</div>"
            ],
            "text/plain": [
              "          Mkt-RF       SMB       HML\n",
              "Mkt-RF  1.000000  0.322078  0.235568\n",
              "SMB     0.322078  1.000000  0.126751\n",
              "HML     0.235568  0.126751  1.000000"
            ]
          },
          "metadata": {
            "tags": []
          },
          "execution_count": 25
        }
      ]
    },
    {
      "cell_type": "markdown",
      "metadata": {
        "id": "5Z_T5Yq5xQxF"
      },
      "source": [
        "Let's add momentum"
      ]
    },
    {
      "cell_type": "code",
      "metadata": {
        "colab": {
          "base_uri": "https://localhost:8080/",
          "height": 455
        },
        "id": "IIJ_ZQMxPMLr",
        "outputId": "5b7bf453-9579-424b-aaec-ae155a26bbb4"
      },
      "source": [
        "ffac_mom_df=pandas_datareader.famafrench.FamaFrenchReader('F-F_Momentum_Factor', freq='M', start=start).read()[0]\n",
        "ffac_mom_df"
      ],
      "execution_count": 26,
      "outputs": [
        {
          "output_type": "execute_result",
          "data": {
            "text/html": [
              "<div>\n",
              "<style scoped>\n",
              "    .dataframe tbody tr th:only-of-type {\n",
              "        vertical-align: middle;\n",
              "    }\n",
              "\n",
              "    .dataframe tbody tr th {\n",
              "        vertical-align: top;\n",
              "    }\n",
              "\n",
              "    .dataframe thead th {\n",
              "        text-align: right;\n",
              "    }\n",
              "</style>\n",
              "<table border=\"1\" class=\"dataframe\">\n",
              "  <thead>\n",
              "    <tr style=\"text-align: right;\">\n",
              "      <th></th>\n",
              "      <th>Mom</th>\n",
              "    </tr>\n",
              "    <tr>\n",
              "      <th>Date</th>\n",
              "      <th></th>\n",
              "    </tr>\n",
              "  </thead>\n",
              "  <tbody>\n",
              "    <tr>\n",
              "      <th>1927-01</th>\n",
              "      <td>0.44</td>\n",
              "    </tr>\n",
              "    <tr>\n",
              "      <th>1927-02</th>\n",
              "      <td>-1.32</td>\n",
              "    </tr>\n",
              "    <tr>\n",
              "      <th>1927-03</th>\n",
              "      <td>3.59</td>\n",
              "    </tr>\n",
              "    <tr>\n",
              "      <th>1927-04</th>\n",
              "      <td>4.17</td>\n",
              "    </tr>\n",
              "    <tr>\n",
              "      <th>1927-05</th>\n",
              "      <td>2.96</td>\n",
              "    </tr>\n",
              "    <tr>\n",
              "      <th>...</th>\n",
              "      <td>...</td>\n",
              "    </tr>\n",
              "    <tr>\n",
              "      <th>2021-02</th>\n",
              "      <td>-7.67</td>\n",
              "    </tr>\n",
              "    <tr>\n",
              "      <th>2021-03</th>\n",
              "      <td>-5.83</td>\n",
              "    </tr>\n",
              "    <tr>\n",
              "      <th>2021-04</th>\n",
              "      <td>1.01</td>\n",
              "    </tr>\n",
              "    <tr>\n",
              "      <th>2021-05</th>\n",
              "      <td>0.56</td>\n",
              "    </tr>\n",
              "    <tr>\n",
              "      <th>2021-06</th>\n",
              "      <td>2.12</td>\n",
              "    </tr>\n",
              "  </tbody>\n",
              "</table>\n",
              "<p>1134 rows × 1 columns</p>\n",
              "</div>"
            ],
            "text/plain": [
              "         Mom   \n",
              "Date           \n",
              "1927-01    0.44\n",
              "1927-02   -1.32\n",
              "1927-03    3.59\n",
              "1927-04    4.17\n",
              "1927-05    2.96\n",
              "...         ...\n",
              "2021-02   -7.67\n",
              "2021-03   -5.83\n",
              "2021-04    1.01\n",
              "2021-05    0.56\n",
              "2021-06    2.12\n",
              "\n",
              "[1134 rows x 1 columns]"
            ]
          },
          "metadata": {
            "tags": []
          },
          "execution_count": 26
        }
      ]
    },
    {
      "cell_type": "markdown",
      "metadata": {
        "id": "k2ZZOs9Kxkqs"
      },
      "source": [
        "Let's add the momentum factor to our dataset of Mkt-RF, SMB, and HML"
      ]
    },
    {
      "cell_type": "code",
      "metadata": {
        "colab": {
          "base_uri": "https://localhost:8080/",
          "height": 455
        },
        "id": "5HHJklQNSuow",
        "outputId": "49b57a87-9712-4ee4-c552-fab14ec6728b"
      },
      "source": [
        "df_ffac_merged = pd.merge(ffac_df,ffac_mom_df,how=\"inner\",on='Date',sort=True,copy=True,indicator=False,validate='one_to_one')\n",
        "df_ffac_merged"
      ],
      "execution_count": 27,
      "outputs": [
        {
          "output_type": "execute_result",
          "data": {
            "text/html": [
              "<div>\n",
              "<style scoped>\n",
              "    .dataframe tbody tr th:only-of-type {\n",
              "        vertical-align: middle;\n",
              "    }\n",
              "\n",
              "    .dataframe tbody tr th {\n",
              "        vertical-align: top;\n",
              "    }\n",
              "\n",
              "    .dataframe thead th {\n",
              "        text-align: right;\n",
              "    }\n",
              "</style>\n",
              "<table border=\"1\" class=\"dataframe\">\n",
              "  <thead>\n",
              "    <tr style=\"text-align: right;\">\n",
              "      <th></th>\n",
              "      <th>Mkt-RF</th>\n",
              "      <th>SMB</th>\n",
              "      <th>HML</th>\n",
              "      <th>RF</th>\n",
              "      <th>Mom</th>\n",
              "    </tr>\n",
              "    <tr>\n",
              "      <th>Date</th>\n",
              "      <th></th>\n",
              "      <th></th>\n",
              "      <th></th>\n",
              "      <th></th>\n",
              "      <th></th>\n",
              "    </tr>\n",
              "  </thead>\n",
              "  <tbody>\n",
              "    <tr>\n",
              "      <th>1927-01</th>\n",
              "      <td>-0.06</td>\n",
              "      <td>-0.56</td>\n",
              "      <td>4.83</td>\n",
              "      <td>0.25</td>\n",
              "      <td>0.44</td>\n",
              "    </tr>\n",
              "    <tr>\n",
              "      <th>1927-02</th>\n",
              "      <td>4.18</td>\n",
              "      <td>-0.10</td>\n",
              "      <td>3.17</td>\n",
              "      <td>0.26</td>\n",
              "      <td>-1.32</td>\n",
              "    </tr>\n",
              "    <tr>\n",
              "      <th>1927-03</th>\n",
              "      <td>0.13</td>\n",
              "      <td>-1.60</td>\n",
              "      <td>-2.67</td>\n",
              "      <td>0.30</td>\n",
              "      <td>3.59</td>\n",
              "    </tr>\n",
              "    <tr>\n",
              "      <th>1927-04</th>\n",
              "      <td>0.46</td>\n",
              "      <td>0.43</td>\n",
              "      <td>0.60</td>\n",
              "      <td>0.25</td>\n",
              "      <td>4.17</td>\n",
              "    </tr>\n",
              "    <tr>\n",
              "      <th>1927-05</th>\n",
              "      <td>5.44</td>\n",
              "      <td>1.41</td>\n",
              "      <td>4.93</td>\n",
              "      <td>0.30</td>\n",
              "      <td>2.96</td>\n",
              "    </tr>\n",
              "    <tr>\n",
              "      <th>...</th>\n",
              "      <td>...</td>\n",
              "      <td>...</td>\n",
              "      <td>...</td>\n",
              "      <td>...</td>\n",
              "      <td>...</td>\n",
              "    </tr>\n",
              "    <tr>\n",
              "      <th>2021-02</th>\n",
              "      <td>2.78</td>\n",
              "      <td>2.11</td>\n",
              "      <td>7.08</td>\n",
              "      <td>0.00</td>\n",
              "      <td>-7.67</td>\n",
              "    </tr>\n",
              "    <tr>\n",
              "      <th>2021-03</th>\n",
              "      <td>3.08</td>\n",
              "      <td>-2.48</td>\n",
              "      <td>7.40</td>\n",
              "      <td>0.00</td>\n",
              "      <td>-5.83</td>\n",
              "    </tr>\n",
              "    <tr>\n",
              "      <th>2021-04</th>\n",
              "      <td>4.93</td>\n",
              "      <td>-3.09</td>\n",
              "      <td>-0.74</td>\n",
              "      <td>0.00</td>\n",
              "      <td>1.01</td>\n",
              "    </tr>\n",
              "    <tr>\n",
              "      <th>2021-05</th>\n",
              "      <td>0.29</td>\n",
              "      <td>-0.21</td>\n",
              "      <td>7.04</td>\n",
              "      <td>0.00</td>\n",
              "      <td>0.56</td>\n",
              "    </tr>\n",
              "    <tr>\n",
              "      <th>2021-06</th>\n",
              "      <td>2.79</td>\n",
              "      <td>1.79</td>\n",
              "      <td>-7.70</td>\n",
              "      <td>0.00</td>\n",
              "      <td>2.12</td>\n",
              "    </tr>\n",
              "  </tbody>\n",
              "</table>\n",
              "<p>1134 rows × 5 columns</p>\n",
              "</div>"
            ],
            "text/plain": [
              "         Mkt-RF   SMB   HML    RF  Mom   \n",
              "Date                                     \n",
              "1927-01   -0.06 -0.56  4.83  0.25    0.44\n",
              "1927-02    4.18 -0.10  3.17  0.26   -1.32\n",
              "1927-03    0.13 -1.60 -2.67  0.30    3.59\n",
              "1927-04    0.46  0.43  0.60  0.25    4.17\n",
              "1927-05    5.44  1.41  4.93  0.30    2.96\n",
              "...         ...   ...   ...   ...     ...\n",
              "2021-02    2.78  2.11  7.08  0.00   -7.67\n",
              "2021-03    3.08 -2.48  7.40  0.00   -5.83\n",
              "2021-04    4.93 -3.09 -0.74  0.00    1.01\n",
              "2021-05    0.29 -0.21  7.04  0.00    0.56\n",
              "2021-06    2.79  1.79 -7.70  0.00    2.12\n",
              "\n",
              "[1134 rows x 5 columns]"
            ]
          },
          "metadata": {
            "tags": []
          },
          "execution_count": 27
        }
      ]
    },
    {
      "cell_type": "markdown",
      "metadata": {
        "id": "9gKDjEnWR-lG"
      },
      "source": [
        "Weird bit of data cleaning in the Momentum factor name:"
      ]
    },
    {
      "cell_type": "code",
      "metadata": {
        "id": "ZZFTixkHQpox"
      },
      "source": [
        "df_ffac_merged.rename(columns={'Mom   ':'Mom'},inplace=True)"
      ],
      "execution_count": 28,
      "outputs": []
    },
    {
      "cell_type": "markdown",
      "metadata": {
        "id": "aM780_Dbyzlt"
      },
      "source": [
        "Let's calculate factor exposures and idiosyncratic risk for a firm"
      ]
    },
    {
      "cell_type": "code",
      "metadata": {
        "colab": {
          "base_uri": "https://localhost:8080/"
        },
        "id": "cvpBXjHWSw9k",
        "outputId": "db6d1311-d51a-4779-ea7c-ab3ae29e5555"
      },
      "source": [
        "tsla_data = pdr.get_data_yahoo('TSLA', start=start, end=end)['Adj Close'].resample('M').ffill().pct_change()\n",
        "tsla_df=tsla_data.to_frame()"
      ],
      "execution_count": 29,
      "outputs": [
        {
          "output_type": "stream",
          "text": [
            "\r[*********************100%***********************]  1 of 1 completed\n"
          ],
          "name": "stdout"
        }
      ]
    },
    {
      "cell_type": "code",
      "metadata": {
        "id": "8ki8gquo0Ma5",
        "colab": {
          "base_uri": "https://localhost:8080/",
          "height": 455
        },
        "outputId": "ef18b4c3-6bf5-4859-e122-28ce29505db7"
      },
      "source": [
        "tsla_df.rename(columns={'Adj Close':'TSLA'}, inplace=True)\n",
        "tsla_df"
      ],
      "execution_count": 30,
      "outputs": [
        {
          "output_type": "execute_result",
          "data": {
            "text/html": [
              "<div>\n",
              "<style scoped>\n",
              "    .dataframe tbody tr th:only-of-type {\n",
              "        vertical-align: middle;\n",
              "    }\n",
              "\n",
              "    .dataframe tbody tr th {\n",
              "        vertical-align: top;\n",
              "    }\n",
              "\n",
              "    .dataframe thead th {\n",
              "        text-align: right;\n",
              "    }\n",
              "</style>\n",
              "<table border=\"1\" class=\"dataframe\">\n",
              "  <thead>\n",
              "    <tr style=\"text-align: right;\">\n",
              "      <th></th>\n",
              "      <th>TSLA</th>\n",
              "    </tr>\n",
              "    <tr>\n",
              "      <th>Date</th>\n",
              "      <th></th>\n",
              "    </tr>\n",
              "  </thead>\n",
              "  <tbody>\n",
              "    <tr>\n",
              "      <th>2010-06-30</th>\n",
              "      <td>NaN</td>\n",
              "    </tr>\n",
              "    <tr>\n",
              "      <th>2010-07-31</th>\n",
              "      <td>-0.163240</td>\n",
              "    </tr>\n",
              "    <tr>\n",
              "      <th>2010-08-31</th>\n",
              "      <td>-0.023069</td>\n",
              "    </tr>\n",
              "    <tr>\n",
              "      <th>2010-09-30</th>\n",
              "      <td>0.047741</td>\n",
              "    </tr>\n",
              "    <tr>\n",
              "      <th>2010-10-31</th>\n",
              "      <td>0.070064</td>\n",
              "    </tr>\n",
              "    <tr>\n",
              "      <th>...</th>\n",
              "      <td>...</td>\n",
              "    </tr>\n",
              "    <tr>\n",
              "      <th>2021-04-30</th>\n",
              "      <td>0.062147</td>\n",
              "    </tr>\n",
              "    <tr>\n",
              "      <th>2021-05-31</th>\n",
              "      <td>-0.118713</td>\n",
              "    </tr>\n",
              "    <tr>\n",
              "      <th>2021-06-30</th>\n",
              "      <td>0.087137</td>\n",
              "    </tr>\n",
              "    <tr>\n",
              "      <th>2021-07-31</th>\n",
              "      <td>0.011034</td>\n",
              "    </tr>\n",
              "    <tr>\n",
              "      <th>2021-08-31</th>\n",
              "      <td>0.030006</td>\n",
              "    </tr>\n",
              "  </tbody>\n",
              "</table>\n",
              "<p>135 rows × 1 columns</p>\n",
              "</div>"
            ],
            "text/plain": [
              "                TSLA\n",
              "Date                \n",
              "2010-06-30       NaN\n",
              "2010-07-31 -0.163240\n",
              "2010-08-31 -0.023069\n",
              "2010-09-30  0.047741\n",
              "2010-10-31  0.070064\n",
              "...              ...\n",
              "2021-04-30  0.062147\n",
              "2021-05-31 -0.118713\n",
              "2021-06-30  0.087137\n",
              "2021-07-31  0.011034\n",
              "2021-08-31  0.030006\n",
              "\n",
              "[135 rows x 1 columns]"
            ]
          },
          "metadata": {
            "tags": []
          },
          "execution_count": 30
        }
      ]
    },
    {
      "cell_type": "code",
      "metadata": {
        "colab": {
          "base_uri": "https://localhost:8080/"
        },
        "id": "CB6npJgKF99W",
        "outputId": "56a53e6d-1db4-4dd6-a242-5b344e187b6e"
      },
      "source": [
        "tsla_df.index.dtype"
      ],
      "execution_count": 31,
      "outputs": [
        {
          "output_type": "execute_result",
          "data": {
            "text/plain": [
              "dtype('<M8[ns]')"
            ]
          },
          "metadata": {
            "tags": []
          },
          "execution_count": 31
        }
      ]
    },
    {
      "cell_type": "code",
      "metadata": {
        "colab": {
          "base_uri": "https://localhost:8080/"
        },
        "id": "L7NtLa8WKsie",
        "outputId": "68ae5bde-8cfa-4b0b-efc5-20919e7b4baa"
      },
      "source": [
        "tsla_df['str_date'] = tsla_df.index.astype(str)\n",
        "tsla_df['dt_date'] = pd.to_datetime(tsla_df['str_date']).dt.strftime('%Y-%m')\n",
        "tsla_df.dt_date.dtype"
      ],
      "execution_count": 32,
      "outputs": [
        {
          "output_type": "execute_result",
          "data": {
            "text/plain": [
              "dtype('O')"
            ]
          },
          "metadata": {
            "tags": []
          },
          "execution_count": 32
        }
      ]
    },
    {
      "cell_type": "code",
      "metadata": {
        "colab": {
          "base_uri": "https://localhost:8080/"
        },
        "id": "2I8rSXvuG6RX",
        "outputId": "7f03f5cc-95c9-49dd-9f6f-fb1f7dea14ca"
      },
      "source": [
        "df_ffac_merged.index.dtype"
      ],
      "execution_count": 33,
      "outputs": [
        {
          "output_type": "execute_result",
          "data": {
            "text/plain": [
              "period[M]"
            ]
          },
          "metadata": {
            "tags": []
          },
          "execution_count": 33
        }
      ]
    },
    {
      "cell_type": "code",
      "metadata": {
        "colab": {
          "base_uri": "https://localhost:8080/"
        },
        "id": "83JDPo7jJmqK",
        "outputId": "6d004b0e-c696-476a-b5dd-38ac3d0ac925"
      },
      "source": [
        "df_ffac_merged['str_date'] = df_ffac_merged.index.astype(str)\n",
        "df_ffac_merged['dt_date'] = pd.to_datetime(df_ffac_merged['str_date']).dt.strftime('%Y-%m')\n",
        "df_ffac_merged.dt_date.dtype"
      ],
      "execution_count": 34,
      "outputs": [
        {
          "output_type": "execute_result",
          "data": {
            "text/plain": [
              "dtype('O')"
            ]
          },
          "metadata": {
            "tags": []
          },
          "execution_count": 34
        }
      ]
    },
    {
      "cell_type": "code",
      "metadata": {
        "id": "8oWMWwbbTO3R",
        "colab": {
          "base_uri": "https://localhost:8080/",
          "height": 424
        },
        "outputId": "19ea07eb-415b-4acd-c3c1-370aa36d0fc3"
      },
      "source": [
        "df_tsla_ffac_merged = pd.merge(df_ffac_merged,tsla_df,how=\"inner\",on='dt_date',sort=True,copy=True,indicator=False,validate='one_to_one')\n",
        "df_tsla_ffac_merged.drop(columns=['str_date_x','str_date_y'],inplace=True)\n",
        "df_tsla_ffac_merged"
      ],
      "execution_count": 35,
      "outputs": [
        {
          "output_type": "execute_result",
          "data": {
            "text/html": [
              "<div>\n",
              "<style scoped>\n",
              "    .dataframe tbody tr th:only-of-type {\n",
              "        vertical-align: middle;\n",
              "    }\n",
              "\n",
              "    .dataframe tbody tr th {\n",
              "        vertical-align: top;\n",
              "    }\n",
              "\n",
              "    .dataframe thead th {\n",
              "        text-align: right;\n",
              "    }\n",
              "</style>\n",
              "<table border=\"1\" class=\"dataframe\">\n",
              "  <thead>\n",
              "    <tr style=\"text-align: right;\">\n",
              "      <th></th>\n",
              "      <th>Mkt-RF</th>\n",
              "      <th>SMB</th>\n",
              "      <th>HML</th>\n",
              "      <th>RF</th>\n",
              "      <th>Mom</th>\n",
              "      <th>dt_date</th>\n",
              "      <th>TSLA</th>\n",
              "    </tr>\n",
              "  </thead>\n",
              "  <tbody>\n",
              "    <tr>\n",
              "      <th>0</th>\n",
              "      <td>-5.57</td>\n",
              "      <td>-1.84</td>\n",
              "      <td>-4.52</td>\n",
              "      <td>0.01</td>\n",
              "      <td>-2.99</td>\n",
              "      <td>2010-06</td>\n",
              "      <td>NaN</td>\n",
              "    </tr>\n",
              "    <tr>\n",
              "      <th>1</th>\n",
              "      <td>6.93</td>\n",
              "      <td>0.18</td>\n",
              "      <td>-0.36</td>\n",
              "      <td>0.01</td>\n",
              "      <td>1.90</td>\n",
              "      <td>2010-07</td>\n",
              "      <td>-0.163240</td>\n",
              "    </tr>\n",
              "    <tr>\n",
              "      <th>2</th>\n",
              "      <td>-4.77</td>\n",
              "      <td>-3.02</td>\n",
              "      <td>-1.90</td>\n",
              "      <td>0.01</td>\n",
              "      <td>-0.18</td>\n",
              "      <td>2010-08</td>\n",
              "      <td>-0.023069</td>\n",
              "    </tr>\n",
              "    <tr>\n",
              "      <th>3</th>\n",
              "      <td>9.54</td>\n",
              "      <td>3.93</td>\n",
              "      <td>-3.23</td>\n",
              "      <td>0.01</td>\n",
              "      <td>1.35</td>\n",
              "      <td>2010-09</td>\n",
              "      <td>0.047741</td>\n",
              "    </tr>\n",
              "    <tr>\n",
              "      <th>4</th>\n",
              "      <td>3.88</td>\n",
              "      <td>1.07</td>\n",
              "      <td>-2.46</td>\n",
              "      <td>0.01</td>\n",
              "      <td>1.66</td>\n",
              "      <td>2010-10</td>\n",
              "      <td>0.070064</td>\n",
              "    </tr>\n",
              "    <tr>\n",
              "      <th>...</th>\n",
              "      <td>...</td>\n",
              "      <td>...</td>\n",
              "      <td>...</td>\n",
              "      <td>...</td>\n",
              "      <td>...</td>\n",
              "      <td>...</td>\n",
              "      <td>...</td>\n",
              "    </tr>\n",
              "    <tr>\n",
              "      <th>128</th>\n",
              "      <td>2.78</td>\n",
              "      <td>2.11</td>\n",
              "      <td>7.08</td>\n",
              "      <td>0.00</td>\n",
              "      <td>-7.67</td>\n",
              "      <td>2021-02</td>\n",
              "      <td>-0.148740</td>\n",
              "    </tr>\n",
              "    <tr>\n",
              "      <th>129</th>\n",
              "      <td>3.08</td>\n",
              "      <td>-2.48</td>\n",
              "      <td>7.40</td>\n",
              "      <td>0.00</td>\n",
              "      <td>-5.83</td>\n",
              "      <td>2021-03</td>\n",
              "      <td>-0.011207</td>\n",
              "    </tr>\n",
              "    <tr>\n",
              "      <th>130</th>\n",
              "      <td>4.93</td>\n",
              "      <td>-3.09</td>\n",
              "      <td>-0.74</td>\n",
              "      <td>0.00</td>\n",
              "      <td>1.01</td>\n",
              "      <td>2021-04</td>\n",
              "      <td>0.062147</td>\n",
              "    </tr>\n",
              "    <tr>\n",
              "      <th>131</th>\n",
              "      <td>0.29</td>\n",
              "      <td>-0.21</td>\n",
              "      <td>7.04</td>\n",
              "      <td>0.00</td>\n",
              "      <td>0.56</td>\n",
              "      <td>2021-05</td>\n",
              "      <td>-0.118713</td>\n",
              "    </tr>\n",
              "    <tr>\n",
              "      <th>132</th>\n",
              "      <td>2.79</td>\n",
              "      <td>1.79</td>\n",
              "      <td>-7.70</td>\n",
              "      <td>0.00</td>\n",
              "      <td>2.12</td>\n",
              "      <td>2021-06</td>\n",
              "      <td>0.087137</td>\n",
              "    </tr>\n",
              "  </tbody>\n",
              "</table>\n",
              "<p>133 rows × 7 columns</p>\n",
              "</div>"
            ],
            "text/plain": [
              "     Mkt-RF   SMB   HML    RF   Mom  dt_date      TSLA\n",
              "0     -5.57 -1.84 -4.52  0.01 -2.99  2010-06       NaN\n",
              "1      6.93  0.18 -0.36  0.01  1.90  2010-07 -0.163240\n",
              "2     -4.77 -3.02 -1.90  0.01 -0.18  2010-08 -0.023069\n",
              "3      9.54  3.93 -3.23  0.01  1.35  2010-09  0.047741\n",
              "4      3.88  1.07 -2.46  0.01  1.66  2010-10  0.070064\n",
              "..      ...   ...   ...   ...   ...      ...       ...\n",
              "128    2.78  2.11  7.08  0.00 -7.67  2021-02 -0.148740\n",
              "129    3.08 -2.48  7.40  0.00 -5.83  2021-03 -0.011207\n",
              "130    4.93 -3.09 -0.74  0.00  1.01  2021-04  0.062147\n",
              "131    0.29 -0.21  7.04  0.00  0.56  2021-05 -0.118713\n",
              "132    2.79  1.79 -7.70  0.00  2.12  2021-06  0.087137\n",
              "\n",
              "[133 rows x 7 columns]"
            ]
          },
          "metadata": {
            "tags": []
          },
          "execution_count": 35
        }
      ]
    },
    {
      "cell_type": "code",
      "metadata": {
        "id": "ui3An1q6L9Se"
      },
      "source": [
        ""
      ],
      "execution_count": 35,
      "outputs": []
    },
    {
      "cell_type": "code",
      "metadata": {
        "colab": {
          "base_uri": "https://localhost:8080/",
          "height": 424
        },
        "id": "l2EKo9P-LihA",
        "outputId": "d9f66b75-9e0b-4fb9-deba-2bb1701e5709"
      },
      "source": [
        "df_tsla_ffac_merged['TSLA_rf']=df_tsla_ffac_merged['TSLA']*100-df_tsla_ffac_merged['RF']\n",
        "df_tsla_ffac_merged.dropna(axis=0)"
      ],
      "execution_count": 36,
      "outputs": [
        {
          "output_type": "execute_result",
          "data": {
            "text/html": [
              "<div>\n",
              "<style scoped>\n",
              "    .dataframe tbody tr th:only-of-type {\n",
              "        vertical-align: middle;\n",
              "    }\n",
              "\n",
              "    .dataframe tbody tr th {\n",
              "        vertical-align: top;\n",
              "    }\n",
              "\n",
              "    .dataframe thead th {\n",
              "        text-align: right;\n",
              "    }\n",
              "</style>\n",
              "<table border=\"1\" class=\"dataframe\">\n",
              "  <thead>\n",
              "    <tr style=\"text-align: right;\">\n",
              "      <th></th>\n",
              "      <th>Mkt-RF</th>\n",
              "      <th>SMB</th>\n",
              "      <th>HML</th>\n",
              "      <th>RF</th>\n",
              "      <th>Mom</th>\n",
              "      <th>dt_date</th>\n",
              "      <th>TSLA</th>\n",
              "      <th>TSLA_rf</th>\n",
              "    </tr>\n",
              "  </thead>\n",
              "  <tbody>\n",
              "    <tr>\n",
              "      <th>1</th>\n",
              "      <td>6.93</td>\n",
              "      <td>0.18</td>\n",
              "      <td>-0.36</td>\n",
              "      <td>0.01</td>\n",
              "      <td>1.90</td>\n",
              "      <td>2010-07</td>\n",
              "      <td>-0.163240</td>\n",
              "      <td>-16.333960</td>\n",
              "    </tr>\n",
              "    <tr>\n",
              "      <th>2</th>\n",
              "      <td>-4.77</td>\n",
              "      <td>-3.02</td>\n",
              "      <td>-1.90</td>\n",
              "      <td>0.01</td>\n",
              "      <td>-0.18</td>\n",
              "      <td>2010-08</td>\n",
              "      <td>-0.023069</td>\n",
              "      <td>-2.316921</td>\n",
              "    </tr>\n",
              "    <tr>\n",
              "      <th>3</th>\n",
              "      <td>9.54</td>\n",
              "      <td>3.93</td>\n",
              "      <td>-3.23</td>\n",
              "      <td>0.01</td>\n",
              "      <td>1.35</td>\n",
              "      <td>2010-09</td>\n",
              "      <td>0.047741</td>\n",
              "      <td>4.764124</td>\n",
              "    </tr>\n",
              "    <tr>\n",
              "      <th>4</th>\n",
              "      <td>3.88</td>\n",
              "      <td>1.07</td>\n",
              "      <td>-2.46</td>\n",
              "      <td>0.01</td>\n",
              "      <td>1.66</td>\n",
              "      <td>2010-10</td>\n",
              "      <td>0.070064</td>\n",
              "      <td>6.996376</td>\n",
              "    </tr>\n",
              "    <tr>\n",
              "      <th>5</th>\n",
              "      <td>0.60</td>\n",
              "      <td>3.78</td>\n",
              "      <td>-0.95</td>\n",
              "      <td>0.01</td>\n",
              "      <td>2.54</td>\n",
              "      <td>2010-11</td>\n",
              "      <td>0.617674</td>\n",
              "      <td>61.757398</td>\n",
              "    </tr>\n",
              "    <tr>\n",
              "      <th>...</th>\n",
              "      <td>...</td>\n",
              "      <td>...</td>\n",
              "      <td>...</td>\n",
              "      <td>...</td>\n",
              "      <td>...</td>\n",
              "      <td>...</td>\n",
              "      <td>...</td>\n",
              "      <td>...</td>\n",
              "    </tr>\n",
              "    <tr>\n",
              "      <th>128</th>\n",
              "      <td>2.78</td>\n",
              "      <td>2.11</td>\n",
              "      <td>7.08</td>\n",
              "      <td>0.00</td>\n",
              "      <td>-7.67</td>\n",
              "      <td>2021-02</td>\n",
              "      <td>-0.148740</td>\n",
              "      <td>-14.874047</td>\n",
              "    </tr>\n",
              "    <tr>\n",
              "      <th>129</th>\n",
              "      <td>3.08</td>\n",
              "      <td>-2.48</td>\n",
              "      <td>7.40</td>\n",
              "      <td>0.00</td>\n",
              "      <td>-5.83</td>\n",
              "      <td>2021-03</td>\n",
              "      <td>-0.011207</td>\n",
              "      <td>-1.120652</td>\n",
              "    </tr>\n",
              "    <tr>\n",
              "      <th>130</th>\n",
              "      <td>4.93</td>\n",
              "      <td>-3.09</td>\n",
              "      <td>-0.74</td>\n",
              "      <td>0.00</td>\n",
              "      <td>1.01</td>\n",
              "      <td>2021-04</td>\n",
              "      <td>0.062147</td>\n",
              "      <td>6.214725</td>\n",
              "    </tr>\n",
              "    <tr>\n",
              "      <th>131</th>\n",
              "      <td>0.29</td>\n",
              "      <td>-0.21</td>\n",
              "      <td>7.04</td>\n",
              "      <td>0.00</td>\n",
              "      <td>0.56</td>\n",
              "      <td>2021-05</td>\n",
              "      <td>-0.118713</td>\n",
              "      <td>-11.871340</td>\n",
              "    </tr>\n",
              "    <tr>\n",
              "      <th>132</th>\n",
              "      <td>2.79</td>\n",
              "      <td>1.79</td>\n",
              "      <td>-7.70</td>\n",
              "      <td>0.00</td>\n",
              "      <td>2.12</td>\n",
              "      <td>2021-06</td>\n",
              "      <td>0.087137</td>\n",
              "      <td>8.713740</td>\n",
              "    </tr>\n",
              "  </tbody>\n",
              "</table>\n",
              "<p>132 rows × 8 columns</p>\n",
              "</div>"
            ],
            "text/plain": [
              "     Mkt-RF   SMB   HML    RF   Mom  dt_date      TSLA    TSLA_rf\n",
              "1      6.93  0.18 -0.36  0.01  1.90  2010-07 -0.163240 -16.333960\n",
              "2     -4.77 -3.02 -1.90  0.01 -0.18  2010-08 -0.023069  -2.316921\n",
              "3      9.54  3.93 -3.23  0.01  1.35  2010-09  0.047741   4.764124\n",
              "4      3.88  1.07 -2.46  0.01  1.66  2010-10  0.070064   6.996376\n",
              "5      0.60  3.78 -0.95  0.01  2.54  2010-11  0.617674  61.757398\n",
              "..      ...   ...   ...   ...   ...      ...       ...        ...\n",
              "128    2.78  2.11  7.08  0.00 -7.67  2021-02 -0.148740 -14.874047\n",
              "129    3.08 -2.48  7.40  0.00 -5.83  2021-03 -0.011207  -1.120652\n",
              "130    4.93 -3.09 -0.74  0.00  1.01  2021-04  0.062147   6.214725\n",
              "131    0.29 -0.21  7.04  0.00  0.56  2021-05 -0.118713 -11.871340\n",
              "132    2.79  1.79 -7.70  0.00  2.12  2021-06  0.087137   8.713740\n",
              "\n",
              "[132 rows x 8 columns]"
            ]
          },
          "metadata": {
            "tags": []
          },
          "execution_count": 36
        }
      ]
    },
    {
      "cell_type": "markdown",
      "metadata": {
        "id": "f-fRfSKQSP6p"
      },
      "source": [
        "We have now matched our TSLA returns to our factor returns"
      ]
    },
    {
      "cell_type": "markdown",
      "metadata": {
        "id": "74uYonDeWRL5"
      },
      "source": [
        "We can now run an OLS regression similar to last time"
      ]
    },
    {
      "cell_type": "code",
      "metadata": {
        "id": "aiPeGqtcTGsy",
        "colab": {
          "base_uri": "https://localhost:8080/",
          "height": 551
        },
        "outputId": "15716430-376b-491d-a5c3-a765ab96eeb8"
      },
      "source": [
        "from statsmodels.api import OLS\n",
        "results=OLS(df_tsla_ffac_merged['TSLA_rf'],df_tsla_ffac_merged[['Mkt-RF','SMB','HML','Mom']],missing='drop').fit()\n",
        "results.summary()"
      ],
      "execution_count": 37,
      "outputs": [
        {
          "output_type": "stream",
          "text": [
            "/usr/local/lib/python3.7/dist-packages/statsmodels/tools/_testing.py:19: FutureWarning: pandas.util.testing is deprecated. Use the functions in the public API at pandas.testing instead.\n",
            "  import pandas.util.testing as tm\n"
          ],
          "name": "stderr"
        },
        {
          "output_type": "execute_result",
          "data": {
            "text/html": [
              "<table class=\"simpletable\">\n",
              "<caption>OLS Regression Results</caption>\n",
              "<tr>\n",
              "  <th>Dep. Variable:</th>         <td>TSLA_rf</td>     <th>  R-squared (uncentered):</th>      <td>   0.184</td>\n",
              "</tr>\n",
              "<tr>\n",
              "  <th>Model:</th>                   <td>OLS</td>       <th>  Adj. R-squared (uncentered):</th> <td>   0.159</td>\n",
              "</tr>\n",
              "<tr>\n",
              "  <th>Method:</th>             <td>Least Squares</td>  <th>  F-statistic:       </th>          <td>   7.235</td>\n",
              "</tr>\n",
              "<tr>\n",
              "  <th>Date:</th>             <td>Wed, 11 Aug 2021</td> <th>  Prob (F-statistic):</th>          <td>2.76e-05</td>\n",
              "</tr>\n",
              "<tr>\n",
              "  <th>Time:</th>                 <td>22:20:03</td>     <th>  Log-Likelihood:    </th>          <td> -562.25</td>\n",
              "</tr>\n",
              "<tr>\n",
              "  <th>No. Observations:</th>      <td>   132</td>      <th>  AIC:               </th>          <td>   1133.</td>\n",
              "</tr>\n",
              "<tr>\n",
              "  <th>Df Residuals:</th>          <td>   128</td>      <th>  BIC:               </th>          <td>   1144.</td>\n",
              "</tr>\n",
              "<tr>\n",
              "  <th>Df Model:</th>              <td>     4</td>      <th>                     </th>              <td> </td>   \n",
              "</tr>\n",
              "<tr>\n",
              "  <th>Covariance Type:</th>      <td>nonrobust</td>    <th>                     </th>              <td> </td>   \n",
              "</tr>\n",
              "</table>\n",
              "<table class=\"simpletable\">\n",
              "<tr>\n",
              "     <td></td>       <th>coef</th>     <th>std err</th>      <th>t</th>      <th>P>|t|</th>  <th>[0.025</th>    <th>0.975]</th>  \n",
              "</tr>\n",
              "<tr>\n",
              "  <th>Mkt-RF</th> <td>    1.6332</td> <td>    0.395</td> <td>    4.140</td> <td> 0.000</td> <td>    0.853</td> <td>    2.414</td>\n",
              "</tr>\n",
              "<tr>\n",
              "  <th>SMB</th>    <td>    0.6866</td> <td>    0.673</td> <td>    1.020</td> <td> 0.310</td> <td>   -0.646</td> <td>    2.019</td>\n",
              "</tr>\n",
              "<tr>\n",
              "  <th>HML</th>    <td>   -1.2231</td> <td>    0.608</td> <td>   -2.012</td> <td> 0.046</td> <td>   -2.426</td> <td>   -0.020</td>\n",
              "</tr>\n",
              "<tr>\n",
              "  <th>Mom</th>    <td>   -0.1086</td> <td>    0.532</td> <td>   -0.204</td> <td> 0.839</td> <td>   -1.162</td> <td>    0.945</td>\n",
              "</tr>\n",
              "</table>\n",
              "<table class=\"simpletable\">\n",
              "<tr>\n",
              "  <th>Omnibus:</th>       <td>45.525</td> <th>  Durbin-Watson:     </th> <td>   1.721</td>\n",
              "</tr>\n",
              "<tr>\n",
              "  <th>Prob(Omnibus):</th> <td> 0.000</td> <th>  Jarque-Bera (JB):  </th> <td> 115.501</td>\n",
              "</tr>\n",
              "<tr>\n",
              "  <th>Skew:</th>          <td> 1.365</td> <th>  Prob(JB):          </th> <td>8.30e-26</td>\n",
              "</tr>\n",
              "<tr>\n",
              "  <th>Kurtosis:</th>      <td> 6.681</td> <th>  Cond. No.          </th> <td>    2.29</td>\n",
              "</tr>\n",
              "</table><br/><br/>Warnings:<br/>[1] Standard Errors assume that the covariance matrix of the errors is correctly specified."
            ],
            "text/plain": [
              "<class 'statsmodels.iolib.summary.Summary'>\n",
              "\"\"\"\n",
              "                                 OLS Regression Results                                \n",
              "=======================================================================================\n",
              "Dep. Variable:                TSLA_rf   R-squared (uncentered):                   0.184\n",
              "Model:                            OLS   Adj. R-squared (uncentered):              0.159\n",
              "Method:                 Least Squares   F-statistic:                              7.235\n",
              "Date:                Wed, 11 Aug 2021   Prob (F-statistic):                    2.76e-05\n",
              "Time:                        22:20:03   Log-Likelihood:                         -562.25\n",
              "No. Observations:                 132   AIC:                                      1133.\n",
              "Df Residuals:                     128   BIC:                                      1144.\n",
              "Df Model:                           4                                                  \n",
              "Covariance Type:            nonrobust                                                  \n",
              "==============================================================================\n",
              "                 coef    std err          t      P>|t|      [0.025      0.975]\n",
              "------------------------------------------------------------------------------\n",
              "Mkt-RF         1.6332      0.395      4.140      0.000       0.853       2.414\n",
              "SMB            0.6866      0.673      1.020      0.310      -0.646       2.019\n",
              "HML           -1.2231      0.608     -2.012      0.046      -2.426      -0.020\n",
              "Mom           -0.1086      0.532     -0.204      0.839      -1.162       0.945\n",
              "==============================================================================\n",
              "Omnibus:                       45.525   Durbin-Watson:                   1.721\n",
              "Prob(Omnibus):                  0.000   Jarque-Bera (JB):              115.501\n",
              "Skew:                           1.365   Prob(JB):                     8.30e-26\n",
              "Kurtosis:                       6.681   Cond. No.                         2.29\n",
              "==============================================================================\n",
              "\n",
              "Warnings:\n",
              "[1] Standard Errors assume that the covariance matrix of the errors is correctly specified.\n",
              "\"\"\""
            ]
          },
          "metadata": {
            "tags": []
          },
          "execution_count": 37
        }
      ]
    },
    {
      "cell_type": "markdown",
      "metadata": {
        "id": "oeyPhUhVSYNP"
      },
      "source": [
        "What can we learn about TSLA from this exercise?"
      ]
    }
  ]
}
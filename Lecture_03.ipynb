{
  "nbformat": 4,
  "nbformat_minor": 0,
  "metadata": {
    "colab": {
      "name": "Lecture_03.ipynb",
      "provenance": [],
      "collapsed_sections": [],
      "authorship_tag": "ABX9TyNnaT6t6xyhgYIURq2joxOY",
      "include_colab_link": true
    },
    "kernelspec": {
      "name": "python3",
      "display_name": "Python 3"
    },
    "language_info": {
      "name": "python"
    }
  },
  "cells": [
    {
      "cell_type": "markdown",
      "metadata": {
        "id": "view-in-github",
        "colab_type": "text"
      },
      "source": [
        "<a href=\"https://colab.research.google.com/github/thefinancetutor/python-tutorial-colab/blob/main/Lecture_03.ipynb\" target=\"_parent\"><img src=\"https://colab.research.google.com/assets/colab-badge.svg\" alt=\"Open In Colab\"/></a>"
      ]
    },
    {
      "cell_type": "markdown",
      "metadata": {
        "id": "4I6mLfUw_DFd"
      },
      "source": [
        "**Matrix Operations**"
      ]
    },
    {
      "cell_type": "code",
      "metadata": {
        "id": "5X7syRzP-5wh"
      },
      "source": [
        "import numpy as np"
      ],
      "execution_count": 1,
      "outputs": []
    },
    {
      "cell_type": "markdown",
      "metadata": {
        "id": "qODSG28M_PA3"
      },
      "source": [
        "We can use NumPy to multiply matrices.\n",
        "A 1xN matrix is called a vector"
      ]
    },
    {
      "cell_type": "code",
      "metadata": {
        "id": "RVshWbT3_KhA"
      },
      "source": [
        "a = np.array([1, 2, 3])\n",
        "b = np.array([4, 5, 6])"
      ],
      "execution_count": 11,
      "outputs": []
    },
    {
      "cell_type": "code",
      "metadata": {
        "colab": {
          "base_uri": "https://localhost:8080/"
        },
        "id": "ZbiuW7TV_OZP",
        "outputId": "0040950e-50db-4569-febb-bf13eabd21b4"
      },
      "source": [
        "a@b"
      ],
      "execution_count": 3,
      "outputs": [
        {
          "output_type": "execute_result",
          "data": {
            "text/plain": [
              "32"
            ]
          },
          "metadata": {
            "tags": []
          },
          "execution_count": 3
        }
      ]
    },
    {
      "cell_type": "code",
      "metadata": {
        "colab": {
          "base_uri": "https://localhost:8080/"
        },
        "id": "iHdaJZa_b5QN",
        "outputId": "ba4d75ab-078c-41c5-c1e0-2538d9381b22"
      },
      "source": [
        "b@a"
      ],
      "execution_count": 14,
      "outputs": [
        {
          "output_type": "execute_result",
          "data": {
            "text/plain": [
              "32"
            ]
          },
          "metadata": {
            "tags": []
          },
          "execution_count": 14
        }
      ]
    },
    {
      "cell_type": "code",
      "metadata": {
        "id": "EORcmkYg_jhY",
        "colab": {
          "base_uri": "https://localhost:8080/"
        },
        "outputId": "1cc6e2c3-035d-4f88-95f0-8e35c12b1556"
      },
      "source": [
        "np.outer(a, b)"
      ],
      "execution_count": 12,
      "outputs": [
        {
          "output_type": "execute_result",
          "data": {
            "text/plain": [
              "array([[ 4,  5,  6],\n",
              "       [ 8, 10, 12],\n",
              "       [12, 15, 18]])"
            ]
          },
          "metadata": {
            "tags": []
          },
          "execution_count": 12
        }
      ]
    },
    {
      "cell_type": "code",
      "metadata": {
        "colab": {
          "base_uri": "https://localhost:8080/"
        },
        "id": "FEyEDOTlAAAH",
        "outputId": "124cce1a-5a08-4b1f-bca2-060d52bfbee7"
      },
      "source": [
        "np.outer(b, a)"
      ],
      "execution_count": 13,
      "outputs": [
        {
          "output_type": "execute_result",
          "data": {
            "text/plain": [
              "array([[ 4,  8, 12],\n",
              "       [ 5, 10, 15],\n",
              "       [ 6, 12, 18]])"
            ]
          },
          "metadata": {
            "tags": []
          },
          "execution_count": 13
        }
      ]
    },
    {
      "cell_type": "code",
      "metadata": {
        "id": "gzqyk6KCADmD",
        "colab": {
          "base_uri": "https://localhost:8080/"
        },
        "outputId": "6e731cb5-f4e2-4ef8-8c3e-5d47b54aaacc"
      },
      "source": [
        "c = np.array([[1, 2, 3], [3, 4, 5], [5, 6, 7]])\n",
        "c"
      ],
      "execution_count": 17,
      "outputs": [
        {
          "output_type": "execute_result",
          "data": {
            "text/plain": [
              "array([[1, 2, 3],\n",
              "       [3, 4, 5],\n",
              "       [5, 6, 7]])"
            ]
          },
          "metadata": {
            "tags": []
          },
          "execution_count": 17
        }
      ]
    },
    {
      "cell_type": "code",
      "metadata": {
        "colab": {
          "base_uri": "https://localhost:8080/"
        },
        "id": "_JYQfxXdAxt1",
        "outputId": "7f373321-d50a-4e3f-f7b1-50d6d6de073c"
      },
      "source": [
        "c@a"
      ],
      "execution_count": 18,
      "outputs": [
        {
          "output_type": "execute_result",
          "data": {
            "text/plain": [
              "array([14, 26, 38])"
            ]
          },
          "metadata": {
            "tags": []
          },
          "execution_count": 18
        }
      ]
    },
    {
      "cell_type": "markdown",
      "metadata": {
        "id": "uMEMzMA7cszx"
      },
      "source": [
        "Why? $$1*1+2*2+3*3=14$$ $$3*1+4*2+5*3=26$$ $$5*1+6*2+7*3=38$$"
      ]
    },
    {
      "cell_type": "code",
      "metadata": {
        "id": "uHA4T6vlA0qy",
        "colab": {
          "base_uri": "https://localhost:8080/"
        },
        "outputId": "e7eb9f22-c39a-4d57-da0c-0978797b156b"
      },
      "source": [
        "m1 = np.array([[1, 3], [2, 4]])\n",
        "m1"
      ],
      "execution_count": 21,
      "outputs": [
        {
          "output_type": "execute_result",
          "data": {
            "text/plain": [
              "array([[1, 3],\n",
              "       [2, 4]])"
            ]
          },
          "metadata": {
            "tags": []
          },
          "execution_count": 21
        }
      ]
    },
    {
      "cell_type": "code",
      "metadata": {
        "colab": {
          "base_uri": "https://localhost:8080/"
        },
        "id": "1adVkzJGd4_1",
        "outputId": "e44d1354-056c-4fb8-ba56-b81991f4b41b"
      },
      "source": [
        "m2 = np.array([[0, 1], [3, 2]])\n",
        "m2"
      ],
      "execution_count": 22,
      "outputs": [
        {
          "output_type": "execute_result",
          "data": {
            "text/plain": [
              "array([[0, 1],\n",
              "       [3, 2]])"
            ]
          },
          "metadata": {
            "tags": []
          },
          "execution_count": 22
        }
      ]
    },
    {
      "cell_type": "code",
      "metadata": {
        "colab": {
          "base_uri": "https://localhost:8080/"
        },
        "id": "cYuhyaLGd4r_",
        "outputId": "7c0f4f99-5a5f-47f3-e387-5fa12bcbaa5e"
      },
      "source": [
        "m1@m2"
      ],
      "execution_count": 23,
      "outputs": [
        {
          "output_type": "execute_result",
          "data": {
            "text/plain": [
              "array([[ 9,  7],\n",
              "       [12, 10]])"
            ]
          },
          "metadata": {
            "tags": []
          },
          "execution_count": 23
        }
      ]
    },
    {
      "cell_type": "markdown",
      "metadata": {
        "id": "rAAa_ojGdIAH"
      },
      "source": [
        "Why? $$1*0+3*3=9$$ $$1*1+3*2=7$$ $$2*0+4*3=12$$ $$2*1+4*2=10$$"
      ]
    },
    {
      "cell_type": "code",
      "metadata": {
        "colab": {
          "base_uri": "https://localhost:8080/"
        },
        "id": "HMA8xTxXBgo5",
        "outputId": "eec10fbd-1f2b-4f14-f448-449dadfef56a"
      },
      "source": [
        "m3 = np.array([[2, 3, 1], [1, 4, 0]])\n",
        "m4 = np.array([[1, 2], [0, 3], [2, 2]])\n",
        "m5 = np.array([1, 1])\n",
        "m3@m4@m5"
      ],
      "execution_count": 24,
      "outputs": [
        {
          "output_type": "execute_result",
          "data": {
            "text/plain": [
              "array([19, 15])"
            ]
          },
          "metadata": {
            "tags": []
          },
          "execution_count": 24
        }
      ]
    },
    {
      "cell_type": "markdown",
      "metadata": {
        "id": "Diej8GeDiIrJ"
      },
      "source": [
        "**Portfolio Theory with Matrices**"
      ]
    },
    {
      "cell_type": "code",
      "metadata": {
        "colab": {
          "base_uri": "https://localhost:8080/"
        },
        "id": "j1NSPnK-iw1j",
        "outputId": "c4a154d1-9bd1-4735-bf74-64fc1aa5d454"
      },
      "source": [
        "!pip install yfinance"
      ],
      "execution_count": 27,
      "outputs": [
        {
          "output_type": "stream",
          "text": [
            "Collecting yfinance\n",
            "  Downloading yfinance-0.1.63.tar.gz (26 kB)\n",
            "Requirement already satisfied: pandas>=0.24 in /usr/local/lib/python3.7/dist-packages (from yfinance) (1.1.5)\n",
            "Requirement already satisfied: numpy>=1.15 in /usr/local/lib/python3.7/dist-packages (from yfinance) (1.19.5)\n",
            "Requirement already satisfied: requests>=2.20 in /usr/local/lib/python3.7/dist-packages (from yfinance) (2.23.0)\n",
            "Requirement already satisfied: multitasking>=0.0.7 in /usr/local/lib/python3.7/dist-packages (from yfinance) (0.0.9)\n",
            "Collecting lxml>=4.5.1\n",
            "  Downloading lxml-4.6.3-cp37-cp37m-manylinux2014_x86_64.whl (6.3 MB)\n",
            "\u001b[K     |████████████████████████████████| 6.3 MB 6.4 MB/s \n",
            "\u001b[?25hRequirement already satisfied: python-dateutil>=2.7.3 in /usr/local/lib/python3.7/dist-packages (from pandas>=0.24->yfinance) (2.8.1)\n",
            "Requirement already satisfied: pytz>=2017.2 in /usr/local/lib/python3.7/dist-packages (from pandas>=0.24->yfinance) (2018.9)\n",
            "Requirement already satisfied: six>=1.5 in /usr/local/lib/python3.7/dist-packages (from python-dateutil>=2.7.3->pandas>=0.24->yfinance) (1.15.0)\n",
            "Requirement already satisfied: certifi>=2017.4.17 in /usr/local/lib/python3.7/dist-packages (from requests>=2.20->yfinance) (2021.5.30)\n",
            "Requirement already satisfied: urllib3!=1.25.0,!=1.25.1,<1.26,>=1.21.1 in /usr/local/lib/python3.7/dist-packages (from requests>=2.20->yfinance) (1.24.3)\n",
            "Requirement already satisfied: chardet<4,>=3.0.2 in /usr/local/lib/python3.7/dist-packages (from requests>=2.20->yfinance) (3.0.4)\n",
            "Requirement already satisfied: idna<3,>=2.5 in /usr/local/lib/python3.7/dist-packages (from requests>=2.20->yfinance) (2.10)\n",
            "Building wheels for collected packages: yfinance\n",
            "  Building wheel for yfinance (setup.py) ... \u001b[?25l\u001b[?25hdone\n",
            "  Created wheel for yfinance: filename=yfinance-0.1.63-py2.py3-none-any.whl size=23919 sha256=048b8dfcf9596f53efa08d34bcee17d250a17940593a78008b9326bcb63158e3\n",
            "  Stored in directory: /root/.cache/pip/wheels/fe/87/8b/7ec24486e001d3926537f5f7801f57a74d181be25b11157983\n",
            "Successfully built yfinance\n",
            "Installing collected packages: lxml, yfinance\n",
            "  Attempting uninstall: lxml\n",
            "    Found existing installation: lxml 4.2.6\n",
            "    Uninstalling lxml-4.2.6:\n",
            "      Successfully uninstalled lxml-4.2.6\n",
            "Successfully installed lxml-4.6.3 yfinance-0.1.63\n"
          ],
          "name": "stdout"
        }
      ]
    },
    {
      "cell_type": "code",
      "metadata": {
        "colab": {
          "base_uri": "https://localhost:8080/"
        },
        "id": "5wa13jwWBmUO",
        "outputId": "3176d2ab-a90c-4c00-e40c-d1869b47b05c"
      },
      "source": [
        "import pandas as pd\n",
        "import yfinance as yf\n",
        "import datetime\n",
        "from pandas_datareader import data as pdr\n",
        "\n",
        "yf.pdr_override()\n",
        "tickers=['TSLA','AMZN','C']\n",
        "\n",
        "end = datetime.datetime.today()\n",
        "start = end.replace(year = end.year - 2)\n",
        "\n",
        "data = pdr.get_data_yahoo(tickers, start=start, end=end)['Adj Close'].resample('M').ffill().pct_change()\n"
      ],
      "execution_count": 29,
      "outputs": [
        {
          "output_type": "stream",
          "text": [
            "[*********************100%***********************]  3 of 3 completed\n"
          ],
          "name": "stdout"
        }
      ]
    },
    {
      "cell_type": "markdown",
      "metadata": {
        "id": "p5zQEGJtjU1R"
      },
      "source": [
        "Let's calculate a variance for a portfolio of these three stocks"
      ]
    },
    {
      "cell_type": "code",
      "metadata": {
        "colab": {
          "base_uri": "https://localhost:8080/"
        },
        "id": "fHccEt2ljTze",
        "outputId": "308e268a-07dd-424d-c9c7-73cefeab85b9"
      },
      "source": [
        "w = np.array([0.3, 0.3, 0.4])\n",
        "var_p = 12*w@cov@w\n",
        "std_p = np.sqrt(var_p)\n",
        "std_p.round(4)"
      ],
      "execution_count": 32,
      "outputs": [
        {
          "output_type": "execute_result",
          "data": {
            "text/plain": [
              "0.4658"
            ]
          },
          "metadata": {
            "tags": []
          },
          "execution_count": 32
        }
      ]
    },
    {
      "cell_type": "markdown",
      "metadata": {
        "id": "FRYNr7P3Ht26"
      },
      "source": [
        "Now let's write a function to calculate it"
      ]
    },
    {
      "cell_type": "code",
      "metadata": {
        "id": "vBRvznWYjlih"
      },
      "source": [
        "def portfolio_std(data, weights):\n",
        "  cov = data.cov().to_numpy()\n",
        "  w = np.array(weights)\n",
        "  var_p = 12*w@cov@w\n",
        "  std_p = np.sqrt(var_p).round(4)\n",
        "  return std_p"
      ],
      "execution_count": 38,
      "outputs": []
    },
    {
      "cell_type": "code",
      "metadata": {
        "colab": {
          "base_uri": "https://localhost:8080/"
        },
        "id": "8QuqSv2hjpKh",
        "outputId": "6e448484-eb89-420c-871f-20035f50fd2f"
      },
      "source": [
        "portfolio_std(data,w)"
      ],
      "execution_count": 39,
      "outputs": [
        {
          "output_type": "execute_result",
          "data": {
            "text/plain": [
              "0.4658"
            ]
          },
          "metadata": {
            "tags": []
          },
          "execution_count": 39
        }
      ]
    },
    {
      "cell_type": "markdown",
      "metadata": {
        "id": "NFVZ5fHwIEkZ"
      },
      "source": [
        "**Asset Pricing Models**"
      ]
    },
    {
      "cell_type": "markdown",
      "metadata": {
        "id": "Ptnz5u1YJG82"
      },
      "source": [
        "Pandas data reader does work with many other datasets besides Yahoo"
      ]
    },
    {
      "cell_type": "code",
      "metadata": {
        "colab": {
          "base_uri": "https://localhost:8080/"
        },
        "id": "AE1NJ2DDY1Ji",
        "outputId": "2b18ba35-8368-44a6-d05d-f86395d1afe0"
      },
      "source": [
        "import matplotlib.pyplot as plt\n",
        "import pandas_datareader\n",
        "pandas_datareader.famafrench.get_available_datasets()"
      ],
      "execution_count": 46,
      "outputs": [
        {
          "output_type": "execute_result",
          "data": {
            "text/plain": [
              "['F-F_Research_Data_Factors',\n",
              " 'F-F_Research_Data_Factors_weekly',\n",
              " 'F-F_Research_Data_Factors_daily',\n",
              " 'F-F_Research_Data_5_Factors_2x3',\n",
              " 'F-F_Research_Data_5_Factors_2x3_daily',\n",
              " 'Portfolios_Formed_on_ME',\n",
              " 'Portfolios_Formed_on_ME_Wout_Div',\n",
              " 'Portfolios_Formed_on_ME_Daily',\n",
              " 'Portfolios_Formed_on_BE-ME',\n",
              " 'Portfolios_Formed_on_BE-ME_Wout_Div',\n",
              " 'Portfolios_Formed_on_BE-ME_Daily',\n",
              " 'Portfolios_Formed_on_OP',\n",
              " 'Portfolios_Formed_on_OP_Wout_Div',\n",
              " 'Portfolios_Formed_on_OP_Daily',\n",
              " 'Portfolios_Formed_on_INV',\n",
              " 'Portfolios_Formed_on_INV_Wout_Div',\n",
              " 'Portfolios_Formed_on_INV_Daily',\n",
              " '6_Portfolios_2x3',\n",
              " '6_Portfolios_2x3_Wout_Div',\n",
              " '6_Portfolios_2x3_weekly',\n",
              " '6_Portfolios_2x3_daily',\n",
              " '25_Portfolios_5x5',\n",
              " '25_Portfolios_5x5_Wout_Div',\n",
              " '25_Portfolios_5x5_Daily',\n",
              " '100_Portfolios_10x10',\n",
              " '100_Portfolios_10x10_Wout_Div',\n",
              " '100_Portfolios_10x10_Daily',\n",
              " '6_Portfolios_ME_OP_2x3',\n",
              " '6_Portfolios_ME_OP_2x3_Wout_Div',\n",
              " '6_Portfolios_ME_OP_2x3_daily',\n",
              " '25_Portfolios_ME_OP_5x5',\n",
              " '25_Portfolios_ME_OP_5x5_Wout_Div',\n",
              " '25_Portfolios_ME_OP_5x5_daily',\n",
              " '100_Portfolios_ME_OP_10x10',\n",
              " '100_Portfolios_10x10_ME_OP_Wout_Div',\n",
              " '100_Portfolios_ME_OP_10x10_daily',\n",
              " '6_Portfolios_ME_INV_2x3',\n",
              " '6_Portfolios_ME_INV_2x3_Wout_Div',\n",
              " '6_Portfolios_ME_INV_2x3_daily',\n",
              " '25_Portfolios_ME_INV_5x5',\n",
              " '25_Portfolios_ME_INV_5x5_Wout_Div',\n",
              " '25_Portfolios_ME_INV_5x5_daily',\n",
              " '100_Portfolios_ME_INV_10x10',\n",
              " '100_Portfolios_10x10_ME_INV_Wout_Div',\n",
              " '100_Portfolios_ME_INV_10x10_daily',\n",
              " '25_Portfolios_BEME_OP_5x5',\n",
              " '25_Portfolios_BEME_OP_5x5_Wout_Div',\n",
              " '25_Portfolios_BEME_OP_5x5_daily',\n",
              " '25_Portfolios_BEME_INV_5x5',\n",
              " '25_Portfolios_BEME_INV_5x5_Wout_Div',\n",
              " '25_Portfolios_BEME_INV_5x5_daily',\n",
              " '25_Portfolios_OP_INV_5x5',\n",
              " '25_Portfolios_OP_INV_5x5_Wout_Div',\n",
              " '25_Portfolios_OP_INV_5x5_daily',\n",
              " '32_Portfolios_ME_BEME_OP_2x4x4',\n",
              " '32_Portfolios_ME_BEME_OP_2x4x4_Wout_Div',\n",
              " '32_Portfolios_ME_BEME_INV_2x4x4',\n",
              " '32_Portfolios_ME_BEME_INV_2x4x4_Wout_Div',\n",
              " '32_Portfolios_ME_OP_INV_2x4x4',\n",
              " '32_Portfolios_ME_OP_INV_2x4x4_Wout_Div',\n",
              " 'Portfolios_Formed_on_E-P',\n",
              " 'Portfolios_Formed_on_E-P_Wout_Div',\n",
              " 'Portfolios_Formed_on_CF-P',\n",
              " 'Portfolios_Formed_on_CF-P_Wout_Div',\n",
              " 'Portfolios_Formed_on_D-P',\n",
              " 'Portfolios_Formed_on_D-P_Wout_Div',\n",
              " '6_Portfolios_ME_EP_2x3',\n",
              " '6_Portfolios_ME_EP_2x3_Wout_Div',\n",
              " '6_Portfolios_ME_CFP_2x3',\n",
              " '6_Portfolios_ME_CFP_2x3_Wout_Div',\n",
              " '6_Portfolios_ME_DP_2x3',\n",
              " '6_Portfolios_ME_DP_2x3_Wout_Div',\n",
              " 'F-F_Momentum_Factor',\n",
              " 'F-F_Momentum_Factor_daily',\n",
              " '6_Portfolios_ME_Prior_12_2',\n",
              " '6_Portfolios_ME_Prior_12_2_Daily',\n",
              " '25_Portfolios_ME_Prior_12_2',\n",
              " '25_Portfolios_ME_Prior_12_2_Daily',\n",
              " '10_Portfolios_Prior_12_2',\n",
              " '10_Portfolios_Prior_12_2_Daily',\n",
              " 'F-F_ST_Reversal_Factor',\n",
              " 'F-F_ST_Reversal_Factor_daily',\n",
              " '6_Portfolios_ME_Prior_1_0',\n",
              " '6_Portfolios_ME_Prior_1_0_Daily',\n",
              " '25_Portfolios_ME_Prior_1_0',\n",
              " '25_Portfolios_ME_Prior_1_0_Daily',\n",
              " '10_Portfolios_Prior_1_0',\n",
              " '10_Portfolios_Prior_1_0_Daily',\n",
              " 'F-F_LT_Reversal_Factor',\n",
              " 'F-F_LT_Reversal_Factor_daily',\n",
              " '6_Portfolios_ME_Prior_60_13',\n",
              " '6_Portfolios_ME_Prior_60_13_Daily',\n",
              " '25_Portfolios_ME_Prior_60_13',\n",
              " '25_Portfolios_ME_Prior_60_13_Daily',\n",
              " '10_Portfolios_Prior_60_13',\n",
              " '10_Portfolios_Prior_60_13_Daily',\n",
              " 'Portfolios_Formed_on_AC',\n",
              " '25_Portfolios_ME_AC_5x5',\n",
              " 'Portfolios_Formed_on_BETA',\n",
              " '25_Portfolios_ME_BETA_5x5',\n",
              " 'Portfolios_Formed_on_NI',\n",
              " '25_Portfolios_ME_NI_5x5',\n",
              " 'Portfolios_Formed_on_VAR',\n",
              " '25_Portfolios_ME_VAR_5x5',\n",
              " 'Portfolios_Formed_on_RESVAR',\n",
              " '25_Portfolios_ME_RESVAR_5x5',\n",
              " '5_Industry_Portfolios',\n",
              " '5_Industry_Portfolios_Wout_Div',\n",
              " '5_Industry_Portfolios_daily',\n",
              " '10_Industry_Portfolios',\n",
              " '10_Industry_Portfolios_Wout_Div',\n",
              " '10_Industry_Portfolios_daily',\n",
              " '12_Industry_Portfolios',\n",
              " '12_Industry_Portfolios_Wout_Div',\n",
              " '12_Industry_Portfolios_daily',\n",
              " '17_Industry_Portfolios',\n",
              " '17_Industry_Portfolios_Wout_Div',\n",
              " '17_Industry_Portfolios_daily',\n",
              " '30_Industry_Portfolios',\n",
              " '30_Industry_Portfolios_Wout_Div',\n",
              " '30_Industry_Portfolios_daily',\n",
              " '38_Industry_Portfolios',\n",
              " '38_Industry_Portfolios_Wout_Div',\n",
              " '38_Industry_Portfolios_daily',\n",
              " '48_Industry_Portfolios',\n",
              " '48_Industry_Portfolios_Wout_Div',\n",
              " '48_Industry_Portfolios_daily',\n",
              " '49_Industry_Portfolios',\n",
              " '49_Industry_Portfolios_Wout_Div',\n",
              " '49_Industry_Portfolios_daily',\n",
              " 'ME_Breakpoints',\n",
              " 'BE-ME_Breakpoints',\n",
              " 'OP_Breakpoints',\n",
              " 'INV_Breakpoints',\n",
              " 'E-P_Breakpoints',\n",
              " 'CF-P_Breakpoints',\n",
              " 'D-P_Breakpoints',\n",
              " 'Prior_2-12_Breakpoints',\n",
              " 'Developed_3_Factors',\n",
              " 'Developed_3_Factors_Daily',\n",
              " 'Developed_ex_US_3_Factors',\n",
              " 'Developed_ex_US_3_Factors_Daily',\n",
              " 'Europe_3_Factors',\n",
              " 'Europe_3_Factors_Daily',\n",
              " 'Japan_3_Factors',\n",
              " 'Japan_3_Factors_Daily',\n",
              " 'Asia_Pacific_ex_Japan_3_Factors',\n",
              " 'Asia_Pacific_ex_Japan_3_Factors_Daily',\n",
              " 'North_America_3_Factors',\n",
              " 'North_America_3_Factors_Daily',\n",
              " 'Developed_5_Factors',\n",
              " 'Developed_5_Factors_Daily',\n",
              " 'Developed_ex_US_5_Factors',\n",
              " 'Developed_ex_US_5_Factors_Daily',\n",
              " 'Europe_5_Factors',\n",
              " 'Europe_5_Factors_Daily',\n",
              " 'Japan_5_Factors',\n",
              " 'Japan_5_Factors_Daily',\n",
              " 'Asia_Pacific_ex_Japan_5_Factors',\n",
              " 'Asia_Pacific_ex_Japan_5_Factors_Daily',\n",
              " 'North_America_5_Factors',\n",
              " 'North_America_5_Factors_Daily',\n",
              " 'Developed_Mom_Factor',\n",
              " 'Developed_Mom_Factor_Daily',\n",
              " 'Developed_ex_US_Mom_Factor',\n",
              " 'Developed_ex_US_Mom_Factor_Daily',\n",
              " 'Europe_Mom_Factor',\n",
              " 'Europe_Mom_Factor_Daily',\n",
              " 'Japan_Mom_Factor',\n",
              " 'Japan_Mom_Factor_Daily',\n",
              " 'Asia_Pacific_ex_Japan_MOM_Factor',\n",
              " 'Asia_Pacific_ex_Japan_MOM_Factor_Daily',\n",
              " 'North_America_Mom_Factor',\n",
              " 'North_America_Mom_Factor_Daily',\n",
              " 'Developed_6_Portfolios_ME_BE-ME',\n",
              " 'Developed_6_Portfolios_ME_BE-ME_daily',\n",
              " 'Developed_ex_US_6_Portfolios_ME_BE-ME',\n",
              " 'Developed_ex_US_6_Portfolios_ME_BE-ME_daily',\n",
              " 'Europe_6_Portfolios_ME_BE-ME',\n",
              " 'Europe_6_Portfolios_ME_BE-ME_daily',\n",
              " 'Japan_6_Portfolios_ME_BE-ME',\n",
              " 'Japan_6_Portfolios_ME_BE-ME_daily',\n",
              " 'Asia_Pacific_ex_Japan_6_Portfolios_ME_BE-ME',\n",
              " 'Asia_Pacific_ex_Japan_6_Portfolios_ME_BE-ME_daily',\n",
              " 'North_America_6_Portfolios_ME_BE-ME',\n",
              " 'North_America_6_Portfolios_ME_BE-ME_daily',\n",
              " 'Developed_25_Portfolios_ME_BE-ME',\n",
              " 'Developed_25_Portfolios_ME_BE-ME_daily',\n",
              " 'Developed_ex_US_25_Portfolios_ME_BE-ME',\n",
              " 'Developed_ex_US_25_Portfolios_ME_BE-ME_daily',\n",
              " 'Europe_25_Portfolios_ME_BE-ME',\n",
              " 'Europe_25_Portfolios_ME_BE-ME_daily',\n",
              " 'Japan_25_Portfolios_ME_BE-ME',\n",
              " 'Japan_25_Portfolios_ME_BE-ME_daily',\n",
              " 'Asia_Pacific_ex_Japan_25_Portfolios_ME_BE-ME',\n",
              " 'Asia_Pacific_ex_Japan_25_Portfolios_ME_BE-ME_daily',\n",
              " 'North_America_25_Portfolios_ME_BE-ME',\n",
              " 'North_America_25_Portfolios_ME_BE-ME_daily',\n",
              " 'Developed_6_Portfolios_ME_OP',\n",
              " 'Developed_6_Portfolios_ME_OP_Daily',\n",
              " 'Developed_ex_US_6_Portfolios_ME_OP',\n",
              " 'Developed_ex_US_6_Portfolios_ME_OP_Daily',\n",
              " 'Europe_6_Portfolios_ME_OP',\n",
              " 'Europe_6_Portfolios_ME_OP_Daily',\n",
              " 'Japan_6_Portfolios_ME_OP',\n",
              " 'Japan_6_Portfolios_ME_OP_Daily',\n",
              " 'Asia_Pacific_ex_Japan_6_Portfolios_ME_OP',\n",
              " 'Asia_Pacific_ex_Japan_6_Portfolios_ME_OP_Daily',\n",
              " 'North_America_6_Portfolios_ME_OP',\n",
              " 'North_America_6_Portfolios_ME_OP_Daily',\n",
              " 'Developed_25_Portfolios_ME_OP',\n",
              " 'Developed_25_Portfolios_ME_OP_Daily',\n",
              " 'Developed_ex_US_25_Portfolios_ME_OP',\n",
              " 'Developed_ex_US_25_Portfolios_ME_OP_Daily',\n",
              " 'Europe_25_Portfolios_ME_OP',\n",
              " 'Europe_25_Portfolios_ME_OP_Daily',\n",
              " 'Japan_25_Portfolios_ME_OP',\n",
              " 'Japan_25_Portfolios_ME_OP_Daily',\n",
              " 'Asia_Pacific_ex_Japan_25_Portfolios_ME_OP',\n",
              " 'Asia_Pacific_ex_Japan_25_Portfolios_ME_OP_Daily',\n",
              " 'North_America_25_Portfolios_ME_OP',\n",
              " 'North_America_25_Portfolios_ME_OP_Daily',\n",
              " 'Developed_6_Portfolios_ME_INV',\n",
              " 'Developed_6_Portfolios_ME_INV_Daily',\n",
              " 'Developed_ex_US_6_Portfolios_ME_INV',\n",
              " 'Developed_ex_US_6_Portfolios_ME_INV_Daily',\n",
              " 'Europe_6_Portfolios_ME_INV',\n",
              " 'Europe_6_Portfolios_ME_INV_Daily',\n",
              " 'Japan_6_Portfolios_ME_INV',\n",
              " 'Japan_6_Portfolios_ME_INV_Daily',\n",
              " 'Asia_Pacific_ex_Japan_6_Portfolios_ME_INV',\n",
              " 'Asia_Pacific_ex_Japan_6_Portfolios_ME_INV_Daily',\n",
              " 'North_America_6_Portfolios_ME_INV',\n",
              " 'North_America_6_Portfolios_ME_INV_Daily',\n",
              " 'Developed_25_Portfolios_ME_INV',\n",
              " 'Developed_25_Portfolios_ME_INV_Daily',\n",
              " 'Developed_ex_US_25_Portfolios_ME_INV',\n",
              " 'Developed_ex_US_25_Portfolios_ME_INV_Daily',\n",
              " 'Europe_25_Portfolios_ME_INV',\n",
              " 'Europe_25_Portfolios_ME_INV_Daily',\n",
              " 'Japan_25_Portfolios_ME_INV',\n",
              " 'Japan_25_Portfolios_ME_INV_Daily',\n",
              " 'Asia_Pacific_ex_Japan_25_Portfolios_ME_INV',\n",
              " 'Asia_Pacific_ex_Japan_25_Portfolios_ME_INV_Daily',\n",
              " 'North_America_25_Portfolios_ME_INV',\n",
              " 'North_America_25_Portfolios_ME_INV_Daily',\n",
              " 'Developed_6_Portfolios_ME_Prior_12_2',\n",
              " 'Developed_6_Portfolios_ME_Prior_250_20_daily',\n",
              " 'Developed_ex_US_6_Portfolios_ME_Prior_12_2',\n",
              " 'Developed_ex_US_6_Portfolios_ME_Prior_250_20_daily',\n",
              " 'Europe_6_Portfolios_ME_Prior_12_2',\n",
              " 'Europe_6_Portfolios_ME_Prior_250_20_daily',\n",
              " 'Japan_6_Portfolios_ME_Prior_12_2',\n",
              " 'Japan_6_Portfolios_ME_Prior_250_20_daily',\n",
              " 'Asia_Pacific_ex_Japan_6_Portfolios_ME_Prior_12_2',\n",
              " 'Asia_Pacific_ex_Japan_6_Portfolios_ME_Prior_250_20_daily',\n",
              " 'North_America_6_Portfolios_ME_Prior_12_2',\n",
              " 'North_America_6_Portfolios_ME_Prior_250_20_daily',\n",
              " 'Developed_25_Portfolios_ME_Prior_12_2',\n",
              " 'Developed_25_Portfolios_ME_Prior_250_20_daily',\n",
              " 'Developed_ex_US_25_Portfolios_ME_Prior_12_2',\n",
              " 'Developed_ex_US_25_Portfolios_ME_Prior_250_20_daily',\n",
              " 'Europe_25_Portfolios_ME_Prior_12_2',\n",
              " 'Europe_25_Portfolios_ME_Prior_250_20_daily',\n",
              " 'Japan_25_Portfolios_ME_Prior_12_2',\n",
              " 'Japan_25_Portfolios_ME_Prior_250_20_daily',\n",
              " 'Asia_Pacific_ex_Japan_25_Portfolios_ME_Prior_12_2',\n",
              " 'Asia_Pacific_ex_Japan_25_Portfolios_ME_Prior_250_20_daily',\n",
              " 'North_America_25_Portfolios_ME_Prior_12_2',\n",
              " 'North_America_25_Portfolios_ME_Prior_250_20_daily',\n",
              " 'Developed_32_Portfolios_ME_BE-ME_OP_2x4x4',\n",
              " 'Developed_ex_US_32_Portfolios_ME_BE-ME_OP_2x4x4',\n",
              " 'Europe_32_Portfolios_ME_BE-ME_OP_2x4x4',\n",
              " 'Japan_32_Portfolios_ME_BE-ME_OP_2x4x4',\n",
              " 'Asia_Pacific_ex_Japan_32_Portfolios_ME_BE-ME_OP_2x4x4',\n",
              " 'North_America_32_Portfolios_ME_BE-ME_OP_2x4x4',\n",
              " 'Developed_32_Portfolios_ME_BE-ME_INV(TA)_2x4x4',\n",
              " 'Developed_ex_US_32_Portfolios_ME_BE-ME_INV(TA)_2x4x4',\n",
              " 'Europe_32_Portfolios_ME_BE-ME_INV(TA)_2x4x4',\n",
              " 'Japan_32_Portfolios_ME_BE-ME_INV(TA)_2x4x4',\n",
              " 'Asia_Pacific_ex_Japan_32_Portfolios_ME_BE-ME_INV(TA)_2x4x4',\n",
              " 'North_America_32_Portfolios_ME_BE-ME_INV(TA)_2x4x4',\n",
              " 'Developed_32_Portfolios_ME_INV(TA)_OP_2x4x4',\n",
              " 'Developed_ex_US_32_Portfolios_ME_INV(TA)_OP_2x4x4',\n",
              " 'Europe_32_Portfolios_ME_INV(TA)_OP_2x4x4',\n",
              " 'Japan_32_Portfolios_ME_INV(TA)_OP_2x4x4',\n",
              " 'Asia_Pacific_ex_Japan_32_Portfolios_ME_INV(TA)_OP_2x4x4',\n",
              " 'North_America_32_Portfolios_ME_INV(TA)_OP_2x4x4',\n",
              " 'Emerging_5_Factors',\n",
              " 'Emerging_MOM_Factor',\n",
              " 'Emerging_Markets_6_Portfolios_ME_BE-ME',\n",
              " 'Emerging_Markets_6_Portfolios_ME_OP',\n",
              " 'Emerging_Markets_6_Portfolios_ME_INV',\n",
              " 'Emerging_Markets_6_Portfolios_ME_Prior_12_2',\n",
              " 'Emerging_Markets_4_Portfolios_BE-ME_OP',\n",
              " 'Emerging_Markets_4_Portfolios_OP_INV',\n",
              " 'Emerging_Markets_4_Portfolios_BE-ME_INV']"
            ]
          },
          "metadata": {
            "tags": []
          },
          "execution_count": 46
        }
      ]
    },
    {
      "cell_type": "code",
      "metadata": {
        "colab": {
          "base_uri": "https://localhost:8080/"
        },
        "id": "USM7vItMIISA",
        "outputId": "d8bddd83-6e70-4b37-91da-a32123c2984b"
      },
      "source": [
        "start='1926-01-01'\n",
        "ff=pandas_datareader.famafrench.FamaFrenchReader('F-F_Research_Data_Factors', freq='M', start=start).read()\n",
        "ff"
      ],
      "execution_count": 58,
      "outputs": [
        {
          "output_type": "execute_result",
          "data": {
            "text/plain": [
              "{0:          Mkt-RF   SMB   HML    RF\n",
              " Date                             \n",
              " 1926-07    2.96 -2.30 -2.87  0.22\n",
              " 1926-08    2.64 -1.40  4.19  0.25\n",
              " 1926-09    0.36 -1.32  0.01  0.23\n",
              " 1926-10   -3.24  0.04  0.51  0.32\n",
              " 1926-11    2.53 -0.20 -0.35  0.31\n",
              " ...         ...   ...   ...   ...\n",
              " 2021-02    2.78  2.11  7.08  0.00\n",
              " 2021-03    3.08 -2.48  7.40  0.00\n",
              " 2021-04    4.93 -3.09 -0.74  0.00\n",
              " 2021-05    0.29 -0.21  7.04  0.00\n",
              " 2021-06    2.79  1.79 -7.70  0.00\n",
              " \n",
              " [1140 rows x 4 columns], 1:       Mkt-RF    SMB    HML    RF\n",
              " Date                            \n",
              " 1927   29.47  -2.46  -3.75  3.12\n",
              " 1928   35.39   4.41  -5.83  3.56\n",
              " 1929  -19.54 -30.78  11.96  4.75\n",
              " 1930  -31.23  -5.19 -12.29  2.41\n",
              " 1931  -45.11   3.51 -14.32  1.07\n",
              " ...      ...    ...    ...   ...\n",
              " 2016   13.30   6.53  22.86  0.20\n",
              " 2017   21.51  -4.95 -13.84  0.80\n",
              " 2018   -6.93  -3.20  -9.34  1.81\n",
              " 2019   28.28  -6.25 -10.68  2.14\n",
              " 2020   23.67  13.07 -47.20  0.44\n",
              " \n",
              " [94 rows x 4 columns], 'DESCR': 'F-F Research Data Factors\\n-------------------------\\n\\nThis file was created by CMPT_ME_BEME_RETS using the 202106 CRSP database. The 1-month TBill return is from Ibbotson and Associates, Inc. Copyright 2021 Kenneth R. French\\n\\n  0 : (1140 rows x 4 cols)\\n  1 : Annual Factors: January-December (94 rows x 4 cols)'}"
            ]
          },
          "metadata": {
            "tags": []
          },
          "execution_count": 58
        }
      ]
    },
    {
      "cell_type": "code",
      "metadata": {
        "colab": {
          "base_uri": "https://localhost:8080/",
          "height": 455
        },
        "id": "yTwQir3dwEhK",
        "outputId": "9b88db25-7a25-4980-883b-59d71b289fd1"
      },
      "source": [
        "ffac_df=ff[0]\n",
        "ffac_df"
      ],
      "execution_count": 59,
      "outputs": [
        {
          "output_type": "execute_result",
          "data": {
            "text/html": [
              "<div>\n",
              "<style scoped>\n",
              "    .dataframe tbody tr th:only-of-type {\n",
              "        vertical-align: middle;\n",
              "    }\n",
              "\n",
              "    .dataframe tbody tr th {\n",
              "        vertical-align: top;\n",
              "    }\n",
              "\n",
              "    .dataframe thead th {\n",
              "        text-align: right;\n",
              "    }\n",
              "</style>\n",
              "<table border=\"1\" class=\"dataframe\">\n",
              "  <thead>\n",
              "    <tr style=\"text-align: right;\">\n",
              "      <th></th>\n",
              "      <th>Mkt-RF</th>\n",
              "      <th>SMB</th>\n",
              "      <th>HML</th>\n",
              "      <th>RF</th>\n",
              "    </tr>\n",
              "    <tr>\n",
              "      <th>Date</th>\n",
              "      <th></th>\n",
              "      <th></th>\n",
              "      <th></th>\n",
              "      <th></th>\n",
              "    </tr>\n",
              "  </thead>\n",
              "  <tbody>\n",
              "    <tr>\n",
              "      <th>1926-07</th>\n",
              "      <td>2.96</td>\n",
              "      <td>-2.30</td>\n",
              "      <td>-2.87</td>\n",
              "      <td>0.22</td>\n",
              "    </tr>\n",
              "    <tr>\n",
              "      <th>1926-08</th>\n",
              "      <td>2.64</td>\n",
              "      <td>-1.40</td>\n",
              "      <td>4.19</td>\n",
              "      <td>0.25</td>\n",
              "    </tr>\n",
              "    <tr>\n",
              "      <th>1926-09</th>\n",
              "      <td>0.36</td>\n",
              "      <td>-1.32</td>\n",
              "      <td>0.01</td>\n",
              "      <td>0.23</td>\n",
              "    </tr>\n",
              "    <tr>\n",
              "      <th>1926-10</th>\n",
              "      <td>-3.24</td>\n",
              "      <td>0.04</td>\n",
              "      <td>0.51</td>\n",
              "      <td>0.32</td>\n",
              "    </tr>\n",
              "    <tr>\n",
              "      <th>1926-11</th>\n",
              "      <td>2.53</td>\n",
              "      <td>-0.20</td>\n",
              "      <td>-0.35</td>\n",
              "      <td>0.31</td>\n",
              "    </tr>\n",
              "    <tr>\n",
              "      <th>...</th>\n",
              "      <td>...</td>\n",
              "      <td>...</td>\n",
              "      <td>...</td>\n",
              "      <td>...</td>\n",
              "    </tr>\n",
              "    <tr>\n",
              "      <th>2021-02</th>\n",
              "      <td>2.78</td>\n",
              "      <td>2.11</td>\n",
              "      <td>7.08</td>\n",
              "      <td>0.00</td>\n",
              "    </tr>\n",
              "    <tr>\n",
              "      <th>2021-03</th>\n",
              "      <td>3.08</td>\n",
              "      <td>-2.48</td>\n",
              "      <td>7.40</td>\n",
              "      <td>0.00</td>\n",
              "    </tr>\n",
              "    <tr>\n",
              "      <th>2021-04</th>\n",
              "      <td>4.93</td>\n",
              "      <td>-3.09</td>\n",
              "      <td>-0.74</td>\n",
              "      <td>0.00</td>\n",
              "    </tr>\n",
              "    <tr>\n",
              "      <th>2021-05</th>\n",
              "      <td>0.29</td>\n",
              "      <td>-0.21</td>\n",
              "      <td>7.04</td>\n",
              "      <td>0.00</td>\n",
              "    </tr>\n",
              "    <tr>\n",
              "      <th>2021-06</th>\n",
              "      <td>2.79</td>\n",
              "      <td>1.79</td>\n",
              "      <td>-7.70</td>\n",
              "      <td>0.00</td>\n",
              "    </tr>\n",
              "  </tbody>\n",
              "</table>\n",
              "<p>1140 rows × 4 columns</p>\n",
              "</div>"
            ],
            "text/plain": [
              "         Mkt-RF   SMB   HML    RF\n",
              "Date                             \n",
              "1926-07    2.96 -2.30 -2.87  0.22\n",
              "1926-08    2.64 -1.40  4.19  0.25\n",
              "1926-09    0.36 -1.32  0.01  0.23\n",
              "1926-10   -3.24  0.04  0.51  0.32\n",
              "1926-11    2.53 -0.20 -0.35  0.31\n",
              "...         ...   ...   ...   ...\n",
              "2021-02    2.78  2.11  7.08  0.00\n",
              "2021-03    3.08 -2.48  7.40  0.00\n",
              "2021-04    4.93 -3.09 -0.74  0.00\n",
              "2021-05    0.29 -0.21  7.04  0.00\n",
              "2021-06    2.79  1.79 -7.70  0.00\n",
              "\n",
              "[1140 rows x 4 columns]"
            ]
          },
          "metadata": {
            "tags": []
          },
          "execution_count": 59
        }
      ]
    },
    {
      "cell_type": "markdown",
      "metadata": {
        "id": "lV2FrgpRNor4"
      },
      "source": [
        "Let's plot the factors"
      ]
    },
    {
      "cell_type": "code",
      "metadata": {
        "colab": {
          "base_uri": "https://localhost:8080/",
          "height": 269
        },
        "id": "Jmkq8RDXLcxR",
        "outputId": "812aec13-48ab-4f10-fde0-37fff5601dc8"
      },
      "source": [
        "ffac_df.rolling(72).mean().plot(subplots=True, figsize=(12, 4))\n",
        "plt.show()"
      ],
      "execution_count": 61,
      "outputs": [
        {
          "output_type": "display_data",
          "data": {
            "image/png": "[encoded data removed]",
            "text/plain": [
              "<Figure size 864x288 with 4 Axes>"
            ]
          },
          "metadata": {
            "tags": [],
            "needs_background": "light"
          }
        }
      ]
    },
    {
      "cell_type": "code",
      "metadata": {
        "colab": {
          "base_uri": "https://localhost:8080/",
          "height": 269
        },
        "id": "mwsKSVA9I_I4",
        "outputId": "57e2b323-7d94-4afc-f176-f3f1fd9c415f"
      },
      "source": [
        "ffac_df['Mkt-RF'].rolling(72).mean().plot(subplots=True, figsize=(12, 4))\n",
        "plt.show()"
      ],
      "execution_count": 60,
      "outputs": [
        {
          "output_type": "display_data",
          "data": {
            "image/png": "[encoded data removed]",
            "text/plain": [
              "<Figure size 864x288 with 1 Axes>"
            ]
          },
          "metadata": {
            "tags": [],
            "needs_background": "light"
          }
        }
      ]
    },
    {
      "cell_type": "code",
      "metadata": {
        "colab": {
          "base_uri": "https://localhost:8080/",
          "height": 269
        },
        "id": "IVgdYDaqN1Fq",
        "outputId": "51cbbd43-7ace-4371-8fd6-125c3b560644"
      },
      "source": [
        "ffac_df['SMB'].rolling(72).mean().plot(subplots=True, figsize=(12, 4))\n",
        "plt.show()"
      ],
      "execution_count": 62,
      "outputs": [
        {
          "output_type": "display_data",
          "data": {
            "image/png": "[encoded data removed]",
            "text/plain": [
              "<Figure size 864x288 with 1 Axes>"
            ]
          },
          "metadata": {
            "tags": [],
            "needs_background": "light"
          }
        }
      ]
    },
    {
      "cell_type": "code",
      "metadata": {
        "colab": {
          "base_uri": "https://localhost:8080/",
          "height": 269
        },
        "id": "ZAR0-O8GSTHf",
        "outputId": "ec348f1f-fb32-4d29-b7f9-2ac054fa7d5e"
      },
      "source": [
        "ffac_df['HML'].rolling(72).mean().plot(subplots=True, figsize=(12, 4))\n",
        "plt.show()"
      ],
      "execution_count": 63,
      "outputs": [
        {
          "output_type": "display_data",
          "data": {
            "image/png": "[encoded data removed]",
            "text/plain": [
              "<Figure size 864x288 with 1 Axes>"
            ]
          },
          "metadata": {
            "tags": [],
            "needs_background": "light"
          }
        }
      ]
    },
    {
      "cell_type": "markdown",
      "metadata": {
        "id": "z5ms6ku-R7mp"
      },
      "source": [
        "Let's compute some statistics"
      ]
    },
    {
      "cell_type": "code",
      "metadata": {
        "colab": {
          "base_uri": "https://localhost:8080/",
          "height": 143
        },
        "id": "5ioWAIAFN2wX",
        "outputId": "ede06e36-e441-4db7-f5b4-9a38895db611"
      },
      "source": [
        "ffac_df[['Mkt-RF', 'SMB', 'HML']].corr()"
      ],
      "execution_count": 64,
      "outputs": [
        {
          "output_type": "execute_result",
          "data": {
            "text/html": [
              "<div>\n",
              "<style scoped>\n",
              "    .dataframe tbody tr th:only-of-type {\n",
              "        vertical-align: middle;\n",
              "    }\n",
              "\n",
              "    .dataframe tbody tr th {\n",
              "        vertical-align: top;\n",
              "    }\n",
              "\n",
              "    .dataframe thead th {\n",
              "        text-align: right;\n",
              "    }\n",
              "</style>\n",
              "<table border=\"1\" class=\"dataframe\">\n",
              "  <thead>\n",
              "    <tr style=\"text-align: right;\">\n",
              "      <th></th>\n",
              "      <th>Mkt-RF</th>\n",
              "      <th>SMB</th>\n",
              "      <th>HML</th>\n",
              "    </tr>\n",
              "  </thead>\n",
              "  <tbody>\n",
              "    <tr>\n",
              "      <th>Mkt-RF</th>\n",
              "      <td>1.000000</td>\n",
              "      <td>0.322078</td>\n",
              "      <td>0.235568</td>\n",
              "    </tr>\n",
              "    <tr>\n",
              "      <th>SMB</th>\n",
              "      <td>0.322078</td>\n",
              "      <td>1.000000</td>\n",
              "      <td>0.126751</td>\n",
              "    </tr>\n",
              "    <tr>\n",
              "      <th>HML</th>\n",
              "      <td>0.235568</td>\n",
              "      <td>0.126751</td>\n",
              "      <td>1.000000</td>\n",
              "    </tr>\n",
              "  </tbody>\n",
              "</table>\n",
              "</div>"
            ],
            "text/plain": [
              "          Mkt-RF       SMB       HML\n",
              "Mkt-RF  1.000000  0.322078  0.235568\n",
              "SMB     0.322078  1.000000  0.126751\n",
              "HML     0.235568  0.126751  1.000000"
            ]
          },
          "metadata": {
            "tags": []
          },
          "execution_count": 64
        }
      ]
    },
    {
      "cell_type": "markdown",
      "metadata": {
        "id": "5Z_T5Yq5xQxF"
      },
      "source": [
        "Let's add momentum"
      ]
    },
    {
      "cell_type": "code",
      "metadata": {
        "colab": {
          "base_uri": "https://localhost:8080/",
          "height": 455
        },
        "id": "IIJ_ZQMxPMLr",
        "outputId": "c296ef9e-679b-4790-f0c8-22db8c4a16b5"
      },
      "source": [
        "ffac_mom_df=pandas_datareader.famafrench.FamaFrenchReader('F-F_Momentum_Factor', freq='M', start=start).read()[0]\n",
        "ffac_mom_df"
      ],
      "execution_count": 65,
      "outputs": [
        {
          "output_type": "execute_result",
          "data": {
            "text/html": [
              "<div>\n",
              "<style scoped>\n",
              "    .dataframe tbody tr th:only-of-type {\n",
              "        vertical-align: middle;\n",
              "    }\n",
              "\n",
              "    .dataframe tbody tr th {\n",
              "        vertical-align: top;\n",
              "    }\n",
              "\n",
              "    .dataframe thead th {\n",
              "        text-align: right;\n",
              "    }\n",
              "</style>\n",
              "<table border=\"1\" class=\"dataframe\">\n",
              "  <thead>\n",
              "    <tr style=\"text-align: right;\">\n",
              "      <th></th>\n",
              "      <th>Mom</th>\n",
              "    </tr>\n",
              "    <tr>\n",
              "      <th>Date</th>\n",
              "      <th></th>\n",
              "    </tr>\n",
              "  </thead>\n",
              "  <tbody>\n",
              "    <tr>\n",
              "      <th>1927-01</th>\n",
              "      <td>0.44</td>\n",
              "    </tr>\n",
              "    <tr>\n",
              "      <th>1927-02</th>\n",
              "      <td>-1.32</td>\n",
              "    </tr>\n",
              "    <tr>\n",
              "      <th>1927-03</th>\n",
              "      <td>3.59</td>\n",
              "    </tr>\n",
              "    <tr>\n",
              "      <th>1927-04</th>\n",
              "      <td>4.17</td>\n",
              "    </tr>\n",
              "    <tr>\n",
              "      <th>1927-05</th>\n",
              "      <td>2.96</td>\n",
              "    </tr>\n",
              "    <tr>\n",
              "      <th>...</th>\n",
              "      <td>...</td>\n",
              "    </tr>\n",
              "    <tr>\n",
              "      <th>2021-02</th>\n",
              "      <td>-7.67</td>\n",
              "    </tr>\n",
              "    <tr>\n",
              "      <th>2021-03</th>\n",
              "      <td>-5.83</td>\n",
              "    </tr>\n",
              "    <tr>\n",
              "      <th>2021-04</th>\n",
              "      <td>1.01</td>\n",
              "    </tr>\n",
              "    <tr>\n",
              "      <th>2021-05</th>\n",
              "      <td>0.56</td>\n",
              "    </tr>\n",
              "    <tr>\n",
              "      <th>2021-06</th>\n",
              "      <td>2.12</td>\n",
              "    </tr>\n",
              "  </tbody>\n",
              "</table>\n",
              "<p>1134 rows × 1 columns</p>\n",
              "</div>"
            ],
            "text/plain": [
              "         Mom   \n",
              "Date           \n",
              "1927-01    0.44\n",
              "1927-02   -1.32\n",
              "1927-03    3.59\n",
              "1927-04    4.17\n",
              "1927-05    2.96\n",
              "...         ...\n",
              "2021-02   -7.67\n",
              "2021-03   -5.83\n",
              "2021-04    1.01\n",
              "2021-05    0.56\n",
              "2021-06    2.12\n",
              "\n",
              "[1134 rows x 1 columns]"
            ]
          },
          "metadata": {
            "tags": []
          },
          "execution_count": 65
        }
      ]
    },
    {
      "cell_type": "markdown",
      "metadata": {
        "id": "k2ZZOs9Kxkqs"
      },
      "source": [
        "Let's add the momentum factor to our dataset of Mkt-RF, SMB, and HML"
      ]
    },
    {
      "cell_type": "code",
      "metadata": {
        "colab": {
          "base_uri": "https://localhost:8080/",
          "height": 455
        },
        "id": "5HHJklQNSuow",
        "outputId": "c2991218-df8c-4b09-8613-0955804352cf"
      },
      "source": [
        "df_ffac_merged = pd.merge(ffac_df,ffac_mom_df,how=\"inner\",on='Date',sort=True,copy=True,indicator=False,validate='one_to_one')\n",
        "df_ffac_merged"
      ],
      "execution_count": 67,
      "outputs": [
        {
          "output_type": "execute_result",
          "data": {
            "text/html": [
              "<div>\n",
              "<style scoped>\n",
              "    .dataframe tbody tr th:only-of-type {\n",
              "        vertical-align: middle;\n",
              "    }\n",
              "\n",
              "    .dataframe tbody tr th {\n",
              "        vertical-align: top;\n",
              "    }\n",
              "\n",
              "    .dataframe thead th {\n",
              "        text-align: right;\n",
              "    }\n",
              "</style>\n",
              "<table border=\"1\" class=\"dataframe\">\n",
              "  <thead>\n",
              "    <tr style=\"text-align: right;\">\n",
              "      <th></th>\n",
              "      <th>Mkt-RF</th>\n",
              "      <th>SMB</th>\n",
              "      <th>HML</th>\n",
              "      <th>RF</th>\n",
              "      <th>Mom</th>\n",
              "    </tr>\n",
              "    <tr>\n",
              "      <th>Date</th>\n",
              "      <th></th>\n",
              "      <th></th>\n",
              "      <th></th>\n",
              "      <th></th>\n",
              "      <th></th>\n",
              "    </tr>\n",
              "  </thead>\n",
              "  <tbody>\n",
              "    <tr>\n",
              "      <th>1927-01</th>\n",
              "      <td>-0.06</td>\n",
              "      <td>-0.56</td>\n",
              "      <td>4.83</td>\n",
              "      <td>0.25</td>\n",
              "      <td>0.44</td>\n",
              "    </tr>\n",
              "    <tr>\n",
              "      <th>1927-02</th>\n",
              "      <td>4.18</td>\n",
              "      <td>-0.10</td>\n",
              "      <td>3.17</td>\n",
              "      <td>0.26</td>\n",
              "      <td>-1.32</td>\n",
              "    </tr>\n",
              "    <tr>\n",
              "      <th>1927-03</th>\n",
              "      <td>0.13</td>\n",
              "      <td>-1.60</td>\n",
              "      <td>-2.67</td>\n",
              "      <td>0.30</td>\n",
              "      <td>3.59</td>\n",
              "    </tr>\n",
              "    <tr>\n",
              "      <th>1927-04</th>\n",
              "      <td>0.46</td>\n",
              "      <td>0.43</td>\n",
              "      <td>0.60</td>\n",
              "      <td>0.25</td>\n",
              "      <td>4.17</td>\n",
              "    </tr>\n",
              "    <tr>\n",
              "      <th>1927-05</th>\n",
              "      <td>5.44</td>\n",
              "      <td>1.41</td>\n",
              "      <td>4.93</td>\n",
              "      <td>0.30</td>\n",
              "      <td>2.96</td>\n",
              "    </tr>\n",
              "    <tr>\n",
              "      <th>...</th>\n",
              "      <td>...</td>\n",
              "      <td>...</td>\n",
              "      <td>...</td>\n",
              "      <td>...</td>\n",
              "      <td>...</td>\n",
              "    </tr>\n",
              "    <tr>\n",
              "      <th>2021-02</th>\n",
              "      <td>2.78</td>\n",
              "      <td>2.11</td>\n",
              "      <td>7.08</td>\n",
              "      <td>0.00</td>\n",
              "      <td>-7.67</td>\n",
              "    </tr>\n",
              "    <tr>\n",
              "      <th>2021-03</th>\n",
              "      <td>3.08</td>\n",
              "      <td>-2.48</td>\n",
              "      <td>7.40</td>\n",
              "      <td>0.00</td>\n",
              "      <td>-5.83</td>\n",
              "    </tr>\n",
              "    <tr>\n",
              "      <th>2021-04</th>\n",
              "      <td>4.93</td>\n",
              "      <td>-3.09</td>\n",
              "      <td>-0.74</td>\n",
              "      <td>0.00</td>\n",
              "      <td>1.01</td>\n",
              "    </tr>\n",
              "    <tr>\n",
              "      <th>2021-05</th>\n",
              "      <td>0.29</td>\n",
              "      <td>-0.21</td>\n",
              "      <td>7.04</td>\n",
              "      <td>0.00</td>\n",
              "      <td>0.56</td>\n",
              "    </tr>\n",
              "    <tr>\n",
              "      <th>2021-06</th>\n",
              "      <td>2.79</td>\n",
              "      <td>1.79</td>\n",
              "      <td>-7.70</td>\n",
              "      <td>0.00</td>\n",
              "      <td>2.12</td>\n",
              "    </tr>\n",
              "  </tbody>\n",
              "</table>\n",
              "<p>1134 rows × 5 columns</p>\n",
              "</div>"
            ],
            "text/plain": [
              "         Mkt-RF   SMB   HML    RF  Mom   \n",
              "Date                                     \n",
              "1927-01   -0.06 -0.56  4.83  0.25    0.44\n",
              "1927-02    4.18 -0.10  3.17  0.26   -1.32\n",
              "1927-03    0.13 -1.60 -2.67  0.30    3.59\n",
              "1927-04    0.46  0.43  0.60  0.25    4.17\n",
              "1927-05    5.44  1.41  4.93  0.30    2.96\n",
              "...         ...   ...   ...   ...     ...\n",
              "2021-02    2.78  2.11  7.08  0.00   -7.67\n",
              "2021-03    3.08 -2.48  7.40  0.00   -5.83\n",
              "2021-04    4.93 -3.09 -0.74  0.00    1.01\n",
              "2021-05    0.29 -0.21  7.04  0.00    0.56\n",
              "2021-06    2.79  1.79 -7.70  0.00    2.12\n",
              "\n",
              "[1134 rows x 5 columns]"
            ]
          },
          "metadata": {
            "tags": []
          },
          "execution_count": 67
        }
      ]
    },
    {
      "cell_type": "markdown",
      "metadata": {
        "id": "aM780_Dbyzlt"
      },
      "source": [
        "Let's calculate factor exposures and idiosyncratic risk for a firm"
      ]
    },
    {
      "cell_type": "code",
      "metadata": {
        "colab": {
          "base_uri": "https://localhost:8080/",
          "height": 474
        },
        "id": "cvpBXjHWSw9k",
        "outputId": "f8ac739a-4b79-4629-e309-6e9767664094"
      },
      "source": [
        "tsla_data = pdr.get_data_yahoo('TSLA', start=start, end=end)['Adj Close'].resample('M').ffill()\n",
        "tsla_df=tsla_data.to_frame()\n",
        "tsla_df"
      ],
      "execution_count": 77,
      "outputs": [
        {
          "output_type": "stream",
          "text": [
            "\r[*********************100%***********************]  1 of 1 completed\n"
          ],
          "name": "stdout"
        },
        {
          "output_type": "execute_result",
          "data": {
            "text/html": [
              "<div>\n",
              "<style scoped>\n",
              "    .dataframe tbody tr th:only-of-type {\n",
              "        vertical-align: middle;\n",
              "    }\n",
              "\n",
              "    .dataframe tbody tr th {\n",
              "        vertical-align: top;\n",
              "    }\n",
              "\n",
              "    .dataframe thead th {\n",
              "        text-align: right;\n",
              "    }\n",
              "</style>\n",
              "<table border=\"1\" class=\"dataframe\">\n",
              "  <thead>\n",
              "    <tr style=\"text-align: right;\">\n",
              "      <th></th>\n",
              "      <th>Adj Close</th>\n",
              "    </tr>\n",
              "    <tr>\n",
              "      <th>Date</th>\n",
              "      <th></th>\n",
              "    </tr>\n",
              "  </thead>\n",
              "  <tbody>\n",
              "    <tr>\n",
              "      <th>2010-06-30</th>\n",
              "      <td>4.766000</td>\n",
              "    </tr>\n",
              "    <tr>\n",
              "      <th>2010-07-31</th>\n",
              "      <td>3.988000</td>\n",
              "    </tr>\n",
              "    <tr>\n",
              "      <th>2010-08-31</th>\n",
              "      <td>3.896000</td>\n",
              "    </tr>\n",
              "    <tr>\n",
              "      <th>2010-09-30</th>\n",
              "      <td>4.082000</td>\n",
              "    </tr>\n",
              "    <tr>\n",
              "      <th>2010-10-31</th>\n",
              "      <td>4.368000</td>\n",
              "    </tr>\n",
              "    <tr>\n",
              "      <th>...</th>\n",
              "      <td>...</td>\n",
              "    </tr>\n",
              "    <tr>\n",
              "      <th>2021-04-30</th>\n",
              "      <td>709.440002</td>\n",
              "    </tr>\n",
              "    <tr>\n",
              "      <th>2021-05-31</th>\n",
              "      <td>625.219971</td>\n",
              "    </tr>\n",
              "    <tr>\n",
              "      <th>2021-06-30</th>\n",
              "      <td>679.700012</td>\n",
              "    </tr>\n",
              "    <tr>\n",
              "      <th>2021-07-31</th>\n",
              "      <td>687.200012</td>\n",
              "    </tr>\n",
              "    <tr>\n",
              "      <th>2021-08-31</th>\n",
              "      <td>707.820007</td>\n",
              "    </tr>\n",
              "  </tbody>\n",
              "</table>\n",
              "<p>135 rows × 1 columns</p>\n",
              "</div>"
            ],
            "text/plain": [
              "             Adj Close\n",
              "Date                  \n",
              "2010-06-30    4.766000\n",
              "2010-07-31    3.988000\n",
              "2010-08-31    3.896000\n",
              "2010-09-30    4.082000\n",
              "2010-10-31    4.368000\n",
              "...                ...\n",
              "2021-04-30  709.440002\n",
              "2021-05-31  625.219971\n",
              "2021-06-30  679.700012\n",
              "2021-07-31  687.200012\n",
              "2021-08-31  707.820007\n",
              "\n",
              "[135 rows x 1 columns]"
            ]
          },
          "metadata": {
            "tags": []
          },
          "execution_count": 77
        }
      ]
    },
    {
      "cell_type": "code",
      "metadata": {
        "id": "8ki8gquo0Ma5"
      },
      "source": [
        "tsla_df.rename('Adj_Close':)"
      ],
      "execution_count": null,
      "outputs": []
    },
    {
      "cell_type": "code",
      "metadata": {
        "colab": {
          "base_uri": "https://localhost:8080/",
          "height": 490
        },
        "id": "8oWMWwbbTO3R",
        "outputId": "70ab4021-f22c-48b4-e9c4-92cd4f420a59"
      },
      "source": [
        "df_tsla_ffac_merged = pd.merge(df_ffac_merged,tsla_data,how=\"inner\",on='Date',sort=True,copy=True,indicator=False,validate='one_to_one')\n",
        "df_ffac_merged"
      ],
      "execution_count": 73,
      "outputs": [
        {
          "output_type": "error",
          "ename": "TypeError",
          "evalue": "ignored",
          "traceback": [
            "\u001b[0;31m---------------------------------------------------------------------------\u001b[0m",
            "\u001b[0;31mTypeError\u001b[0m                                 Traceback (most recent call last)",
            "\u001b[0;32m/usr/local/lib/python3.7/dist-packages/pandas/core/algorithms.py\u001b[0m in \u001b[0;36msafe_sort\u001b[0;34m(values, codes, na_sentinel, assume_unique, verify)\u001b[0m\n\u001b[1;32m   2089\u001b[0m         \u001b[0;32mtry\u001b[0m\u001b[0;34m:\u001b[0m\u001b[0;34m\u001b[0m\u001b[0;34m\u001b[0m\u001b[0m\n\u001b[0;32m-> 2090\u001b[0;31m             \u001b[0msorter\u001b[0m \u001b[0;34m=\u001b[0m \u001b[0mvalues\u001b[0m\u001b[0;34m.\u001b[0m\u001b[0margsort\u001b[0m\u001b[0;34m(\u001b[0m\u001b[0;34m)\u001b[0m\u001b[0;34m\u001b[0m\u001b[0;34m\u001b[0m\u001b[0m\n\u001b[0m\u001b[1;32m   2091\u001b[0m             \u001b[0mordered\u001b[0m \u001b[0;34m=\u001b[0m \u001b[0mvalues\u001b[0m\u001b[0;34m.\u001b[0m\u001b[0mtake\u001b[0m\u001b[0;34m(\u001b[0m\u001b[0msorter\u001b[0m\u001b[0;34m)\u001b[0m\u001b[0;34m\u001b[0m\u001b[0;34m\u001b[0m\u001b[0m\n",
            "\u001b[0;31mTypeError\u001b[0m: '<' not supported between instances of 'Timestamp' and 'Period'",
            "\nDuring handling of the above exception, another exception occurred:\n",
            "\u001b[0;31mTypeError\u001b[0m                                 Traceback (most recent call last)",
            "\u001b[0;32m<ipython-input-73-b0064f43f9ff>\u001b[0m in \u001b[0;36m<module>\u001b[0;34m()\u001b[0m\n\u001b[0;32m----> 1\u001b[0;31m \u001b[0mdf_tsla_ffac_merged\u001b[0m \u001b[0;34m=\u001b[0m \u001b[0mpd\u001b[0m\u001b[0;34m.\u001b[0m\u001b[0mmerge\u001b[0m\u001b[0;34m(\u001b[0m\u001b[0mdf_ffac_merged\u001b[0m\u001b[0;34m,\u001b[0m\u001b[0mtsla_data\u001b[0m\u001b[0;34m,\u001b[0m\u001b[0mhow\u001b[0m\u001b[0;34m=\u001b[0m\u001b[0;34m\"inner\"\u001b[0m\u001b[0;34m,\u001b[0m\u001b[0mon\u001b[0m\u001b[0;34m=\u001b[0m\u001b[0;34m'Date'\u001b[0m\u001b[0;34m,\u001b[0m\u001b[0msort\u001b[0m\u001b[0;34m=\u001b[0m\u001b[0;32mTrue\u001b[0m\u001b[0;34m,\u001b[0m\u001b[0mcopy\u001b[0m\u001b[0;34m=\u001b[0m\u001b[0;32mTrue\u001b[0m\u001b[0;34m,\u001b[0m\u001b[0mindicator\u001b[0m\u001b[0;34m=\u001b[0m\u001b[0;32mFalse\u001b[0m\u001b[0;34m,\u001b[0m\u001b[0mvalidate\u001b[0m\u001b[0;34m=\u001b[0m\u001b[0;34m'one_to_one'\u001b[0m\u001b[0;34m)\u001b[0m\u001b[0;34m\u001b[0m\u001b[0;34m\u001b[0m\u001b[0m\n\u001b[0m\u001b[1;32m      2\u001b[0m \u001b[0mdf_ffac_merged\u001b[0m\u001b[0;34m\u001b[0m\u001b[0;34m\u001b[0m\u001b[0m\n",
            "\u001b[0;32m/usr/local/lib/python3.7/dist-packages/pandas/core/reshape/merge.py\u001b[0m in \u001b[0;36mmerge\u001b[0;34m(left, right, how, on, left_on, right_on, left_index, right_index, sort, suffixes, copy, indicator, validate)\u001b[0m\n\u001b[1;32m     87\u001b[0m         \u001b[0mvalidate\u001b[0m\u001b[0;34m=\u001b[0m\u001b[0mvalidate\u001b[0m\u001b[0;34m,\u001b[0m\u001b[0;34m\u001b[0m\u001b[0;34m\u001b[0m\u001b[0m\n\u001b[1;32m     88\u001b[0m     )\n\u001b[0;32m---> 89\u001b[0;31m     \u001b[0;32mreturn\u001b[0m \u001b[0mop\u001b[0m\u001b[0;34m.\u001b[0m\u001b[0mget_result\u001b[0m\u001b[0;34m(\u001b[0m\u001b[0;34m)\u001b[0m\u001b[0;34m\u001b[0m\u001b[0;34m\u001b[0m\u001b[0m\n\u001b[0m\u001b[1;32m     90\u001b[0m \u001b[0;34m\u001b[0m\u001b[0m\n\u001b[1;32m     91\u001b[0m \u001b[0;34m\u001b[0m\u001b[0m\n",
            "\u001b[0;32m/usr/local/lib/python3.7/dist-packages/pandas/core/reshape/merge.py\u001b[0m in \u001b[0;36mget_result\u001b[0;34m(self)\u001b[0m\n\u001b[1;32m    666\u001b[0m             \u001b[0mself\u001b[0m\u001b[0;34m.\u001b[0m\u001b[0mleft\u001b[0m\u001b[0;34m,\u001b[0m \u001b[0mself\u001b[0m\u001b[0;34m.\u001b[0m\u001b[0mright\u001b[0m \u001b[0;34m=\u001b[0m \u001b[0mself\u001b[0m\u001b[0;34m.\u001b[0m\u001b[0m_indicator_pre_merge\u001b[0m\u001b[0;34m(\u001b[0m\u001b[0mself\u001b[0m\u001b[0;34m.\u001b[0m\u001b[0mleft\u001b[0m\u001b[0;34m,\u001b[0m \u001b[0mself\u001b[0m\u001b[0;34m.\u001b[0m\u001b[0mright\u001b[0m\u001b[0;34m)\u001b[0m\u001b[0;34m\u001b[0m\u001b[0;34m\u001b[0m\u001b[0m\n\u001b[1;32m    667\u001b[0m \u001b[0;34m\u001b[0m\u001b[0m\n\u001b[0;32m--> 668\u001b[0;31m         \u001b[0mjoin_index\u001b[0m\u001b[0;34m,\u001b[0m \u001b[0mleft_indexer\u001b[0m\u001b[0;34m,\u001b[0m \u001b[0mright_indexer\u001b[0m \u001b[0;34m=\u001b[0m \u001b[0mself\u001b[0m\u001b[0;34m.\u001b[0m\u001b[0m_get_join_info\u001b[0m\u001b[0;34m(\u001b[0m\u001b[0;34m)\u001b[0m\u001b[0;34m\u001b[0m\u001b[0;34m\u001b[0m\u001b[0m\n\u001b[0m\u001b[1;32m    669\u001b[0m \u001b[0;34m\u001b[0m\u001b[0m\n\u001b[1;32m    670\u001b[0m         llabels, rlabels = _items_overlap_with_suffix(\n",
            "\u001b[0;32m/usr/local/lib/python3.7/dist-packages/pandas/core/reshape/merge.py\u001b[0m in \u001b[0;36m_get_join_info\u001b[0;34m(self)\u001b[0m\n\u001b[1;32m    882\u001b[0m             )\n\u001b[1;32m    883\u001b[0m         \u001b[0;32melse\u001b[0m\u001b[0;34m:\u001b[0m\u001b[0;34m\u001b[0m\u001b[0;34m\u001b[0m\u001b[0m\n\u001b[0;32m--> 884\u001b[0;31m             \u001b[0;34m(\u001b[0m\u001b[0mleft_indexer\u001b[0m\u001b[0;34m,\u001b[0m \u001b[0mright_indexer\u001b[0m\u001b[0;34m)\u001b[0m \u001b[0;34m=\u001b[0m \u001b[0mself\u001b[0m\u001b[0;34m.\u001b[0m\u001b[0m_get_join_indexers\u001b[0m\u001b[0;34m(\u001b[0m\u001b[0;34m)\u001b[0m\u001b[0;34m\u001b[0m\u001b[0;34m\u001b[0m\u001b[0m\n\u001b[0m\u001b[1;32m    885\u001b[0m \u001b[0;34m\u001b[0m\u001b[0m\n\u001b[1;32m    886\u001b[0m             \u001b[0;32mif\u001b[0m \u001b[0mself\u001b[0m\u001b[0;34m.\u001b[0m\u001b[0mright_index\u001b[0m\u001b[0;34m:\u001b[0m\u001b[0;34m\u001b[0m\u001b[0;34m\u001b[0m\u001b[0m\n",
            "\u001b[0;32m/usr/local/lib/python3.7/dist-packages/pandas/core/reshape/merge.py\u001b[0m in \u001b[0;36m_get_join_indexers\u001b[0;34m(self)\u001b[0m\n\u001b[1;32m    861\u001b[0m         \u001b[0;34m\"\"\" return the join indexers \"\"\"\u001b[0m\u001b[0;34m\u001b[0m\u001b[0;34m\u001b[0m\u001b[0m\n\u001b[1;32m    862\u001b[0m         return _get_join_indexers(\n\u001b[0;32m--> 863\u001b[0;31m             \u001b[0mself\u001b[0m\u001b[0;34m.\u001b[0m\u001b[0mleft_join_keys\u001b[0m\u001b[0;34m,\u001b[0m \u001b[0mself\u001b[0m\u001b[0;34m.\u001b[0m\u001b[0mright_join_keys\u001b[0m\u001b[0;34m,\u001b[0m \u001b[0msort\u001b[0m\u001b[0;34m=\u001b[0m\u001b[0mself\u001b[0m\u001b[0;34m.\u001b[0m\u001b[0msort\u001b[0m\u001b[0;34m,\u001b[0m \u001b[0mhow\u001b[0m\u001b[0;34m=\u001b[0m\u001b[0mself\u001b[0m\u001b[0;34m.\u001b[0m\u001b[0mhow\u001b[0m\u001b[0;34m\u001b[0m\u001b[0;34m\u001b[0m\u001b[0m\n\u001b[0m\u001b[1;32m    864\u001b[0m         )\n\u001b[1;32m    865\u001b[0m \u001b[0;34m\u001b[0m\u001b[0m\n",
            "\u001b[0;32m/usr/local/lib/python3.7/dist-packages/pandas/core/reshape/merge.py\u001b[0m in \u001b[0;36m_get_join_indexers\u001b[0;34m(left_keys, right_keys, sort, how, **kwargs)\u001b[0m\n\u001b[1;32m   1331\u001b[0m         \u001b[0;32mfor\u001b[0m \u001b[0mn\u001b[0m \u001b[0;32min\u001b[0m \u001b[0mrange\u001b[0m\u001b[0;34m(\u001b[0m\u001b[0mlen\u001b[0m\u001b[0;34m(\u001b[0m\u001b[0mleft_keys\u001b[0m\u001b[0;34m)\u001b[0m\u001b[0;34m)\u001b[0m\u001b[0;34m\u001b[0m\u001b[0;34m\u001b[0m\u001b[0m\n\u001b[1;32m   1332\u001b[0m     )\n\u001b[0;32m-> 1333\u001b[0;31m     \u001b[0mzipped\u001b[0m \u001b[0;34m=\u001b[0m \u001b[0mzip\u001b[0m\u001b[0;34m(\u001b[0m\u001b[0;34m*\u001b[0m\u001b[0mmapped\u001b[0m\u001b[0;34m)\u001b[0m\u001b[0;34m\u001b[0m\u001b[0;34m\u001b[0m\u001b[0m\n\u001b[0m\u001b[1;32m   1334\u001b[0m     \u001b[0mllab\u001b[0m\u001b[0;34m,\u001b[0m \u001b[0mrlab\u001b[0m\u001b[0;34m,\u001b[0m \u001b[0mshape\u001b[0m \u001b[0;34m=\u001b[0m \u001b[0;34m[\u001b[0m\u001b[0mlist\u001b[0m\u001b[0;34m(\u001b[0m\u001b[0mx\u001b[0m\u001b[0;34m)\u001b[0m \u001b[0;32mfor\u001b[0m \u001b[0mx\u001b[0m \u001b[0;32min\u001b[0m \u001b[0mzipped\u001b[0m\u001b[0;34m]\u001b[0m\u001b[0;34m\u001b[0m\u001b[0;34m\u001b[0m\u001b[0m\n\u001b[1;32m   1335\u001b[0m \u001b[0;34m\u001b[0m\u001b[0m\n",
            "\u001b[0;32m/usr/local/lib/python3.7/dist-packages/pandas/core/reshape/merge.py\u001b[0m in \u001b[0;36m<genexpr>\u001b[0;34m(.0)\u001b[0m\n\u001b[1;32m   1329\u001b[0m     mapped = (\n\u001b[1;32m   1330\u001b[0m         \u001b[0m_factorize_keys\u001b[0m\u001b[0;34m(\u001b[0m\u001b[0mleft_keys\u001b[0m\u001b[0;34m[\u001b[0m\u001b[0mn\u001b[0m\u001b[0;34m]\u001b[0m\u001b[0;34m,\u001b[0m \u001b[0mright_keys\u001b[0m\u001b[0;34m[\u001b[0m\u001b[0mn\u001b[0m\u001b[0;34m]\u001b[0m\u001b[0;34m,\u001b[0m \u001b[0msort\u001b[0m\u001b[0;34m=\u001b[0m\u001b[0msort\u001b[0m\u001b[0;34m,\u001b[0m \u001b[0mhow\u001b[0m\u001b[0;34m=\u001b[0m\u001b[0mhow\u001b[0m\u001b[0;34m)\u001b[0m\u001b[0;34m\u001b[0m\u001b[0;34m\u001b[0m\u001b[0m\n\u001b[0;32m-> 1331\u001b[0;31m         \u001b[0;32mfor\u001b[0m \u001b[0mn\u001b[0m \u001b[0;32min\u001b[0m \u001b[0mrange\u001b[0m\u001b[0;34m(\u001b[0m\u001b[0mlen\u001b[0m\u001b[0;34m(\u001b[0m\u001b[0mleft_keys\u001b[0m\u001b[0;34m)\u001b[0m\u001b[0;34m)\u001b[0m\u001b[0;34m\u001b[0m\u001b[0;34m\u001b[0m\u001b[0m\n\u001b[0m\u001b[1;32m   1332\u001b[0m     )\n\u001b[1;32m   1333\u001b[0m     \u001b[0mzipped\u001b[0m \u001b[0;34m=\u001b[0m \u001b[0mzip\u001b[0m\u001b[0;34m(\u001b[0m\u001b[0;34m*\u001b[0m\u001b[0mmapped\u001b[0m\u001b[0;34m)\u001b[0m\u001b[0;34m\u001b[0m\u001b[0;34m\u001b[0m\u001b[0m\n",
            "\u001b[0;32m/usr/local/lib/python3.7/dist-packages/pandas/core/reshape/merge.py\u001b[0m in \u001b[0;36m_factorize_keys\u001b[0;34m(lk, rk, sort, how)\u001b[0m\n\u001b[1;32m   1983\u001b[0m     \u001b[0;32mif\u001b[0m \u001b[0msort\u001b[0m\u001b[0;34m:\u001b[0m\u001b[0;34m\u001b[0m\u001b[0;34m\u001b[0m\u001b[0m\n\u001b[1;32m   1984\u001b[0m         \u001b[0muniques\u001b[0m \u001b[0;34m=\u001b[0m \u001b[0mrizer\u001b[0m\u001b[0;34m.\u001b[0m\u001b[0muniques\u001b[0m\u001b[0;34m.\u001b[0m\u001b[0mto_array\u001b[0m\u001b[0;34m(\u001b[0m\u001b[0;34m)\u001b[0m\u001b[0;34m\u001b[0m\u001b[0;34m\u001b[0m\u001b[0m\n\u001b[0;32m-> 1985\u001b[0;31m         \u001b[0mllab\u001b[0m\u001b[0;34m,\u001b[0m \u001b[0mrlab\u001b[0m \u001b[0;34m=\u001b[0m \u001b[0m_sort_labels\u001b[0m\u001b[0;34m(\u001b[0m\u001b[0muniques\u001b[0m\u001b[0;34m,\u001b[0m \u001b[0mllab\u001b[0m\u001b[0;34m,\u001b[0m \u001b[0mrlab\u001b[0m\u001b[0;34m)\u001b[0m\u001b[0;34m\u001b[0m\u001b[0;34m\u001b[0m\u001b[0m\n\u001b[0m\u001b[1;32m   1986\u001b[0m \u001b[0;34m\u001b[0m\u001b[0m\n\u001b[1;32m   1987\u001b[0m     \u001b[0;31m# NA group\u001b[0m\u001b[0;34m\u001b[0m\u001b[0;34m\u001b[0m\u001b[0;34m\u001b[0m\u001b[0m\n",
            "\u001b[0;32m/usr/local/lib/python3.7/dist-packages/pandas/core/reshape/merge.py\u001b[0m in \u001b[0;36m_sort_labels\u001b[0;34m(uniques, left, right)\u001b[0m\n\u001b[1;32m   2008\u001b[0m     \u001b[0mlabels\u001b[0m \u001b[0;34m=\u001b[0m \u001b[0mnp\u001b[0m\u001b[0;34m.\u001b[0m\u001b[0mconcatenate\u001b[0m\u001b[0;34m(\u001b[0m\u001b[0;34m[\u001b[0m\u001b[0mleft\u001b[0m\u001b[0;34m,\u001b[0m \u001b[0mright\u001b[0m\u001b[0;34m]\u001b[0m\u001b[0;34m)\u001b[0m\u001b[0;34m\u001b[0m\u001b[0;34m\u001b[0m\u001b[0m\n\u001b[1;32m   2009\u001b[0m \u001b[0;34m\u001b[0m\u001b[0m\n\u001b[0;32m-> 2010\u001b[0;31m     \u001b[0m_\u001b[0m\u001b[0;34m,\u001b[0m \u001b[0mnew_labels\u001b[0m \u001b[0;34m=\u001b[0m \u001b[0malgos\u001b[0m\u001b[0;34m.\u001b[0m\u001b[0msafe_sort\u001b[0m\u001b[0;34m(\u001b[0m\u001b[0muniques\u001b[0m\u001b[0;34m,\u001b[0m \u001b[0mlabels\u001b[0m\u001b[0;34m,\u001b[0m \u001b[0mna_sentinel\u001b[0m\u001b[0;34m=\u001b[0m\u001b[0;34m-\u001b[0m\u001b[0;36m1\u001b[0m\u001b[0;34m)\u001b[0m\u001b[0;34m\u001b[0m\u001b[0;34m\u001b[0m\u001b[0m\n\u001b[0m\u001b[1;32m   2011\u001b[0m     \u001b[0mnew_labels\u001b[0m \u001b[0;34m=\u001b[0m \u001b[0mensure_int64\u001b[0m\u001b[0;34m(\u001b[0m\u001b[0mnew_labels\u001b[0m\u001b[0;34m)\u001b[0m\u001b[0;34m\u001b[0m\u001b[0;34m\u001b[0m\u001b[0m\n\u001b[1;32m   2012\u001b[0m     \u001b[0mnew_left\u001b[0m\u001b[0;34m,\u001b[0m \u001b[0mnew_right\u001b[0m \u001b[0;34m=\u001b[0m \u001b[0mnew_labels\u001b[0m\u001b[0;34m[\u001b[0m\u001b[0;34m:\u001b[0m\u001b[0mllength\u001b[0m\u001b[0;34m]\u001b[0m\u001b[0;34m,\u001b[0m \u001b[0mnew_labels\u001b[0m\u001b[0;34m[\u001b[0m\u001b[0mllength\u001b[0m\u001b[0;34m:\u001b[0m\u001b[0;34m]\u001b[0m\u001b[0;34m\u001b[0m\u001b[0;34m\u001b[0m\u001b[0m\n",
            "\u001b[0;32m/usr/local/lib/python3.7/dist-packages/pandas/core/algorithms.py\u001b[0m in \u001b[0;36msafe_sort\u001b[0;34m(values, codes, na_sentinel, assume_unique, verify)\u001b[0m\n\u001b[1;32m   2092\u001b[0m         \u001b[0;32mexcept\u001b[0m \u001b[0mTypeError\u001b[0m\u001b[0;34m:\u001b[0m\u001b[0;34m\u001b[0m\u001b[0;34m\u001b[0m\u001b[0m\n\u001b[1;32m   2093\u001b[0m             \u001b[0;31m# try this anyway\u001b[0m\u001b[0;34m\u001b[0m\u001b[0;34m\u001b[0m\u001b[0;34m\u001b[0m\u001b[0m\n\u001b[0;32m-> 2094\u001b[0;31m             \u001b[0mordered\u001b[0m \u001b[0;34m=\u001b[0m \u001b[0msort_mixed\u001b[0m\u001b[0;34m(\u001b[0m\u001b[0mvalues\u001b[0m\u001b[0;34m)\u001b[0m\u001b[0;34m\u001b[0m\u001b[0;34m\u001b[0m\u001b[0m\n\u001b[0m\u001b[1;32m   2095\u001b[0m \u001b[0;34m\u001b[0m\u001b[0m\n\u001b[1;32m   2096\u001b[0m     \u001b[0;31m# codes:\u001b[0m\u001b[0;34m\u001b[0m\u001b[0;34m\u001b[0m\u001b[0;34m\u001b[0m\u001b[0m\n",
            "\u001b[0;32m/usr/local/lib/python3.7/dist-packages/pandas/core/algorithms.py\u001b[0m in \u001b[0;36msort_mixed\u001b[0;34m(values)\u001b[0m\n\u001b[1;32m   2075\u001b[0m         \u001b[0;31m# order ints before strings, safe in py3\u001b[0m\u001b[0;34m\u001b[0m\u001b[0;34m\u001b[0m\u001b[0;34m\u001b[0m\u001b[0m\n\u001b[1;32m   2076\u001b[0m         \u001b[0mstr_pos\u001b[0m \u001b[0;34m=\u001b[0m \u001b[0mnp\u001b[0m\u001b[0;34m.\u001b[0m\u001b[0marray\u001b[0m\u001b[0;34m(\u001b[0m\u001b[0;34m[\u001b[0m\u001b[0misinstance\u001b[0m\u001b[0;34m(\u001b[0m\u001b[0mx\u001b[0m\u001b[0;34m,\u001b[0m \u001b[0mstr\u001b[0m\u001b[0;34m)\u001b[0m \u001b[0;32mfor\u001b[0m \u001b[0mx\u001b[0m \u001b[0;32min\u001b[0m \u001b[0mvalues\u001b[0m\u001b[0;34m]\u001b[0m\u001b[0;34m,\u001b[0m \u001b[0mdtype\u001b[0m\u001b[0;34m=\u001b[0m\u001b[0mbool\u001b[0m\u001b[0;34m)\u001b[0m\u001b[0;34m\u001b[0m\u001b[0;34m\u001b[0m\u001b[0m\n\u001b[0;32m-> 2077\u001b[0;31m         \u001b[0mnums\u001b[0m \u001b[0;34m=\u001b[0m \u001b[0mnp\u001b[0m\u001b[0;34m.\u001b[0m\u001b[0msort\u001b[0m\u001b[0;34m(\u001b[0m\u001b[0mvalues\u001b[0m\u001b[0;34m[\u001b[0m\u001b[0;34m~\u001b[0m\u001b[0mstr_pos\u001b[0m\u001b[0;34m]\u001b[0m\u001b[0;34m)\u001b[0m\u001b[0;34m\u001b[0m\u001b[0;34m\u001b[0m\u001b[0m\n\u001b[0m\u001b[1;32m   2078\u001b[0m         \u001b[0mstrs\u001b[0m \u001b[0;34m=\u001b[0m \u001b[0mnp\u001b[0m\u001b[0;34m.\u001b[0m\u001b[0msort\u001b[0m\u001b[0;34m(\u001b[0m\u001b[0mvalues\u001b[0m\u001b[0;34m[\u001b[0m\u001b[0mstr_pos\u001b[0m\u001b[0;34m]\u001b[0m\u001b[0;34m)\u001b[0m\u001b[0;34m\u001b[0m\u001b[0;34m\u001b[0m\u001b[0m\n\u001b[1;32m   2079\u001b[0m         \u001b[0;32mreturn\u001b[0m \u001b[0mnp\u001b[0m\u001b[0;34m.\u001b[0m\u001b[0mconcatenate\u001b[0m\u001b[0;34m(\u001b[0m\u001b[0;34m[\u001b[0m\u001b[0mnums\u001b[0m\u001b[0;34m,\u001b[0m \u001b[0mnp\u001b[0m\u001b[0;34m.\u001b[0m\u001b[0masarray\u001b[0m\u001b[0;34m(\u001b[0m\u001b[0mstrs\u001b[0m\u001b[0;34m,\u001b[0m \u001b[0mdtype\u001b[0m\u001b[0;34m=\u001b[0m\u001b[0mobject\u001b[0m\u001b[0;34m)\u001b[0m\u001b[0;34m]\u001b[0m\u001b[0;34m)\u001b[0m\u001b[0;34m\u001b[0m\u001b[0;34m\u001b[0m\u001b[0m\n",
            "\u001b[0;32m<__array_function__ internals>\u001b[0m in \u001b[0;36msort\u001b[0;34m(*args, **kwargs)\u001b[0m\n",
            "\u001b[0;32m/usr/local/lib/python3.7/dist-packages/numpy/core/fromnumeric.py\u001b[0m in \u001b[0;36msort\u001b[0;34m(a, axis, kind, order)\u001b[0m\n\u001b[1;32m    989\u001b[0m     \u001b[0;32melse\u001b[0m\u001b[0;34m:\u001b[0m\u001b[0;34m\u001b[0m\u001b[0;34m\u001b[0m\u001b[0m\n\u001b[1;32m    990\u001b[0m         \u001b[0ma\u001b[0m \u001b[0;34m=\u001b[0m \u001b[0masanyarray\u001b[0m\u001b[0;34m(\u001b[0m\u001b[0ma\u001b[0m\u001b[0;34m)\u001b[0m\u001b[0;34m.\u001b[0m\u001b[0mcopy\u001b[0m\u001b[0;34m(\u001b[0m\u001b[0morder\u001b[0m\u001b[0;34m=\u001b[0m\u001b[0;34m\"K\"\u001b[0m\u001b[0;34m)\u001b[0m\u001b[0;34m\u001b[0m\u001b[0;34m\u001b[0m\u001b[0m\n\u001b[0;32m--> 991\u001b[0;31m     \u001b[0ma\u001b[0m\u001b[0;34m.\u001b[0m\u001b[0msort\u001b[0m\u001b[0;34m(\u001b[0m\u001b[0maxis\u001b[0m\u001b[0;34m=\u001b[0m\u001b[0maxis\u001b[0m\u001b[0;34m,\u001b[0m \u001b[0mkind\u001b[0m\u001b[0;34m=\u001b[0m\u001b[0mkind\u001b[0m\u001b[0;34m,\u001b[0m \u001b[0morder\u001b[0m\u001b[0;34m=\u001b[0m\u001b[0morder\u001b[0m\u001b[0;34m)\u001b[0m\u001b[0;34m\u001b[0m\u001b[0;34m\u001b[0m\u001b[0m\n\u001b[0m\u001b[1;32m    992\u001b[0m     \u001b[0;32mreturn\u001b[0m \u001b[0ma\u001b[0m\u001b[0;34m\u001b[0m\u001b[0;34m\u001b[0m\u001b[0m\n\u001b[1;32m    993\u001b[0m \u001b[0;34m\u001b[0m\u001b[0m\n",
            "\u001b[0;31mTypeError\u001b[0m: '<' not supported between instances of 'Timestamp' and 'Period'"
          ]
        }
      ]
    },
    {
      "cell_type": "markdown",
      "metadata": {
        "id": "74uYonDeWRL5"
      },
      "source": [
        "Scikit-Learn is a more powerful package often used for ML applications, but is much less user-friendly"
      ]
    },
    {
      "cell_type": "code",
      "metadata": {
        "colab": {
          "base_uri": "https://localhost:8080/",
          "height": 1000
        },
        "id": "aiPeGqtcTGsy",
        "outputId": "c7f322e3-502a-4722-ac6b-7528ef008c67"
      },
      "source": [
        "from sklearn.linear_model import LinearRegression\n",
        "reg = LinearRegression().fit(ret_df['SPY'],ret_df['AAPL'])\n",
        "#reg = LinearRegression().fit(ret_df['SPY'].to_numpy().reshape(-1, 1),ret_df['AAPL'].to_numpy().reshape(-1, 1))"
      ],
      "execution_count": null,
      "outputs": [
        {
          "output_type": "error",
          "ename": "ValueError",
          "evalue": "ignored",
          "traceback": [
            "\u001b[0;31m---------------------------------------------------------------------------\u001b[0m",
            "\u001b[0;31mValueError\u001b[0m                                Traceback (most recent call last)",
            "\u001b[0;32m<ipython-input-22-7dd677686968>\u001b[0m in \u001b[0;36m<module>\u001b[0;34m()\u001b[0m\n\u001b[1;32m      1\u001b[0m \u001b[0;32mfrom\u001b[0m \u001b[0msklearn\u001b[0m\u001b[0;34m.\u001b[0m\u001b[0mlinear_model\u001b[0m \u001b[0;32mimport\u001b[0m \u001b[0mLinearRegression\u001b[0m\u001b[0;34m\u001b[0m\u001b[0;34m\u001b[0m\u001b[0m\n\u001b[0;32m----> 2\u001b[0;31m \u001b[0mreg\u001b[0m \u001b[0;34m=\u001b[0m \u001b[0mLinearRegression\u001b[0m\u001b[0;34m(\u001b[0m\u001b[0;34m)\u001b[0m\u001b[0;34m.\u001b[0m\u001b[0mfit\u001b[0m\u001b[0;34m(\u001b[0m\u001b[0mret_df\u001b[0m\u001b[0;34m[\u001b[0m\u001b[0;34m'SPY'\u001b[0m\u001b[0;34m]\u001b[0m\u001b[0;34m,\u001b[0m\u001b[0mret_df\u001b[0m\u001b[0;34m[\u001b[0m\u001b[0;34m'AAPL'\u001b[0m\u001b[0;34m]\u001b[0m\u001b[0;34m)\u001b[0m\u001b[0;34m\u001b[0m\u001b[0;34m\u001b[0m\u001b[0m\n\u001b[0m\u001b[1;32m      3\u001b[0m \u001b[0;31m#reg = LinearRegression().fit(ret_df['SPY'].to_numpy().reshape(-1, 1),ret_df['AAPL'].to_numpy().reshape(-1, 1))\u001b[0m\u001b[0;34m\u001b[0m\u001b[0;34m\u001b[0m\u001b[0;34m\u001b[0m\u001b[0m\n",
            "\u001b[0;32m/usr/local/lib/python3.7/dist-packages/sklearn/linear_model/_base.py\u001b[0m in \u001b[0;36mfit\u001b[0;34m(self, X, y, sample_weight)\u001b[0m\n\u001b[1;32m    490\u001b[0m         \u001b[0mn_jobs_\u001b[0m \u001b[0;34m=\u001b[0m \u001b[0mself\u001b[0m\u001b[0;34m.\u001b[0m\u001b[0mn_jobs\u001b[0m\u001b[0;34m\u001b[0m\u001b[0;34m\u001b[0m\u001b[0m\n\u001b[1;32m    491\u001b[0m         X, y = check_X_y(X, y, accept_sparse=['csr', 'csc', 'coo'],\n\u001b[0;32m--> 492\u001b[0;31m                          y_numeric=True, multi_output=True)\n\u001b[0m\u001b[1;32m    493\u001b[0m \u001b[0;34m\u001b[0m\u001b[0m\n\u001b[1;32m    494\u001b[0m         \u001b[0;32mif\u001b[0m \u001b[0msample_weight\u001b[0m \u001b[0;32mis\u001b[0m \u001b[0;32mnot\u001b[0m \u001b[0;32mNone\u001b[0m\u001b[0;34m:\u001b[0m\u001b[0;34m\u001b[0m\u001b[0;34m\u001b[0m\u001b[0m\n",
            "\u001b[0;32m/usr/local/lib/python3.7/dist-packages/sklearn/utils/validation.py\u001b[0m in \u001b[0;36mcheck_X_y\u001b[0;34m(X, y, accept_sparse, accept_large_sparse, dtype, order, copy, force_all_finite, ensure_2d, allow_nd, multi_output, ensure_min_samples, ensure_min_features, y_numeric, warn_on_dtype, estimator)\u001b[0m\n\u001b[1;32m    753\u001b[0m                     \u001b[0mensure_min_features\u001b[0m\u001b[0;34m=\u001b[0m\u001b[0mensure_min_features\u001b[0m\u001b[0;34m,\u001b[0m\u001b[0;34m\u001b[0m\u001b[0;34m\u001b[0m\u001b[0m\n\u001b[1;32m    754\u001b[0m                     \u001b[0mwarn_on_dtype\u001b[0m\u001b[0;34m=\u001b[0m\u001b[0mwarn_on_dtype\u001b[0m\u001b[0;34m,\u001b[0m\u001b[0;34m\u001b[0m\u001b[0;34m\u001b[0m\u001b[0m\n\u001b[0;32m--> 755\u001b[0;31m                     estimator=estimator)\n\u001b[0m\u001b[1;32m    756\u001b[0m     \u001b[0;32mif\u001b[0m \u001b[0mmulti_output\u001b[0m\u001b[0;34m:\u001b[0m\u001b[0;34m\u001b[0m\u001b[0;34m\u001b[0m\u001b[0m\n\u001b[1;32m    757\u001b[0m         y = check_array(y, 'csr', force_all_finite=True, ensure_2d=False,\n",
            "\u001b[0;32m/usr/local/lib/python3.7/dist-packages/sklearn/utils/validation.py\u001b[0m in \u001b[0;36mcheck_array\u001b[0;34m(array, accept_sparse, accept_large_sparse, dtype, order, copy, force_all_finite, ensure_2d, allow_nd, ensure_min_samples, ensure_min_features, warn_on_dtype, estimator)\u001b[0m\n\u001b[1;32m    554\u001b[0m                     \u001b[0;34m\"Reshape your data either using array.reshape(-1, 1) if \"\u001b[0m\u001b[0;34m\u001b[0m\u001b[0;34m\u001b[0m\u001b[0m\n\u001b[1;32m    555\u001b[0m                     \u001b[0;34m\"your data has a single feature or array.reshape(1, -1) \"\u001b[0m\u001b[0;34m\u001b[0m\u001b[0;34m\u001b[0m\u001b[0m\n\u001b[0;32m--> 556\u001b[0;31m                     \"if it contains a single sample.\".format(array))\n\u001b[0m\u001b[1;32m    557\u001b[0m \u001b[0;34m\u001b[0m\u001b[0m\n\u001b[1;32m    558\u001b[0m         \u001b[0;31m# in the future np.flexible dtypes will be handled like object dtypes\u001b[0m\u001b[0;34m\u001b[0m\u001b[0;34m\u001b[0m\u001b[0;34m\u001b[0m\u001b[0m\n",
            "\u001b[0;31mValueError\u001b[0m: Expected 2D array, got 1D array instead:\narray=[ 1.55233749e-02 -2.95460175e-02  2.62524612e-03  1.47647102e-02\n  1.20412844e-02 -7.64872521e-03  8.13588353e-03 -3.18561518e-04\n -2.56700775e-02  1.10473145e-02 -3.91776292e-03  7.03640891e-03\n  1.27561989e-02 -4.24568356e-04 -5.84029449e-03  1.13219639e-02\n  1.28850554e-02  7.64658858e-04  4.86229292e-04 -2.08282709e-04\n  7.08308739e-03  3.48215825e-03 -6.87143544e-04 -3.05989136e-03\n  2.51750181e-03  5.84795322e-04 -3.43796198e-05 -4.74455064e-03\n -2.41812906e-04 -7.84354376e-03  5.92045692e-03 -2.07727462e-03\n -5.37746323e-03  4.63915728e-03 -1.19088952e-02 -1.76745494e-02\n  8.19144370e-03  1.35533085e-02 -4.34067280e-03 -1.55046936e-02\n  9.49932148e-03  6.75675676e-03  1.03657894e-02 -1.11288864e-03\n  9.88789082e-03 -1.58587878e-03  2.93508287e-03 -4.37252539e-03\n  6.77778546e-03 -3.26303497e-03  2.89465523e-03  1.64931450e-03\n  4.08219272e-03  5.63717117e-03 -2.71785290e-04  3.05841574e-03\n -2.67642376e-03  9.27372783e-03  4.00525058e-03 -1.10626886e-03\n  2.34922979e-04  3.52301704e-03  2.47417165e-03 -1.93442951e-03\n  2.10526316e-03  3.33466720e-04  1.46676445e-03  7.22322082e-03\n  7.60104432e-04 -2.97206261e-04 -3.73269910e-03 -1.59151194e-03\n  2.22502657e-03  7.75373604e-03  2.23588597e-03  4.46179587e-03\n -3.69076004e-03 -8.49068975e-03 -6.71185320e-03  6.15804540e-03\n  1.81956529e-03  9.11432534e-03 -3.14156686e-03 -1.11614470e-03\n  2.82634416e-03  8.61899456e-03  6.17344121e-04  6.85153916e-03\n  2.25755475e-04  6.44870059e-05  4.09466082e-03  4.39906239e-03\n  1.53452685e-03  3.19203269e-05  5.29860513e-03 -2.22257501e-04\n -5.52591463e-03  2.42702944e-03  9.36604014e-03 -7.57480116e-03\n  3.81630836e-03 -2.81966798e-03  5.33756950e-03  6.76294915e-03\n -2.85651505e-03  6.86268337e-03 -1.53201601e-03  2.25457961e-03\n  8.34192520e-03  3.09846936e-03 -1.94600605e-03  1.23796849e-04\n  1.14497911e-03 -8.90207715e-03 -1.60304391e-02  1.04912837e-02\n -8.46899407e-04  3.26489609e-03 -1.81801114e-02  7.45769194e-03\n  1.52162222e-02  1.15605135e-02  3.35766873e-03 -5.31131033e-03\n  7.43850119e-03  1.74632353e-03  6.45319142e-03 -1.06357117e-03\n  1.58184528e-03 -2.58162491e-03  4.78075518e-03 -4.09128103e-03\n -1.03158664e-02 -3.31457738e-02 -3.03068850e-02 -3.67309458e-03\n -4.49308756e-02 -4.20472170e-03  4.33322950e-02 -2.86282966e-02\n  4.20053275e-02 -3.32328264e-02 -1.65434945e-02 -7.80765253e-02\n  5.17479903e-02 -4.87397348e-02 -9.57096943e-02  8.55064677e-02\n -1.09419021e-01  5.39928181e-02 -5.06185358e-02  2.09339087e-03\n -4.31019782e-02 -2.55290711e-02  9.05724214e-02  1.49666709e-02\n  5.84056175e-02 -2.97767718e-02  3.24604803e-02 -1.49213028e-02\n -4.50069211e-02  2.31084607e-02 -1.44505161e-02  6.71513061e-02\n  1.00065427e-03  3.36037525e-02  1.52140758e-02 -9.16019346e-03\n  2.95096517e-02 -2.12643678e-02  4.84439225e-03  2.70270270e-02\n -1.76386913e-02 -3.03721402e-02  2.22139257e-02 -7.30460190e-05\n  1.39528088e-02  1.44092219e-02 -4.61647727e-03  2.61862290e-02\n -9.31720206e-03 -2.64598540e-02  2.73952851e-03  9.23862247e-03\n -6.76758682e-03  1.20853505e-02  1.65473744e-02  1.74282826e-04\n -1.98996306e-02 -1.77079259e-02  1.19819005e-02  4.57862355e-03\n  3.04799886e-02 -1.02971666e-02  1.70030026e-02 -6.90033987e-03\n  1.90127212e-03  1.23175655e-02  1.48943422e-02 -1.84706317e-03\n  4.44115470e-03  4.05305822e-03  8.27356130e-03  1.33011283e-02\n -2.61224490e-03  2.56015715e-02  1.20981901e-02 -7.44338611e-03\n -5.59262790e-03 -5.76468333e-02  1.19701594e-02  9.34892605e-03\n  1.92550295e-02 -4.16910950e-03  3.92490351e-04 -5.72157196e-03\n  6.41215350e-03  4.60693982e-03 -2.54984226e-02  1.07132130e-02\n -2.37419099e-02  1.46795197e-02  1.28004267e-02  7.01049929e-03\n  5.52359786e-03  1.54396229e-02 -1.03393086e-02  7.66568555e-03\n -5.68145342e-03  1.02011170e-02 -8.66008372e-03  1.29585455e-02\n  9.19679226e-03 -3.31094504e-03  2.91065553e-03  8.07570978e-03\n  2.12792590e-03  5.68323757e-03 -1.19232441e-02 -6.44208409e-03\n  7.30619603e-03 -6.34262748e-03  1.22922328e-02 -3.55860777e-03\n  7.89448952e-03  6.93127778e-03  3.88936906e-03  6.21118012e-03\n  6.66177729e-03  7.28553215e-04  3.00309410e-03 -8.25646454e-03\n  1.39363259e-02 -1.80456555e-03  3.01304649e-05  3.16360350e-03\n  2.16248686e-03 -4.16579255e-03  3.12989045e-03  3.54014161e-03\n  1.01345291e-02  3.49226079e-03  1.00274280e-02  2.18997284e-03\n  6.43901871e-03 -3.61867817e-03  9.44273345e-03  1.44489537e-02\n -3.44162293e-02 -8.16878232e-03 -2.73152812e-02  1.97368421e-02\n -1.73536440e-02  5.16733031e-04  1.31546968e-02  5.06761822e-03\n -3.96801718e-03 -8.80635016e-03 -1.15137046e-02 -1.11280954e-02\n  1.02021888e-02 -2.31974538e-02  2.66307413e-03  1.61547355e-02\n  1.66051661e-02 -5.44464610e-03  7.60340633e-03  6.39903411e-03\n -9.47753584e-03  1.77133168e-02 -1.41917825e-02  1.73839561e-02\n  8.86977158e-03  8.93881031e-03  1.60871973e-02 -6.53950954e-03\n -6.26497676e-03 -1.24927368e-03 -6.10873549e-04 -1.51938526e-02\n  3.99006916e-03 -1.88407077e-03  5.48591653e-03  3.40265759e-03\n -1.84757506e-02 -3.45495160e-03 -3.41910996e-02  1.01810305e-02\n -1.04153903e-02  1.12060426e-02  1.76330129e-02  2.23512424e-02\n  1.95086067e-02 -2.30893558e-04  1.25577367e-02 -1.45402708e-03\n  7.42348104e-03 -9.69277860e-03  1.38515254e-02  1.24767120e-02\n -5.38084086e-03 -1.20252278e-02  4.19905805e-03 -6.83731706e-03\n  5.97405553e-03  1.61189978e-02 -1.53066904e-03  2.78730106e-03\n -4.44728577e-03  1.09445236e-02  2.09892568e-03 -2.75595976e-04\n  8.62853205e-03 -2.04985241e-03  2.93046312e-03 -8.98416166e-03\n -3.30660494e-04 -1.15769453e-03 -4.47056876e-03  1.34996535e-02\n  1.58634648e-03  5.59803386e-03 -4.01900883e-03 -3.57172070e-03\n -1.66912932e-03  9.04481294e-04  3.88849335e-03  8.59247136e-03\n -1.92021636e-03  1.43615868e-03  5.05993452e-03 -1.35957355e-02\n  6.87791697e-03  5.99062102e-03  1.48469498e-02  5.70852030e-03\n -6.75854058e-03  2.12641540e-04  2.71060324e-03 -3.52485954e-03\n -7.28742786e-03  7.84996651e-03  1.38497528e-02  9.17695797e-04\n -3.53643841e-03  3.94332133e-03 -1.57113305e-03 -2.44433371e-02\n  8.60284432e-03 -2.00175920e-02  1.66458141e-02  1.41259564e-02\n  7.91431436e-04  1.13612400e-02  3.93567389e-03  7.24336674e-03\n -6.70154909e-04 -4.38472054e-04  1.59983486e-03  4.94641385e-03\n -8.71616079e-04  2.30923180e-04 -4.25826642e-03 -1.75180977e-03\n -7.69052105e-03  1.22233492e-03  1.10135591e-02 -2.40994810e-02\n -5.16006740e-03  2.42404996e-02 -7.80281108e-03 -1.32284777e-02\n -1.23766295e-02  1.83834335e-02 -4.98517566e-03  1.42921182e-02\n  6.21344079e-03  1.01539893e-02  1.33002532e-03  5.97716417e-03\n -1.26958332e-03  3.40680853e-03 -1.45437961e-02 -1.85123287e-03\n  7.98536874e-03 -7.87099742e-03 -5.07431162e-03  5.61797753e-03\n  1.61161599e-02 -5.06726798e-04 -2.66166443e-03  4.06669378e-03\n  1.07837181e-02  1.43501127e-02 -5.67859171e-04  1.13636364e-03\n  4.76237477e-03  7.26933373e-03  3.65719859e-04  2.94906166e-03\n -3.40210444e-03  1.07288289e-02  3.35335698e-03 -4.90502525e-03\n -7.32131639e-03  9.44429569e-03 -9.11480312e-03  1.08290950e-02\n  2.09446772e-03 -2.16216216e-04 -2.88350634e-04  6.36957985e-03\n -6.56810528e-03  2.16377362e-03 -6.18942520e-03  3.13812581e-04\n  7.98764449e-03  7.27795068e-03 -9.88734135e-03 -8.92985741e-03\n -2.12420675e-02  1.20022767e-02  1.53567761e-02 -2.52877992e-03\n -8.61964894e-03 -2.63029713e-03  1.07687048e-02 -8.21394922e-04\n  1.01791629e-02 -2.20201053e-03  1.96699290e-03  5.26693799e-04\n  1.79460184e-03 -8.83750926e-04  1.57781497e-03 -3.72350582e-03\n  9.15189267e-03 -9.73363088e-04  2.13873244e-04 -1.47303397e-03\n  4.63976397e-03  1.65786420e-03  2.22259003e-03 -1.81659471e-03\n -5.60151264e-03 -3.32754973e-04 -1.34810623e-02  1.43160127e-02\n  5.34619588e-03 -1.20536031e-03  5.91575958e-03  3.55210539e-03\n  2.01589274e-03  5.38049454e-04  8.41711480e-04  5.53660702e-03\n  7.64351927e-03 -1.82145163e-03  3.53405862e-03 -8.14804585e-03\n  1.06748352e-02  3.58192506e-03 -3.40898691e-03  1.49222893e-03\n -3.41555107e-03 -7.84358827e-03 -1.47679325e-02  1.43304233e-02\n  8.09632070e-03  2.09412035e-03  1.02879713e-02  2.45488021e-03\n -4.55761643e-03 -4.10013439e-04  4.14739193e-03 -4.85646204e-03\n -2.09801373e-03  8.13546927e-03 -4.91896180e-03  6.33286254e-03\n  1.65248099e-03 -8.13577708e-04].\nReshape your data either using array.reshape(-1, 1) if your data has a single feature or array.reshape(1, -1) if it contains a single sample."
          ]
        }
      ]
    },
    {
      "cell_type": "markdown",
      "metadata": {
        "id": "whtGQARwWfzJ"
      },
      "source": [
        "Can we get resample the frequency at which we pull data? Yes."
      ]
    },
    {
      "cell_type": "code",
      "metadata": {
        "colab": {
          "base_uri": "https://localhost:8080/",
          "height": 938
        },
        "id": "qXfYm-edVoWl",
        "outputId": "87448293-7ac6-4eb0-b8dd-783db0850f1f"
      },
      "source": [
        "tickers = ['AAPL','MSFT','TSLA','SPY']\n",
        "end = datetime.datetime.today() # Today's date\n",
        "start = end.replace(year = end.year - 2) # Price history to two years ago from today\n",
        "\n",
        "#initialize empty dataframes\n",
        "ticker_df_m = pd.DataFrame()\n",
        "output_df_m = pd.DataFrame()\n",
        "\n",
        "for ticker in tickers:\n",
        "    close_prices_m = yf.download(ticker,start=start, end=end,interval='1mo')['Adj Close']\n",
        "    ticker_df_m[ticker] = close_prices_m.round(2)\n",
        "    output_df_m = output_df_m.append(ticker_df_m)\n",
        "\n",
        "output_df_m.dropna(0,inplace=True)\n",
        "output_df_m"
      ],
      "execution_count": null,
      "outputs": [
        {
          "output_type": "stream",
          "text": [
            "[*********************100%***********************]  1 of 1 completed\n",
            "[*********************100%***********************]  1 of 1 completed\n",
            "[*********************100%***********************]  1 of 1 completed\n",
            "[*********************100%***********************]  1 of 1 completed\n"
          ],
          "name": "stdout"
        },
        {
          "output_type": "execute_result",
          "data": {
            "text/html": [
              "<div>\n",
              "<style scoped>\n",
              "    .dataframe tbody tr th:only-of-type {\n",
              "        vertical-align: middle;\n",
              "    }\n",
              "\n",
              "    .dataframe tbody tr th {\n",
              "        vertical-align: top;\n",
              "    }\n",
              "\n",
              "    .dataframe thead th {\n",
              "        text-align: right;\n",
              "    }\n",
              "</style>\n",
              "<table border=\"1\" class=\"dataframe\">\n",
              "  <thead>\n",
              "    <tr style=\"text-align: right;\">\n",
              "      <th></th>\n",
              "      <th>AAPL</th>\n",
              "      <th>MSFT</th>\n",
              "      <th>TSLA</th>\n",
              "      <th>SPY</th>\n",
              "    </tr>\n",
              "    <tr>\n",
              "      <th>Date</th>\n",
              "      <th></th>\n",
              "      <th></th>\n",
              "      <th></th>\n",
              "      <th></th>\n",
              "    </tr>\n",
              "  </thead>\n",
              "  <tbody>\n",
              "    <tr>\n",
              "      <th>2019-09-01</th>\n",
              "      <td>55.09</td>\n",
              "      <td>136.48</td>\n",
              "      <td>48.17</td>\n",
              "      <td>286.69</td>\n",
              "    </tr>\n",
              "    <tr>\n",
              "      <th>2019-10-01</th>\n",
              "      <td>61.19</td>\n",
              "      <td>140.74</td>\n",
              "      <td>62.98</td>\n",
              "      <td>294.38</td>\n",
              "    </tr>\n",
              "    <tr>\n",
              "      <th>2019-11-01</th>\n",
              "      <td>65.73</td>\n",
              "      <td>148.60</td>\n",
              "      <td>65.99</td>\n",
              "      <td>305.04</td>\n",
              "    </tr>\n",
              "    <tr>\n",
              "      <th>2019-12-01</th>\n",
              "      <td>72.44</td>\n",
              "      <td>155.33</td>\n",
              "      <td>83.67</td>\n",
              "      <td>312.37</td>\n",
              "    </tr>\n",
              "    <tr>\n",
              "      <th>2020-01-01</th>\n",
              "      <td>76.36</td>\n",
              "      <td>167.67</td>\n",
              "      <td>130.11</td>\n",
              "      <td>313.77</td>\n",
              "    </tr>\n",
              "    <tr>\n",
              "      <th>2020-02-01</th>\n",
              "      <td>67.44</td>\n",
              "      <td>159.57</td>\n",
              "      <td>133.60</td>\n",
              "      <td>288.93</td>\n",
              "    </tr>\n",
              "    <tr>\n",
              "      <th>2020-03-01</th>\n",
              "      <td>62.88</td>\n",
              "      <td>155.76</td>\n",
              "      <td>104.80</td>\n",
              "      <td>251.38</td>\n",
              "    </tr>\n",
              "    <tr>\n",
              "      <th>2020-04-01</th>\n",
              "      <td>72.65</td>\n",
              "      <td>177.00</td>\n",
              "      <td>156.38</td>\n",
              "      <td>284.96</td>\n",
              "    </tr>\n",
              "    <tr>\n",
              "      <th>2020-05-01</th>\n",
              "      <td>78.62</td>\n",
              "      <td>180.99</td>\n",
              "      <td>167.00</td>\n",
              "      <td>298.54</td>\n",
              "    </tr>\n",
              "    <tr>\n",
              "      <th>2020-06-01</th>\n",
              "      <td>90.45</td>\n",
              "      <td>201.56</td>\n",
              "      <td>215.96</td>\n",
              "      <td>302.50</td>\n",
              "    </tr>\n",
              "    <tr>\n",
              "      <th>2020-07-01</th>\n",
              "      <td>105.39</td>\n",
              "      <td>203.04</td>\n",
              "      <td>286.15</td>\n",
              "      <td>321.73</td>\n",
              "    </tr>\n",
              "    <tr>\n",
              "      <th>2020-08-01</th>\n",
              "      <td>127.98</td>\n",
              "      <td>223.37</td>\n",
              "      <td>498.32</td>\n",
              "      <td>344.18</td>\n",
              "    </tr>\n",
              "    <tr>\n",
              "      <th>2020-09-01</th>\n",
              "      <td>115.07</td>\n",
              "      <td>208.82</td>\n",
              "      <td>429.01</td>\n",
              "      <td>329.98</td>\n",
              "    </tr>\n",
              "    <tr>\n",
              "      <th>2020-10-01</th>\n",
              "      <td>108.16</td>\n",
              "      <td>201.01</td>\n",
              "      <td>388.04</td>\n",
              "      <td>323.04</td>\n",
              "    </tr>\n",
              "    <tr>\n",
              "      <th>2020-11-01</th>\n",
              "      <td>118.29</td>\n",
              "      <td>212.53</td>\n",
              "      <td>567.60</td>\n",
              "      <td>358.17</td>\n",
              "    </tr>\n",
              "    <tr>\n",
              "      <th>2020-12-01</th>\n",
              "      <td>132.07</td>\n",
              "      <td>221.40</td>\n",
              "      <td>705.67</td>\n",
              "      <td>369.87</td>\n",
              "    </tr>\n",
              "    <tr>\n",
              "      <th>2021-01-01</th>\n",
              "      <td>131.34</td>\n",
              "      <td>230.89</td>\n",
              "      <td>793.53</td>\n",
              "      <td>367.66</td>\n",
              "    </tr>\n",
              "    <tr>\n",
              "      <th>2021-02-01</th>\n",
              "      <td>120.69</td>\n",
              "      <td>231.31</td>\n",
              "      <td>675.50</td>\n",
              "      <td>377.88</td>\n",
              "    </tr>\n",
              "    <tr>\n",
              "      <th>2021-03-01</th>\n",
              "      <td>121.76</td>\n",
              "      <td>235.23</td>\n",
              "      <td>667.93</td>\n",
              "      <td>393.75</td>\n",
              "    </tr>\n",
              "    <tr>\n",
              "      <th>2021-04-01</th>\n",
              "      <td>131.04</td>\n",
              "      <td>251.60</td>\n",
              "      <td>709.44</td>\n",
              "      <td>415.94</td>\n",
              "    </tr>\n",
              "    <tr>\n",
              "      <th>2021-05-01</th>\n",
              "      <td>124.21</td>\n",
              "      <td>249.10</td>\n",
              "      <td>625.22</td>\n",
              "      <td>418.67</td>\n",
              "    </tr>\n",
              "    <tr>\n",
              "      <th>2021-06-01</th>\n",
              "      <td>136.76</td>\n",
              "      <td>270.90</td>\n",
              "      <td>679.70</td>\n",
              "      <td>426.66</td>\n",
              "    </tr>\n",
              "    <tr>\n",
              "      <th>2021-07-01</th>\n",
              "      <td>145.64</td>\n",
              "      <td>284.91</td>\n",
              "      <td>687.20</td>\n",
              "      <td>438.51</td>\n",
              "    </tr>\n",
              "    <tr>\n",
              "      <th>2021-08-01</th>\n",
              "      <td>145.92</td>\n",
              "      <td>289.46</td>\n",
              "      <td>699.10</td>\n",
              "      <td>442.49</td>\n",
              "    </tr>\n",
              "    <tr>\n",
              "      <th>2021-08-09</th>\n",
              "      <td>146.09</td>\n",
              "      <td>288.33</td>\n",
              "      <td>713.76</td>\n",
              "      <td>442.13</td>\n",
              "    </tr>\n",
              "  </tbody>\n",
              "</table>\n",
              "</div>"
            ],
            "text/plain": [
              "              AAPL    MSFT    TSLA     SPY\n",
              "Date                                      \n",
              "2019-09-01   55.09  136.48   48.17  286.69\n",
              "2019-10-01   61.19  140.74   62.98  294.38\n",
              "2019-11-01   65.73  148.60   65.99  305.04\n",
              "2019-12-01   72.44  155.33   83.67  312.37\n",
              "2020-01-01   76.36  167.67  130.11  313.77\n",
              "2020-02-01   67.44  159.57  133.60  288.93\n",
              "2020-03-01   62.88  155.76  104.80  251.38\n",
              "2020-04-01   72.65  177.00  156.38  284.96\n",
              "2020-05-01   78.62  180.99  167.00  298.54\n",
              "2020-06-01   90.45  201.56  215.96  302.50\n",
              "2020-07-01  105.39  203.04  286.15  321.73\n",
              "2020-08-01  127.98  223.37  498.32  344.18\n",
              "2020-09-01  115.07  208.82  429.01  329.98\n",
              "2020-10-01  108.16  201.01  388.04  323.04\n",
              "2020-11-01  118.29  212.53  567.60  358.17\n",
              "2020-12-01  132.07  221.40  705.67  369.87\n",
              "2021-01-01  131.34  230.89  793.53  367.66\n",
              "2021-02-01  120.69  231.31  675.50  377.88\n",
              "2021-03-01  121.76  235.23  667.93  393.75\n",
              "2021-04-01  131.04  251.60  709.44  415.94\n",
              "2021-05-01  124.21  249.10  625.22  418.67\n",
              "2021-06-01  136.76  270.90  679.70  426.66\n",
              "2021-07-01  145.64  284.91  687.20  438.51\n",
              "2021-08-01  145.92  289.46  699.10  442.49\n",
              "2021-08-09  146.09  288.33  713.76  442.13"
            ]
          },
          "metadata": {
            "tags": []
          },
          "execution_count": 23
        }
      ]
    },
    {
      "cell_type": "markdown",
      "metadata": {
        "id": "5WEhI228YvE5"
      },
      "source": [
        "Remember how I said that Pandas datareader is broken?"
      ]
    },
    {
      "cell_type": "markdown",
      "metadata": {
        "id": "AKVBAs_VZFEj"
      },
      "source": [
        "yfinance can fix it"
      ]
    },
    {
      "cell_type": "code",
      "metadata": {
        "colab": {
          "base_uri": "https://localhost:8080/",
          "height": 883
        },
        "id": "qeJkkR7bXITV",
        "outputId": "faf27c51-f3d0-4a5a-af68-7317087705d4"
      },
      "source": [
        "yf.pdr_override()\n",
        "\n",
        "data = pdr.get_data_yahoo(tickers, start=start, end=end)['Adj Close'].resample('M').ffill()\n",
        "data"
      ],
      "execution_count": null,
      "outputs": [
        {
          "output_type": "stream",
          "text": [
            "[*********************100%***********************]  4 of 4 completed\n"
          ],
          "name": "stdout"
        },
        {
          "output_type": "execute_result",
          "data": {
            "text/html": [
              "<div>\n",
              "<style scoped>\n",
              "    .dataframe tbody tr th:only-of-type {\n",
              "        vertical-align: middle;\n",
              "    }\n",
              "\n",
              "    .dataframe tbody tr th {\n",
              "        vertical-align: top;\n",
              "    }\n",
              "\n",
              "    .dataframe thead th {\n",
              "        text-align: right;\n",
              "    }\n",
              "</style>\n",
              "<table border=\"1\" class=\"dataframe\">\n",
              "  <thead>\n",
              "    <tr style=\"text-align: right;\">\n",
              "      <th></th>\n",
              "      <th>AAPL</th>\n",
              "      <th>MSFT</th>\n",
              "      <th>SPY</th>\n",
              "      <th>TSLA</th>\n",
              "    </tr>\n",
              "    <tr>\n",
              "      <th>Date</th>\n",
              "      <th></th>\n",
              "      <th></th>\n",
              "      <th></th>\n",
              "      <th></th>\n",
              "    </tr>\n",
              "  </thead>\n",
              "  <tbody>\n",
              "    <tr>\n",
              "      <th>2019-08-31</th>\n",
              "      <td>51.342091</td>\n",
              "      <td>135.327377</td>\n",
              "      <td>282.518219</td>\n",
              "      <td>45.122002</td>\n",
              "    </tr>\n",
              "    <tr>\n",
              "      <th>2019-09-30</th>\n",
              "      <td>55.088093</td>\n",
              "      <td>136.475876</td>\n",
              "      <td>288.015442</td>\n",
              "      <td>48.174000</td>\n",
              "    </tr>\n",
              "    <tr>\n",
              "      <th>2019-10-31</th>\n",
              "      <td>61.185486</td>\n",
              "      <td>140.736130</td>\n",
              "      <td>294.381989</td>\n",
              "      <td>62.984001</td>\n",
              "    </tr>\n",
              "    <tr>\n",
              "      <th>2019-11-30</th>\n",
              "      <td>65.930664</td>\n",
              "      <td>149.104645</td>\n",
              "      <td>305.038055</td>\n",
              "      <td>65.987999</td>\n",
              "    </tr>\n",
              "    <tr>\n",
              "      <th>2019-12-31</th>\n",
              "      <td>72.443558</td>\n",
              "      <td>155.329636</td>\n",
              "      <td>313.901062</td>\n",
              "      <td>83.666000</td>\n",
              "    </tr>\n",
              "    <tr>\n",
              "      <th>2020-01-31</th>\n",
              "      <td>76.356224</td>\n",
              "      <td>167.671310</td>\n",
              "      <td>313.774353</td>\n",
              "      <td>130.113998</td>\n",
              "    </tr>\n",
              "    <tr>\n",
              "      <th>2020-02-29</th>\n",
              "      <td>67.598061</td>\n",
              "      <td>160.010727</td>\n",
              "      <td>288.934174</td>\n",
              "      <td>133.598007</td>\n",
              "    </tr>\n",
              "    <tr>\n",
              "      <th>2020-03-31</th>\n",
              "      <td>62.882320</td>\n",
              "      <td>155.763794</td>\n",
              "      <td>252.854584</td>\n",
              "      <td>104.800003</td>\n",
              "    </tr>\n",
              "    <tr>\n",
              "      <th>2020-04-30</th>\n",
              "      <td>72.652580</td>\n",
              "      <td>176.998489</td>\n",
              "      <td>284.962952</td>\n",
              "      <td>156.376007</td>\n",
              "    </tr>\n",
              "    <tr>\n",
              "      <th>2020-05-31</th>\n",
              "      <td>78.834900</td>\n",
              "      <td>181.492691</td>\n",
              "      <td>298.540100</td>\n",
              "      <td>167.000000</td>\n",
              "    </tr>\n",
              "    <tr>\n",
              "      <th>2020-06-30</th>\n",
              "      <td>90.454079</td>\n",
              "      <td>201.558395</td>\n",
              "      <td>303.834534</td>\n",
              "      <td>215.962006</td>\n",
              "    </tr>\n",
              "    <tr>\n",
              "      <th>2020-07-31</th>\n",
              "      <td>105.390907</td>\n",
              "      <td>203.044006</td>\n",
              "      <td>321.727966</td>\n",
              "      <td>286.152008</td>\n",
              "    </tr>\n",
              "    <tr>\n",
              "      <th>2020-08-31</th>\n",
              "      <td>128.215347</td>\n",
              "      <td>223.907166</td>\n",
              "      <td>344.183533</td>\n",
              "      <td>498.320007</td>\n",
              "    </tr>\n",
              "    <tr>\n",
              "      <th>2020-09-30</th>\n",
              "      <td>115.069893</td>\n",
              "      <td>208.816544</td>\n",
              "      <td>331.296051</td>\n",
              "      <td>429.010010</td>\n",
              "    </tr>\n",
              "    <tr>\n",
              "      <th>2020-10-31</th>\n",
              "      <td>108.164307</td>\n",
              "      <td>201.013123</td>\n",
              "      <td>323.035675</td>\n",
              "      <td>388.040009</td>\n",
              "    </tr>\n",
              "    <tr>\n",
              "      <th>2020-11-30</th>\n",
              "      <td>118.493263</td>\n",
              "      <td>213.086075</td>\n",
              "      <td>358.174500</td>\n",
              "      <td>567.599976</td>\n",
              "    </tr>\n",
              "    <tr>\n",
              "      <th>2020-12-31</th>\n",
              "      <td>132.069473</td>\n",
              "      <td>221.397675</td>\n",
              "      <td>371.444244</td>\n",
              "      <td>705.669983</td>\n",
              "    </tr>\n",
              "    <tr>\n",
              "      <th>2021-01-31</th>\n",
              "      <td>131.342880</td>\n",
              "      <td>230.893845</td>\n",
              "      <td>367.659088</td>\n",
              "      <td>793.530029</td>\n",
              "    </tr>\n",
              "    <tr>\n",
              "      <th>2021-02-28</th>\n",
              "      <td>120.873283</td>\n",
              "      <td>231.844650</td>\n",
              "      <td>377.882019</td>\n",
              "      <td>675.500000</td>\n",
              "    </tr>\n",
              "    <tr>\n",
              "      <th>2021-03-31</th>\n",
              "      <td>121.760445</td>\n",
              "      <td>235.226837</td>\n",
              "      <td>395.037598</td>\n",
              "      <td>667.929993</td>\n",
              "    </tr>\n",
              "    <tr>\n",
              "      <th>2021-04-30</th>\n",
              "      <td>131.040756</td>\n",
              "      <td>251.599030</td>\n",
              "      <td>415.939209</td>\n",
              "      <td>709.440002</td>\n",
              "    </tr>\n",
              "    <tr>\n",
              "      <th>2021-05-31</th>\n",
              "      <td>124.423584</td>\n",
              "      <td>249.679993</td>\n",
              "      <td>418.670288</td>\n",
              "      <td>625.219971</td>\n",
              "    </tr>\n",
              "    <tr>\n",
              "      <th>2021-06-30</th>\n",
              "      <td>136.755112</td>\n",
              "      <td>270.899994</td>\n",
              "      <td>428.059998</td>\n",
              "      <td>679.700012</td>\n",
              "    </tr>\n",
              "    <tr>\n",
              "      <th>2021-07-31</th>\n",
              "      <td>145.641785</td>\n",
              "      <td>284.910004</td>\n",
              "      <td>438.510010</td>\n",
              "      <td>687.200012</td>\n",
              "    </tr>\n",
              "    <tr>\n",
              "      <th>2021-08-31</th>\n",
              "      <td>146.089996</td>\n",
              "      <td>288.329987</td>\n",
              "      <td>442.130005</td>\n",
              "      <td>713.760010</td>\n",
              "    </tr>\n",
              "  </tbody>\n",
              "</table>\n",
              "</div>"
            ],
            "text/plain": [
              "                  AAPL        MSFT         SPY        TSLA\n",
              "Date                                                      \n",
              "2019-08-31   51.342091  135.327377  282.518219   45.122002\n",
              "2019-09-30   55.088093  136.475876  288.015442   48.174000\n",
              "2019-10-31   61.185486  140.736130  294.381989   62.984001\n",
              "2019-11-30   65.930664  149.104645  305.038055   65.987999\n",
              "2019-12-31   72.443558  155.329636  313.901062   83.666000\n",
              "2020-01-31   76.356224  167.671310  313.774353  130.113998\n",
              "2020-02-29   67.598061  160.010727  288.934174  133.598007\n",
              "2020-03-31   62.882320  155.763794  252.854584  104.800003\n",
              "2020-04-30   72.652580  176.998489  284.962952  156.376007\n",
              "2020-05-31   78.834900  181.492691  298.540100  167.000000\n",
              "2020-06-30   90.454079  201.558395  303.834534  215.962006\n",
              "2020-07-31  105.390907  203.044006  321.727966  286.152008\n",
              "2020-08-31  128.215347  223.907166  344.183533  498.320007\n",
              "2020-09-30  115.069893  208.816544  331.296051  429.010010\n",
              "2020-10-31  108.164307  201.013123  323.035675  388.040009\n",
              "2020-11-30  118.493263  213.086075  358.174500  567.599976\n",
              "2020-12-31  132.069473  221.397675  371.444244  705.669983\n",
              "2021-01-31  131.342880  230.893845  367.659088  793.530029\n",
              "2021-02-28  120.873283  231.844650  377.882019  675.500000\n",
              "2021-03-31  121.760445  235.226837  395.037598  667.929993\n",
              "2021-04-30  131.040756  251.599030  415.939209  709.440002\n",
              "2021-05-31  124.423584  249.679993  418.670288  625.219971\n",
              "2021-06-30  136.755112  270.899994  428.059998  679.700012\n",
              "2021-07-31  145.641785  284.910004  438.510010  687.200012\n",
              "2021-08-31  146.089996  288.329987  442.130005  713.760010"
            ]
          },
          "metadata": {
            "tags": []
          },
          "execution_count": 24
        }
      ]
    },
    {
      "cell_type": "code",
      "metadata": {
        "colab": {
          "base_uri": "https://localhost:8080/",
          "height": 589
        },
        "id": "wYQXGH-DYrwB",
        "outputId": "9d7aa422-cda3-4ec8-b0e0-4cfd3d47d35d"
      },
      "source": [
        "ret_df_m=data.pct_change()\n",
        "ret_df_m.plot(figsize = (12, 9), subplots = True, title = 'Monthly Return Series')\n",
        "plt.show()"
      ],
      "execution_count": null,
      "outputs": [
        {
          "output_type": "display_data",
          "data": {
            "image/png": "[encoded data removed]",
            "text/plain": [
              "<Figure size 864x648 with 4 Axes>"
            ]
          },
          "metadata": {
            "tags": [],
            "needs_background": "light"
          }
        }
      ]
    },
    {
      "cell_type": "code",
      "metadata": {
        "id": "cjQ6_S67acKe"
      },
      "source": [
        ""
      ],
      "execution_count": null,
      "outputs": []
    }
  ]
}
{
  "nbformat": 4,
  "nbformat_minor": 0,
  "metadata": {
    "colab": {
      "name": "Lecture_04.ipynb",
      "provenance": [],
      "collapsed_sections": [],
      "authorship_tag": "ABX9TyNQAdnLDmMmxez9MCBBi4pJ",
      "include_colab_link": true
    },
    "kernelspec": {
      "name": "python3",
      "display_name": "Python 3"
    },
    "language_info": {
      "name": "python"
    }
  },
  "cells": [
    {
      "cell_type": "markdown",
      "metadata": {
        "id": "view-in-github",
        "colab_type": "text"
      },
      "source": [
        "<a href=\"https://colab.research.google.com/github/thefinancetutor/python-tutorial-colab/blob/main/Lecture_04.ipynb\" target=\"_parent\"><img src=\"https://colab.research.google.com/assets/colab-badge.svg\" alt=\"Open In Colab\"/></a>"
      ]
    },
    {
      "cell_type": "markdown",
      "metadata": {
        "id": "umRDPH7uI8ys"
      },
      "source": [
        "**PYTHON REVIEW**"
      ]
    },
    {
      "cell_type": "markdown",
      "metadata": {
        "id": "SdEVcQn3EDVJ"
      },
      "source": [
        "**Functions**"
      ]
    },
    {
      "cell_type": "code",
      "metadata": {
        "id": "N_ocV_6zDKQf"
      },
      "source": [
        "def f(x):\n",
        "  a = x + 3\n",
        "  b = a * 4\n",
        "  return b * b"
      ],
      "execution_count": 1,
      "outputs": []
    },
    {
      "cell_type": "code",
      "metadata": {
        "colab": {
          "base_uri": "https://localhost:8080/"
        },
        "id": "iJgPmIr8EScZ",
        "outputId": "5dcbacb2-c477-40fd-935b-bdb73cf373e7"
      },
      "source": [
        "f(60)"
      ],
      "execution_count": 2,
      "outputs": [
        {
          "output_type": "execute_result",
          "data": {
            "text/plain": [
              "63504"
            ]
          },
          "metadata": {
            "tags": []
          },
          "execution_count": 2
        }
      ]
    },
    {
      "cell_type": "markdown",
      "metadata": {
        "id": "YYzpsF3tEe3x"
      },
      "source": [
        "**Plotting**"
      ]
    },
    {
      "cell_type": "code",
      "metadata": {
        "colab": {
          "base_uri": "https://localhost:8080/",
          "height": 265
        },
        "id": "4mh0-YzZEVs1",
        "outputId": "f4fc4041-5ac9-437a-c532-1a2a911cf72e"
      },
      "source": [
        "import matplotlib.pyplot as plt\n",
        "import numpy as np\n",
        "\n",
        "x = np.arange(0.5, 2.05, 0.05)\n",
        "plt.plot(x, np.log(x))\n",
        "plt.show()"
      ],
      "execution_count": 4,
      "outputs": [
        {
          "output_type": "display_data",
          "data": {
            "image/png": "[encoded data removed]",
            "text/plain": [
              "<Figure size 432x288 with 1 Axes>"
            ]
          },
          "metadata": {
            "tags": [],
            "needs_background": "light"
          }
        }
      ]
    },
    {
      "cell_type": "markdown",
      "metadata": {
        "id": "xPKGk0iqGm3-"
      },
      "source": [
        "The exponential function often used in finance (e.g. continuous compounding). It is written as $e^x$ or $\\exp(x)$."
      ]
    },
    {
      "cell_type": "code",
      "metadata": {
        "id": "epsAtbrUGttt"
      },
      "source": [
        "def g(x):\n",
        "  return np.exp(x)"
      ],
      "execution_count": 5,
      "outputs": []
    },
    {
      "cell_type": "code",
      "metadata": {
        "colab": {
          "base_uri": "https://localhost:8080/"
        },
        "id": "BqrOUtnpEdrh",
        "outputId": "72d2bb14-7fbe-4c18-d53d-98a941c7a9db"
      },
      "source": [
        "g(2)"
      ],
      "execution_count": 6,
      "outputs": [
        {
          "output_type": "execute_result",
          "data": {
            "text/plain": [
              "7.38905609893065"
            ]
          },
          "metadata": {
            "tags": []
          },
          "execution_count": 6
        }
      ]
    },
    {
      "cell_type": "markdown",
      "metadata": {
        "id": "-rd2VkCkG22M"
      },
      "source": [
        "Let's create a function that does the following: $$ e^{x^{2}} $$"
      ]
    },
    {
      "cell_type": "code",
      "metadata": {
        "id": "T9YUD9a4G1Nm"
      },
      "source": [
        "def h(x):\n",
        "  return np.exp(x**2)"
      ],
      "execution_count": 7,
      "outputs": []
    },
    {
      "cell_type": "code",
      "metadata": {
        "colab": {
          "base_uri": "https://localhost:8080/"
        },
        "id": "5ycrxDbjHB46",
        "outputId": "8a52ac4b-79fe-4929-d62d-fe7625948954"
      },
      "source": [
        "h(2)"
      ],
      "execution_count": 13,
      "outputs": [
        {
          "output_type": "execute_result",
          "data": {
            "text/plain": [
              "54.598150033144236"
            ]
          },
          "metadata": {
            "tags": []
          },
          "execution_count": 13
        }
      ]
    },
    {
      "cell_type": "markdown",
      "metadata": {
        "id": "heDbyO48HEWa"
      },
      "source": [
        "This is not the same as $e^{2x}$.\n"
      ]
    },
    {
      "cell_type": "code",
      "metadata": {
        "id": "dI32ptx7HC0v"
      },
      "source": [
        "def i(x):\n",
        "  return np.exp(2*x)"
      ],
      "execution_count": 9,
      "outputs": []
    },
    {
      "cell_type": "code",
      "metadata": {
        "colab": {
          "base_uri": "https://localhost:8080/"
        },
        "id": "LTG1BD6FHJOz",
        "outputId": "bc16b19d-5977-4d83-aba8-5877565fd1ed"
      },
      "source": [
        "i(2)"
      ],
      "execution_count": 14,
      "outputs": [
        {
          "output_type": "execute_result",
          "data": {
            "text/plain": [
              "54.598150033144236"
            ]
          },
          "metadata": {
            "tags": []
          },
          "execution_count": 14
        }
      ]
    },
    {
      "cell_type": "markdown",
      "metadata": {
        "id": "HzHSVORGIaHY"
      },
      "source": [
        "I thought you said it wasn't the same?"
      ]
    },
    {
      "cell_type": "code",
      "metadata": {
        "colab": {
          "base_uri": "https://localhost:8080/",
          "height": 295
        },
        "id": "OqJ9Nr8YHJ08",
        "outputId": "359c71ff-c3b6-4a42-ae2f-f96b3bead29b"
      },
      "source": [
        "x = np.arange(0.5, 3.00, 0.1)\n",
        "plt.plot(x, h(x),label=\"h(x)\")\n",
        "plt.plot(x, i(x),label=\"i(x)\")\n",
        "plt.legend()\n",
        "plt.title('Comparing Functions')\n",
        "plt.xlabel('Input')\n",
        "plt.ylabel('Output')\n",
        "plt.show()"
      ],
      "execution_count": 19,
      "outputs": [
        {
          "output_type": "display_data",
          "data": {
            "image/png": "[encoded data removed]",
            "text/plain": [
              "<Figure size 432x288 with 1 Axes>"
            ]
          },
          "metadata": {
            "tags": [],
            "needs_background": "light"
          }
        }
      ]
    },
    {
      "cell_type": "markdown",
      "metadata": {
        "id": "wqf5Yv6TIeqN"
      },
      "source": [
        "**Simulation**\n"
      ]
    },
    {
      "cell_type": "code",
      "metadata": {
        "colab": {
          "base_uri": "https://localhost:8080/"
        },
        "id": "OiH2-ba3Hk2q",
        "outputId": "facb8cdc-755d-423e-b96d-7362ee940879"
      },
      "source": [
        "np.std(np.random.normal(100, 10, size=1000))"
      ],
      "execution_count": 20,
      "outputs": [
        {
          "output_type": "execute_result",
          "data": {
            "text/plain": [
              "10.051897871749333"
            ]
          },
          "metadata": {
            "tags": []
          },
          "execution_count": 20
        }
      ]
    },
    {
      "cell_type": "code",
      "metadata": {
        "colab": {
          "base_uri": "https://localhost:8080/",
          "height": 265
        },
        "id": "McaCmpb6IrgM",
        "outputId": "dc7d9f4e-3bf8-4814-8510-bf33302b128d"
      },
      "source": [
        "plt.hist(np.random.normal(100, 10, size=1000000), bins=50)\n",
        "plt.show()"
      ],
      "execution_count": 21,
      "outputs": [
        {
          "output_type": "display_data",
          "data": {
            "image/png": "[encoded data removed]",
            "text/plain": [
              "<Figure size 432x288 with 1 Axes>"
            ]
          },
          "metadata": {
            "tags": [],
            "needs_background": "light"
          }
        }
      ]
    },
    {
      "cell_type": "markdown",
      "metadata": {
        "id": "5nSxA2mXI7Ln"
      },
      "source": [
        "**Linear Regression**"
      ]
    },
    {
      "cell_type": "code",
      "metadata": {
        "colab": {
          "base_uri": "https://localhost:8080/"
        },
        "id": "imoicSJLJ11K",
        "outputId": "421ea817-3564-4180-b5fe-64981654c6ad"
      },
      "source": [
        "!pip install yfinance"
      ],
      "execution_count": 23,
      "outputs": [
        {
          "output_type": "stream",
          "text": [
            "Collecting yfinance\n",
            "  Downloading yfinance-0.1.63.tar.gz (26 kB)\n",
            "Requirement already satisfied: pandas>=0.24 in /usr/local/lib/python3.7/dist-packages (from yfinance) (1.1.5)\n",
            "Requirement already satisfied: numpy>=1.15 in /usr/local/lib/python3.7/dist-packages (from yfinance) (1.19.5)\n",
            "Requirement already satisfied: requests>=2.20 in /usr/local/lib/python3.7/dist-packages (from yfinance) (2.23.0)\n",
            "Requirement already satisfied: multitasking>=0.0.7 in /usr/local/lib/python3.7/dist-packages (from yfinance) (0.0.9)\n",
            "Collecting lxml>=4.5.1\n",
            "  Downloading lxml-4.6.3-cp37-cp37m-manylinux2014_x86_64.whl (6.3 MB)\n",
            "\u001b[K     |████████████████████████████████| 6.3 MB 36.1 MB/s \n",
            "\u001b[?25hRequirement already satisfied: python-dateutil>=2.7.3 in /usr/local/lib/python3.7/dist-packages (from pandas>=0.24->yfinance) (2.8.1)\n",
            "Requirement already satisfied: pytz>=2017.2 in /usr/local/lib/python3.7/dist-packages (from pandas>=0.24->yfinance) (2018.9)\n",
            "Requirement already satisfied: six>=1.5 in /usr/local/lib/python3.7/dist-packages (from python-dateutil>=2.7.3->pandas>=0.24->yfinance) (1.15.0)\n",
            "Requirement already satisfied: chardet<4,>=3.0.2 in /usr/local/lib/python3.7/dist-packages (from requests>=2.20->yfinance) (3.0.4)\n",
            "Requirement already satisfied: urllib3!=1.25.0,!=1.25.1,<1.26,>=1.21.1 in /usr/local/lib/python3.7/dist-packages (from requests>=2.20->yfinance) (1.24.3)\n",
            "Requirement already satisfied: idna<3,>=2.5 in /usr/local/lib/python3.7/dist-packages (from requests>=2.20->yfinance) (2.10)\n",
            "Requirement already satisfied: certifi>=2017.4.17 in /usr/local/lib/python3.7/dist-packages (from requests>=2.20->yfinance) (2021.5.30)\n",
            "Building wheels for collected packages: yfinance\n",
            "  Building wheel for yfinance (setup.py) ... \u001b[?25l\u001b[?25hdone\n",
            "  Created wheel for yfinance: filename=yfinance-0.1.63-py2.py3-none-any.whl size=23919 sha256=8f2c9832352dd7a806332382e7cd79465e1330c546810dbe1d2f6cd50039b1f9\n",
            "  Stored in directory: /root/.cache/pip/wheels/fe/87/8b/7ec24486e001d3926537f5f7801f57a74d181be25b11157983\n",
            "Successfully built yfinance\n",
            "Installing collected packages: lxml, yfinance\n",
            "  Attempting uninstall: lxml\n",
            "    Found existing installation: lxml 4.2.6\n",
            "    Uninstalling lxml-4.2.6:\n",
            "      Successfully uninstalled lxml-4.2.6\n",
            "Successfully installed lxml-4.6.3 yfinance-0.1.63\n"
          ],
          "name": "stdout"
        }
      ]
    },
    {
      "cell_type": "code",
      "metadata": {
        "colab": {
          "base_uri": "https://localhost:8080/"
        },
        "id": "Z0YYARW4I1nU",
        "outputId": "6a244e9f-63d4-4b78-9c4f-d1c8a7f9f400"
      },
      "source": [
        "import yfinance as yf\n",
        "import statsmodels.tools\n",
        "#import datetime\n",
        "from pandas_datareader import data as pdr\n",
        "from statsmodels.api import OLS\n",
        "\n",
        "yf.pdr_override()\n",
        "mret = pdr.get_data_yahoo(['TSLA', 'SPY'])['Adj Close'].resample('M').ffill().pct_change()\n",
        "mret_c = statsmodels.tools.tools.add_constant(mret, prepend=True)\n"
      ],
      "execution_count": 39,
      "outputs": [
        {
          "output_type": "stream",
          "text": [
            "[*********************100%***********************]  2 of 2 completed\n"
          ],
          "name": "stdout"
        }
      ]
    },
    {
      "cell_type": "code",
      "metadata": {
        "colab": {
          "base_uri": "https://localhost:8080/"
        },
        "id": "Iz-BR0QoJxOo",
        "outputId": "8d694652-11da-48db-e640-9f531bc2f330"
      },
      "source": [
        "results = OLS(mret_c['TSLA'],mret_c[['const','SPY']],missing='drop').fit()\n",
        "print(results.summary())"
      ],
      "execution_count": 42,
      "outputs": [
        {
          "output_type": "stream",
          "text": [
            "                            OLS Regression Results                            \n",
            "==============================================================================\n",
            "Dep. Variable:                   TSLA   R-squared:                       0.089\n",
            "Model:                            OLS   Adj. R-squared:                  0.082\n",
            "Method:                 Least Squares   F-statistic:                     12.91\n",
            "Date:                Thu, 12 Aug 2021   Prob (F-statistic):           0.000460\n",
            "Time:                        02:32:52   Log-Likelihood:                 45.163\n",
            "No. Observations:                 134   AIC:                            -86.33\n",
            "Df Residuals:                     132   BIC:                            -80.53\n",
            "Df Model:                           1                                         \n",
            "Covariance Type:            nonrobust                                         \n",
            "==============================================================================\n",
            "                 coef    std err          t      P>|t|      [0.025      0.975]\n",
            "------------------------------------------------------------------------------\n",
            "const          0.0333      0.016      2.096      0.038       0.002       0.065\n",
            "SPY            1.3961      0.389      3.593      0.000       0.627       2.165\n",
            "==============================================================================\n",
            "Omnibus:                       45.531   Durbin-Watson:                   1.719\n",
            "Prob(Omnibus):                  0.000   Jarque-Bera (JB):              111.556\n",
            "Skew:                           1.367   Prob(JB):                     5.97e-25\n",
            "Kurtosis:                       6.536   Cond. No.                         25.8\n",
            "==============================================================================\n",
            "\n",
            "Warnings:\n",
            "[1] Standard Errors assume that the covariance matrix of the errors is correctly specified.\n"
          ],
          "name": "stdout"
        }
      ]
    },
    {
      "cell_type": "markdown",
      "metadata": {
        "id": "KfpsBbSPLZsS"
      },
      "source": [
        "Let's draw the regression line"
      ]
    },
    {
      "cell_type": "code",
      "metadata": {
        "colab": {
          "base_uri": "https://localhost:8080/"
        },
        "id": "jlxnnnEoLtYB",
        "outputId": "a87357cd-0c14-4eb3-f575-b41e61753f87"
      },
      "source": [
        "results.params"
      ],
      "execution_count": 33,
      "outputs": [
        {
          "output_type": "execute_result",
          "data": {
            "text/plain": [
              "SPY    1.661199\n",
              "dtype: float64"
            ]
          },
          "metadata": {
            "tags": []
          },
          "execution_count": 33
        }
      ]
    },
    {
      "cell_type": "code",
      "metadata": {
        "id": "D1Gb0X43Kn2U"
      },
      "source": [
        "b = results.params['const']\n",
        "m = results.params['SPY']\n",
        "x = np.array([mret.SPY.min(), mret.SPY.max()])\n",
        "y = b + m * x"
      ],
      "execution_count": 43,
      "outputs": []
    },
    {
      "cell_type": "code",
      "metadata": {
        "colab": {
          "base_uri": "https://localhost:8080/",
          "height": 295
        },
        "id": "D--axE7CLc7Q",
        "outputId": "0f7f6198-93a0-40ca-cc56-2e6ee8d91411"
      },
      "source": [
        "plt.scatter(mret_c.SPY, mret_c.TSLA, label='Observations')\n",
        "plt.title('TSLA vs. SPY Monthly Returns')\n",
        "plt.xlabel('SPY')\n",
        "plt.ylabel('TSLA')\n",
        "plt.plot(x, y, color='k', label='Regression')\n",
        "plt.legend()\n",
        "plt.show()"
      ],
      "execution_count": 44,
      "outputs": [
        {
          "output_type": "display_data",
          "data": {
            "image/png": "[encoded data removed]",
            "text/plain": [
              "<Figure size 432x288 with 1 Axes>"
            ]
          },
          "metadata": {
            "tags": [],
            "needs_background": "light"
          }
        }
      ]
    },
    {
      "cell_type": "markdown",
      "metadata": {
        "id": "YdsNMJCjNbrc"
      },
      "source": [
        "**Matrices**"
      ]
    },
    {
      "cell_type": "code",
      "metadata": {
        "id": "KYIEZBXONXBu"
      },
      "source": [
        "a = np.array([1, 2, 3, 4, 5, 6, 7, 8])\n",
        "b = np.array([[1, 2, 3, 4, 5, 6, 7, 8], [8, 7, 6, 5, 4, 3, 2, 1]])\n",
        "c = np.array([1, 2])"
      ],
      "execution_count": 45,
      "outputs": []
    },
    {
      "cell_type": "code",
      "metadata": {
        "colab": {
          "base_uri": "https://localhost:8080/"
        },
        "id": "xs63iuLONfvf",
        "outputId": "813ba858-1953-4c84-c418-29f141444294"
      },
      "source": [
        "b@a"
      ],
      "execution_count": 46,
      "outputs": [
        {
          "output_type": "execute_result",
          "data": {
            "text/plain": [
              "array([204, 120])"
            ]
          },
          "metadata": {
            "tags": []
          },
          "execution_count": 46
        }
      ]
    },
    {
      "cell_type": "code",
      "metadata": {
        "colab": {
          "base_uri": "https://localhost:8080/"
        },
        "id": "Av60v8OyNhTw",
        "outputId": "25eeb76d-eb66-44cb-ac69-cc5a28291e07"
      },
      "source": [
        "c@b"
      ],
      "execution_count": 47,
      "outputs": [
        {
          "output_type": "execute_result",
          "data": {
            "text/plain": [
              "array([17, 16, 15, 14, 13, 12, 11, 10])"
            ]
          },
          "metadata": {
            "tags": []
          },
          "execution_count": 47
        }
      ]
    },
    {
      "cell_type": "code",
      "metadata": {
        "colab": {
          "base_uri": "https://localhost:8080/"
        },
        "id": "BE3z7wRRNoAK",
        "outputId": "ccc09a9d-d2f3-4512-b274-5cb659ef2065"
      },
      "source": [
        "c@b@a"
      ],
      "execution_count": 48,
      "outputs": [
        {
          "output_type": "execute_result",
          "data": {
            "text/plain": [
              "444"
            ]
          },
          "metadata": {
            "tags": []
          },
          "execution_count": 48
        }
      ]
    }
  ]
}